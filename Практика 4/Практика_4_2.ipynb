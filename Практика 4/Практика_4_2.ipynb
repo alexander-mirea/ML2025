{
  "cells": [
    {
      "cell_type": "markdown",
      "metadata": {
        "id": "icLMww9IFm1j"
      },
      "source": [
        "# Классификация. Оценочные показатели\n"
      ]
    },
    {
      "cell_type": "code",
      "execution_count": 319,
      "metadata": {
        "id": "1i3T35pV1yqk"
      },
      "outputs": [],
      "source": [
        "import pandas as pd\n",
        "import numpy as np\n",
        "import matplotlib.pyplot as plt\n",
        "import seaborn as sns"
      ]
    },
    {
      "cell_type": "markdown",
      "metadata": {
        "id": "ax8ZIs7AgZv_"
      },
      "source": [
        "Задача:\n",
        "\n",
        "https://www.kaggle.com/datasets/taweilo/loan-approval-classification-data"
      ]
    },
    {
      "cell_type": "code",
      "execution_count": 320,
      "metadata": {
        "colab": {
          "base_uri": "https://localhost:8080/",
          "height": 163
        },
        "id": "2jd8W0L8y4wE",
        "outputId": "82c92810-bcad-4d25-cd36-2faf1389b3d7"
      },
      "outputs": [
        {
          "output_type": "execute_result",
          "data": {
            "text/plain": [
              "   person_age person_gender person_education  person_income  person_emp_exp  \\\n",
              "0        22.0        female           Master        71948.0               0   \n",
              "1        21.0        female      High School        12282.0               0   \n",
              "2        25.0        female      High School        12438.0               3   \n",
              "\n",
              "  person_home_ownership  loan_amnt loan_intent  loan_int_rate  \\\n",
              "0                  RENT    35000.0    PERSONAL          16.02   \n",
              "1                   OWN     1000.0   EDUCATION          11.14   \n",
              "2              MORTGAGE     5500.0     MEDICAL          12.87   \n",
              "\n",
              "   loan_percent_income  cb_person_cred_hist_length  credit_score  \\\n",
              "0                 0.49                         3.0           561   \n",
              "1                 0.08                         2.0           504   \n",
              "2                 0.44                         3.0           635   \n",
              "\n",
              "  previous_loan_defaults_on_file  loan_status  \n",
              "0                             No            1  \n",
              "1                            Yes            0  \n",
              "2                             No            1  "
            ],
            "text/html": [
              "\n",
              "  <div id=\"df-23d02d08-9f9c-4fac-a3c2-bedcaf3b7e74\" class=\"colab-df-container\">\n",
              "    <div>\n",
              "<style scoped>\n",
              "    .dataframe tbody tr th:only-of-type {\n",
              "        vertical-align: middle;\n",
              "    }\n",
              "\n",
              "    .dataframe tbody tr th {\n",
              "        vertical-align: top;\n",
              "    }\n",
              "\n",
              "    .dataframe thead th {\n",
              "        text-align: right;\n",
              "    }\n",
              "</style>\n",
              "<table border=\"1\" class=\"dataframe\">\n",
              "  <thead>\n",
              "    <tr style=\"text-align: right;\">\n",
              "      <th></th>\n",
              "      <th>person_age</th>\n",
              "      <th>person_gender</th>\n",
              "      <th>person_education</th>\n",
              "      <th>person_income</th>\n",
              "      <th>person_emp_exp</th>\n",
              "      <th>person_home_ownership</th>\n",
              "      <th>loan_amnt</th>\n",
              "      <th>loan_intent</th>\n",
              "      <th>loan_int_rate</th>\n",
              "      <th>loan_percent_income</th>\n",
              "      <th>cb_person_cred_hist_length</th>\n",
              "      <th>credit_score</th>\n",
              "      <th>previous_loan_defaults_on_file</th>\n",
              "      <th>loan_status</th>\n",
              "    </tr>\n",
              "  </thead>\n",
              "  <tbody>\n",
              "    <tr>\n",
              "      <th>0</th>\n",
              "      <td>22.0</td>\n",
              "      <td>female</td>\n",
              "      <td>Master</td>\n",
              "      <td>71948.0</td>\n",
              "      <td>0</td>\n",
              "      <td>RENT</td>\n",
              "      <td>35000.0</td>\n",
              "      <td>PERSONAL</td>\n",
              "      <td>16.02</td>\n",
              "      <td>0.49</td>\n",
              "      <td>3.0</td>\n",
              "      <td>561</td>\n",
              "      <td>No</td>\n",
              "      <td>1</td>\n",
              "    </tr>\n",
              "    <tr>\n",
              "      <th>1</th>\n",
              "      <td>21.0</td>\n",
              "      <td>female</td>\n",
              "      <td>High School</td>\n",
              "      <td>12282.0</td>\n",
              "      <td>0</td>\n",
              "      <td>OWN</td>\n",
              "      <td>1000.0</td>\n",
              "      <td>EDUCATION</td>\n",
              "      <td>11.14</td>\n",
              "      <td>0.08</td>\n",
              "      <td>2.0</td>\n",
              "      <td>504</td>\n",
              "      <td>Yes</td>\n",
              "      <td>0</td>\n",
              "    </tr>\n",
              "    <tr>\n",
              "      <th>2</th>\n",
              "      <td>25.0</td>\n",
              "      <td>female</td>\n",
              "      <td>High School</td>\n",
              "      <td>12438.0</td>\n",
              "      <td>3</td>\n",
              "      <td>MORTGAGE</td>\n",
              "      <td>5500.0</td>\n",
              "      <td>MEDICAL</td>\n",
              "      <td>12.87</td>\n",
              "      <td>0.44</td>\n",
              "      <td>3.0</td>\n",
              "      <td>635</td>\n",
              "      <td>No</td>\n",
              "      <td>1</td>\n",
              "    </tr>\n",
              "  </tbody>\n",
              "</table>\n",
              "</div>\n",
              "    <div class=\"colab-df-buttons\">\n",
              "\n",
              "  <div class=\"colab-df-container\">\n",
              "    <button class=\"colab-df-convert\" onclick=\"convertToInteractive('df-23d02d08-9f9c-4fac-a3c2-bedcaf3b7e74')\"\n",
              "            title=\"Convert this dataframe to an interactive table.\"\n",
              "            style=\"display:none;\">\n",
              "\n",
              "  <svg xmlns=\"http://www.w3.org/2000/svg\" height=\"24px\" viewBox=\"0 -960 960 960\">\n",
              "    <path d=\"M120-120v-720h720v720H120Zm60-500h600v-160H180v160Zm220 220h160v-160H400v160Zm0 220h160v-160H400v160ZM180-400h160v-160H180v160Zm440 0h160v-160H620v160ZM180-180h160v-160H180v160Zm440 0h160v-160H620v160Z\"/>\n",
              "  </svg>\n",
              "    </button>\n",
              "\n",
              "  <style>\n",
              "    .colab-df-container {\n",
              "      display:flex;\n",
              "      gap: 12px;\n",
              "    }\n",
              "\n",
              "    .colab-df-convert {\n",
              "      background-color: #E8F0FE;\n",
              "      border: none;\n",
              "      border-radius: 50%;\n",
              "      cursor: pointer;\n",
              "      display: none;\n",
              "      fill: #1967D2;\n",
              "      height: 32px;\n",
              "      padding: 0 0 0 0;\n",
              "      width: 32px;\n",
              "    }\n",
              "\n",
              "    .colab-df-convert:hover {\n",
              "      background-color: #E2EBFA;\n",
              "      box-shadow: 0px 1px 2px rgba(60, 64, 67, 0.3), 0px 1px 3px 1px rgba(60, 64, 67, 0.15);\n",
              "      fill: #174EA6;\n",
              "    }\n",
              "\n",
              "    .colab-df-buttons div {\n",
              "      margin-bottom: 4px;\n",
              "    }\n",
              "\n",
              "    [theme=dark] .colab-df-convert {\n",
              "      background-color: #3B4455;\n",
              "      fill: #D2E3FC;\n",
              "    }\n",
              "\n",
              "    [theme=dark] .colab-df-convert:hover {\n",
              "      background-color: #434B5C;\n",
              "      box-shadow: 0px 1px 3px 1px rgba(0, 0, 0, 0.15);\n",
              "      filter: drop-shadow(0px 1px 2px rgba(0, 0, 0, 0.3));\n",
              "      fill: #FFFFFF;\n",
              "    }\n",
              "  </style>\n",
              "\n",
              "    <script>\n",
              "      const buttonEl =\n",
              "        document.querySelector('#df-23d02d08-9f9c-4fac-a3c2-bedcaf3b7e74 button.colab-df-convert');\n",
              "      buttonEl.style.display =\n",
              "        google.colab.kernel.accessAllowed ? 'block' : 'none';\n",
              "\n",
              "      async function convertToInteractive(key) {\n",
              "        const element = document.querySelector('#df-23d02d08-9f9c-4fac-a3c2-bedcaf3b7e74');\n",
              "        const dataTable =\n",
              "          await google.colab.kernel.invokeFunction('convertToInteractive',\n",
              "                                                    [key], {});\n",
              "        if (!dataTable) return;\n",
              "\n",
              "        const docLinkHtml = 'Like what you see? Visit the ' +\n",
              "          '<a target=\"_blank\" href=https://colab.research.google.com/notebooks/data_table.ipynb>data table notebook</a>'\n",
              "          + ' to learn more about interactive tables.';\n",
              "        element.innerHTML = '';\n",
              "        dataTable['output_type'] = 'display_data';\n",
              "        await google.colab.output.renderOutput(dataTable, element);\n",
              "        const docLink = document.createElement('div');\n",
              "        docLink.innerHTML = docLinkHtml;\n",
              "        element.appendChild(docLink);\n",
              "      }\n",
              "    </script>\n",
              "  </div>\n",
              "\n",
              "\n",
              "    <div id=\"df-a77097ee-514c-434a-a7bf-465ce3fce02c\">\n",
              "      <button class=\"colab-df-quickchart\" onclick=\"quickchart('df-a77097ee-514c-434a-a7bf-465ce3fce02c')\"\n",
              "                title=\"Suggest charts\"\n",
              "                style=\"display:none;\">\n",
              "\n",
              "<svg xmlns=\"http://www.w3.org/2000/svg\" height=\"24px\"viewBox=\"0 0 24 24\"\n",
              "     width=\"24px\">\n",
              "    <g>\n",
              "        <path d=\"M19 3H5c-1.1 0-2 .9-2 2v14c0 1.1.9 2 2 2h14c1.1 0 2-.9 2-2V5c0-1.1-.9-2-2-2zM9 17H7v-7h2v7zm4 0h-2V7h2v10zm4 0h-2v-4h2v4z\"/>\n",
              "    </g>\n",
              "</svg>\n",
              "      </button>\n",
              "\n",
              "<style>\n",
              "  .colab-df-quickchart {\n",
              "      --bg-color: #E8F0FE;\n",
              "      --fill-color: #1967D2;\n",
              "      --hover-bg-color: #E2EBFA;\n",
              "      --hover-fill-color: #174EA6;\n",
              "      --disabled-fill-color: #AAA;\n",
              "      --disabled-bg-color: #DDD;\n",
              "  }\n",
              "\n",
              "  [theme=dark] .colab-df-quickchart {\n",
              "      --bg-color: #3B4455;\n",
              "      --fill-color: #D2E3FC;\n",
              "      --hover-bg-color: #434B5C;\n",
              "      --hover-fill-color: #FFFFFF;\n",
              "      --disabled-bg-color: #3B4455;\n",
              "      --disabled-fill-color: #666;\n",
              "  }\n",
              "\n",
              "  .colab-df-quickchart {\n",
              "    background-color: var(--bg-color);\n",
              "    border: none;\n",
              "    border-radius: 50%;\n",
              "    cursor: pointer;\n",
              "    display: none;\n",
              "    fill: var(--fill-color);\n",
              "    height: 32px;\n",
              "    padding: 0;\n",
              "    width: 32px;\n",
              "  }\n",
              "\n",
              "  .colab-df-quickchart:hover {\n",
              "    background-color: var(--hover-bg-color);\n",
              "    box-shadow: 0 1px 2px rgba(60, 64, 67, 0.3), 0 1px 3px 1px rgba(60, 64, 67, 0.15);\n",
              "    fill: var(--button-hover-fill-color);\n",
              "  }\n",
              "\n",
              "  .colab-df-quickchart-complete:disabled,\n",
              "  .colab-df-quickchart-complete:disabled:hover {\n",
              "    background-color: var(--disabled-bg-color);\n",
              "    fill: var(--disabled-fill-color);\n",
              "    box-shadow: none;\n",
              "  }\n",
              "\n",
              "  .colab-df-spinner {\n",
              "    border: 2px solid var(--fill-color);\n",
              "    border-color: transparent;\n",
              "    border-bottom-color: var(--fill-color);\n",
              "    animation:\n",
              "      spin 1s steps(1) infinite;\n",
              "  }\n",
              "\n",
              "  @keyframes spin {\n",
              "    0% {\n",
              "      border-color: transparent;\n",
              "      border-bottom-color: var(--fill-color);\n",
              "      border-left-color: var(--fill-color);\n",
              "    }\n",
              "    20% {\n",
              "      border-color: transparent;\n",
              "      border-left-color: var(--fill-color);\n",
              "      border-top-color: var(--fill-color);\n",
              "    }\n",
              "    30% {\n",
              "      border-color: transparent;\n",
              "      border-left-color: var(--fill-color);\n",
              "      border-top-color: var(--fill-color);\n",
              "      border-right-color: var(--fill-color);\n",
              "    }\n",
              "    40% {\n",
              "      border-color: transparent;\n",
              "      border-right-color: var(--fill-color);\n",
              "      border-top-color: var(--fill-color);\n",
              "    }\n",
              "    60% {\n",
              "      border-color: transparent;\n",
              "      border-right-color: var(--fill-color);\n",
              "    }\n",
              "    80% {\n",
              "      border-color: transparent;\n",
              "      border-right-color: var(--fill-color);\n",
              "      border-bottom-color: var(--fill-color);\n",
              "    }\n",
              "    90% {\n",
              "      border-color: transparent;\n",
              "      border-bottom-color: var(--fill-color);\n",
              "    }\n",
              "  }\n",
              "</style>\n",
              "\n",
              "      <script>\n",
              "        async function quickchart(key) {\n",
              "          const quickchartButtonEl =\n",
              "            document.querySelector('#' + key + ' button');\n",
              "          quickchartButtonEl.disabled = true;  // To prevent multiple clicks.\n",
              "          quickchartButtonEl.classList.add('colab-df-spinner');\n",
              "          try {\n",
              "            const charts = await google.colab.kernel.invokeFunction(\n",
              "                'suggestCharts', [key], {});\n",
              "          } catch (error) {\n",
              "            console.error('Error during call to suggestCharts:', error);\n",
              "          }\n",
              "          quickchartButtonEl.classList.remove('colab-df-spinner');\n",
              "          quickchartButtonEl.classList.add('colab-df-quickchart-complete');\n",
              "        }\n",
              "        (() => {\n",
              "          let quickchartButtonEl =\n",
              "            document.querySelector('#df-a77097ee-514c-434a-a7bf-465ce3fce02c button');\n",
              "          quickchartButtonEl.style.display =\n",
              "            google.colab.kernel.accessAllowed ? 'block' : 'none';\n",
              "        })();\n",
              "      </script>\n",
              "    </div>\n",
              "    </div>\n",
              "  </div>\n"
            ],
            "application/vnd.google.colaboratory.intrinsic+json": {
              "type": "dataframe",
              "variable_name": "df",
              "summary": "{\n  \"name\": \"df\",\n  \"rows\": 45000,\n  \"fields\": [\n    {\n      \"column\": \"person_age\",\n      \"properties\": {\n        \"dtype\": \"number\",\n        \"std\": 6.045108211348622,\n        \"min\": 20.0,\n        \"max\": 144.0,\n        \"num_unique_values\": 60,\n        \"samples\": [\n          22.0,\n          26.0,\n          53.0\n        ],\n        \"semantic_type\": \"\",\n        \"description\": \"\"\n      }\n    },\n    {\n      \"column\": \"person_gender\",\n      \"properties\": {\n        \"dtype\": \"category\",\n        \"num_unique_values\": 2,\n        \"samples\": [\n          \"male\",\n          \"female\"\n        ],\n        \"semantic_type\": \"\",\n        \"description\": \"\"\n      }\n    },\n    {\n      \"column\": \"person_education\",\n      \"properties\": {\n        \"dtype\": \"category\",\n        \"num_unique_values\": 5,\n        \"samples\": [\n          \"High School\",\n          \"Doctorate\"\n        ],\n        \"semantic_type\": \"\",\n        \"description\": \"\"\n      }\n    },\n    {\n      \"column\": \"person_income\",\n      \"properties\": {\n        \"dtype\": \"number\",\n        \"std\": 80422.49863189556,\n        \"min\": 8000.0,\n        \"max\": 7200766.0,\n        \"num_unique_values\": 33989,\n        \"samples\": [\n          48967.0,\n          31001.0\n        ],\n        \"semantic_type\": \"\",\n        \"description\": \"\"\n      }\n    },\n    {\n      \"column\": \"person_emp_exp\",\n      \"properties\": {\n        \"dtype\": \"number\",\n        \"std\": 6,\n        \"min\": 0,\n        \"max\": 125,\n        \"num_unique_values\": 63,\n        \"samples\": [\n          93,\n          76\n        ],\n        \"semantic_type\": \"\",\n        \"description\": \"\"\n      }\n    },\n    {\n      \"column\": \"person_home_ownership\",\n      \"properties\": {\n        \"dtype\": \"category\",\n        \"num_unique_values\": 4,\n        \"samples\": [\n          \"OWN\",\n          \"OTHER\"\n        ],\n        \"semantic_type\": \"\",\n        \"description\": \"\"\n      }\n    },\n    {\n      \"column\": \"loan_amnt\",\n      \"properties\": {\n        \"dtype\": \"number\",\n        \"std\": 6314.8866905411405,\n        \"min\": 500.0,\n        \"max\": 35000.0,\n        \"num_unique_values\": 4483,\n        \"samples\": [\n          5800.0,\n          28338.0\n        ],\n        \"semantic_type\": \"\",\n        \"description\": \"\"\n      }\n    },\n    {\n      \"column\": \"loan_intent\",\n      \"properties\": {\n        \"dtype\": \"category\",\n        \"num_unique_values\": 6,\n        \"samples\": [\n          \"PERSONAL\",\n          \"EDUCATION\"\n        ],\n        \"semantic_type\": \"\",\n        \"description\": \"\"\n      }\n    },\n    {\n      \"column\": \"loan_int_rate\",\n      \"properties\": {\n        \"dtype\": \"number\",\n        \"std\": 2.9788082802254734,\n        \"min\": 5.42,\n        \"max\": 20.0,\n        \"num_unique_values\": 1302,\n        \"samples\": [\n          15.0,\n          13.45\n        ],\n        \"semantic_type\": \"\",\n        \"description\": \"\"\n      }\n    },\n    {\n      \"column\": \"loan_percent_income\",\n      \"properties\": {\n        \"dtype\": \"number\",\n        \"std\": 0.08721230801403355,\n        \"min\": 0.0,\n        \"max\": 0.66,\n        \"num_unique_values\": 64,\n        \"samples\": [\n          0.45,\n          0.54\n        ],\n        \"semantic_type\": \"\",\n        \"description\": \"\"\n      }\n    },\n    {\n      \"column\": \"cb_person_cred_hist_length\",\n      \"properties\": {\n        \"dtype\": \"number\",\n        \"std\": 3.8797018451620433,\n        \"min\": 2.0,\n        \"max\": 30.0,\n        \"num_unique_values\": 29,\n        \"samples\": [\n          24.0,\n          25.0\n        ],\n        \"semantic_type\": \"\",\n        \"description\": \"\"\n      }\n    },\n    {\n      \"column\": \"credit_score\",\n      \"properties\": {\n        \"dtype\": \"number\",\n        \"std\": 50,\n        \"min\": 390,\n        \"max\": 850,\n        \"num_unique_values\": 340,\n        \"samples\": [\n          492,\n          484\n        ],\n        \"semantic_type\": \"\",\n        \"description\": \"\"\n      }\n    },\n    {\n      \"column\": \"previous_loan_defaults_on_file\",\n      \"properties\": {\n        \"dtype\": \"category\",\n        \"num_unique_values\": 2,\n        \"samples\": [\n          \"Yes\",\n          \"No\"\n        ],\n        \"semantic_type\": \"\",\n        \"description\": \"\"\n      }\n    },\n    {\n      \"column\": \"loan_status\",\n      \"properties\": {\n        \"dtype\": \"number\",\n        \"std\": 0,\n        \"min\": 0,\n        \"max\": 1,\n        \"num_unique_values\": 2,\n        \"samples\": [\n          0,\n          1\n        ],\n        \"semantic_type\": \"\",\n        \"description\": \"\"\n      }\n    }\n  ]\n}"
            }
          },
          "metadata": {},
          "execution_count": 320
        }
      ],
      "source": [
        "df = pd.read_csv('loan_data.csv', sep=',')#, index_col=0)\n",
        "df.head(3)"
      ]
    },
    {
      "cell_type": "code",
      "source": [
        "df[\"loan_status\"].unique() # - бинарная классификация"
      ],
      "metadata": {
        "colab": {
          "base_uri": "https://localhost:8080/"
        },
        "id": "vlfuCdnQvrE9",
        "outputId": "224e0201-b0fc-4ae9-cd0e-4fb0e6e49ca5"
      },
      "execution_count": 321,
      "outputs": [
        {
          "output_type": "execute_result",
          "data": {
            "text/plain": [
              "array([1, 0])"
            ]
          },
          "metadata": {},
          "execution_count": 321
        }
      ]
    },
    {
      "cell_type": "markdown",
      "source": [
        "## Обработка признаков (уже делали)"
      ],
      "metadata": {
        "id": "8qFQZbDtwwzJ"
      }
    },
    {
      "cell_type": "code",
      "source": [
        "from sklearn.preprocessing import LabelEncoder\n",
        "from sklearn import metrics\n",
        "lab_encoder = LabelEncoder()\n",
        "\n",
        "df[\"person_gender\"] = lab_encoder.fit_transform(df[\"person_gender\"])\n",
        "df[\"previous_loan_defaults_on_file\"] = lab_encoder.fit_transform(df[\"previous_loan_defaults_on_file\"])\n",
        "df[['person_gender', 'person_education', 'person_home_ownership', 'loan_intent', 'previous_loan_defaults_on_file']].head()"
      ],
      "metadata": {
        "colab": {
          "base_uri": "https://localhost:8080/",
          "height": 226
        },
        "id": "pHZb_AUbxF1G",
        "outputId": "0009ccc2-fbf5-4cdc-81ee-a93502227014"
      },
      "execution_count": 322,
      "outputs": [
        {
          "output_type": "execute_result",
          "data": {
            "text/plain": [
              "   person_gender person_education person_home_ownership loan_intent  \\\n",
              "0              0           Master                  RENT    PERSONAL   \n",
              "1              0      High School                   OWN   EDUCATION   \n",
              "2              0      High School              MORTGAGE     MEDICAL   \n",
              "3              0         Bachelor                  RENT     MEDICAL   \n",
              "4              1           Master                  RENT     MEDICAL   \n",
              "\n",
              "   previous_loan_defaults_on_file  \n",
              "0                               0  \n",
              "1                               1  \n",
              "2                               0  \n",
              "3                               0  \n",
              "4                               0  "
            ],
            "text/html": [
              "\n",
              "  <div id=\"df-a2b66b56-bc59-472e-a557-86fd44488662\" class=\"colab-df-container\">\n",
              "    <div>\n",
              "<style scoped>\n",
              "    .dataframe tbody tr th:only-of-type {\n",
              "        vertical-align: middle;\n",
              "    }\n",
              "\n",
              "    .dataframe tbody tr th {\n",
              "        vertical-align: top;\n",
              "    }\n",
              "\n",
              "    .dataframe thead th {\n",
              "        text-align: right;\n",
              "    }\n",
              "</style>\n",
              "<table border=\"1\" class=\"dataframe\">\n",
              "  <thead>\n",
              "    <tr style=\"text-align: right;\">\n",
              "      <th></th>\n",
              "      <th>person_gender</th>\n",
              "      <th>person_education</th>\n",
              "      <th>person_home_ownership</th>\n",
              "      <th>loan_intent</th>\n",
              "      <th>previous_loan_defaults_on_file</th>\n",
              "    </tr>\n",
              "  </thead>\n",
              "  <tbody>\n",
              "    <tr>\n",
              "      <th>0</th>\n",
              "      <td>0</td>\n",
              "      <td>Master</td>\n",
              "      <td>RENT</td>\n",
              "      <td>PERSONAL</td>\n",
              "      <td>0</td>\n",
              "    </tr>\n",
              "    <tr>\n",
              "      <th>1</th>\n",
              "      <td>0</td>\n",
              "      <td>High School</td>\n",
              "      <td>OWN</td>\n",
              "      <td>EDUCATION</td>\n",
              "      <td>1</td>\n",
              "    </tr>\n",
              "    <tr>\n",
              "      <th>2</th>\n",
              "      <td>0</td>\n",
              "      <td>High School</td>\n",
              "      <td>MORTGAGE</td>\n",
              "      <td>MEDICAL</td>\n",
              "      <td>0</td>\n",
              "    </tr>\n",
              "    <tr>\n",
              "      <th>3</th>\n",
              "      <td>0</td>\n",
              "      <td>Bachelor</td>\n",
              "      <td>RENT</td>\n",
              "      <td>MEDICAL</td>\n",
              "      <td>0</td>\n",
              "    </tr>\n",
              "    <tr>\n",
              "      <th>4</th>\n",
              "      <td>1</td>\n",
              "      <td>Master</td>\n",
              "      <td>RENT</td>\n",
              "      <td>MEDICAL</td>\n",
              "      <td>0</td>\n",
              "    </tr>\n",
              "  </tbody>\n",
              "</table>\n",
              "</div>\n",
              "    <div class=\"colab-df-buttons\">\n",
              "\n",
              "  <div class=\"colab-df-container\">\n",
              "    <button class=\"colab-df-convert\" onclick=\"convertToInteractive('df-a2b66b56-bc59-472e-a557-86fd44488662')\"\n",
              "            title=\"Convert this dataframe to an interactive table.\"\n",
              "            style=\"display:none;\">\n",
              "\n",
              "  <svg xmlns=\"http://www.w3.org/2000/svg\" height=\"24px\" viewBox=\"0 -960 960 960\">\n",
              "    <path d=\"M120-120v-720h720v720H120Zm60-500h600v-160H180v160Zm220 220h160v-160H400v160Zm0 220h160v-160H400v160ZM180-400h160v-160H180v160Zm440 0h160v-160H620v160ZM180-180h160v-160H180v160Zm440 0h160v-160H620v160Z\"/>\n",
              "  </svg>\n",
              "    </button>\n",
              "\n",
              "  <style>\n",
              "    .colab-df-container {\n",
              "      display:flex;\n",
              "      gap: 12px;\n",
              "    }\n",
              "\n",
              "    .colab-df-convert {\n",
              "      background-color: #E8F0FE;\n",
              "      border: none;\n",
              "      border-radius: 50%;\n",
              "      cursor: pointer;\n",
              "      display: none;\n",
              "      fill: #1967D2;\n",
              "      height: 32px;\n",
              "      padding: 0 0 0 0;\n",
              "      width: 32px;\n",
              "    }\n",
              "\n",
              "    .colab-df-convert:hover {\n",
              "      background-color: #E2EBFA;\n",
              "      box-shadow: 0px 1px 2px rgba(60, 64, 67, 0.3), 0px 1px 3px 1px rgba(60, 64, 67, 0.15);\n",
              "      fill: #174EA6;\n",
              "    }\n",
              "\n",
              "    .colab-df-buttons div {\n",
              "      margin-bottom: 4px;\n",
              "    }\n",
              "\n",
              "    [theme=dark] .colab-df-convert {\n",
              "      background-color: #3B4455;\n",
              "      fill: #D2E3FC;\n",
              "    }\n",
              "\n",
              "    [theme=dark] .colab-df-convert:hover {\n",
              "      background-color: #434B5C;\n",
              "      box-shadow: 0px 1px 3px 1px rgba(0, 0, 0, 0.15);\n",
              "      filter: drop-shadow(0px 1px 2px rgba(0, 0, 0, 0.3));\n",
              "      fill: #FFFFFF;\n",
              "    }\n",
              "  </style>\n",
              "\n",
              "    <script>\n",
              "      const buttonEl =\n",
              "        document.querySelector('#df-a2b66b56-bc59-472e-a557-86fd44488662 button.colab-df-convert');\n",
              "      buttonEl.style.display =\n",
              "        google.colab.kernel.accessAllowed ? 'block' : 'none';\n",
              "\n",
              "      async function convertToInteractive(key) {\n",
              "        const element = document.querySelector('#df-a2b66b56-bc59-472e-a557-86fd44488662');\n",
              "        const dataTable =\n",
              "          await google.colab.kernel.invokeFunction('convertToInteractive',\n",
              "                                                    [key], {});\n",
              "        if (!dataTable) return;\n",
              "\n",
              "        const docLinkHtml = 'Like what you see? Visit the ' +\n",
              "          '<a target=\"_blank\" href=https://colab.research.google.com/notebooks/data_table.ipynb>data table notebook</a>'\n",
              "          + ' to learn more about interactive tables.';\n",
              "        element.innerHTML = '';\n",
              "        dataTable['output_type'] = 'display_data';\n",
              "        await google.colab.output.renderOutput(dataTable, element);\n",
              "        const docLink = document.createElement('div');\n",
              "        docLink.innerHTML = docLinkHtml;\n",
              "        element.appendChild(docLink);\n",
              "      }\n",
              "    </script>\n",
              "  </div>\n",
              "\n",
              "\n",
              "    <div id=\"df-da3468b7-b438-481f-9a57-4b0992eda07b\">\n",
              "      <button class=\"colab-df-quickchart\" onclick=\"quickchart('df-da3468b7-b438-481f-9a57-4b0992eda07b')\"\n",
              "                title=\"Suggest charts\"\n",
              "                style=\"display:none;\">\n",
              "\n",
              "<svg xmlns=\"http://www.w3.org/2000/svg\" height=\"24px\"viewBox=\"0 0 24 24\"\n",
              "     width=\"24px\">\n",
              "    <g>\n",
              "        <path d=\"M19 3H5c-1.1 0-2 .9-2 2v14c0 1.1.9 2 2 2h14c1.1 0 2-.9 2-2V5c0-1.1-.9-2-2-2zM9 17H7v-7h2v7zm4 0h-2V7h2v10zm4 0h-2v-4h2v4z\"/>\n",
              "    </g>\n",
              "</svg>\n",
              "      </button>\n",
              "\n",
              "<style>\n",
              "  .colab-df-quickchart {\n",
              "      --bg-color: #E8F0FE;\n",
              "      --fill-color: #1967D2;\n",
              "      --hover-bg-color: #E2EBFA;\n",
              "      --hover-fill-color: #174EA6;\n",
              "      --disabled-fill-color: #AAA;\n",
              "      --disabled-bg-color: #DDD;\n",
              "  }\n",
              "\n",
              "  [theme=dark] .colab-df-quickchart {\n",
              "      --bg-color: #3B4455;\n",
              "      --fill-color: #D2E3FC;\n",
              "      --hover-bg-color: #434B5C;\n",
              "      --hover-fill-color: #FFFFFF;\n",
              "      --disabled-bg-color: #3B4455;\n",
              "      --disabled-fill-color: #666;\n",
              "  }\n",
              "\n",
              "  .colab-df-quickchart {\n",
              "    background-color: var(--bg-color);\n",
              "    border: none;\n",
              "    border-radius: 50%;\n",
              "    cursor: pointer;\n",
              "    display: none;\n",
              "    fill: var(--fill-color);\n",
              "    height: 32px;\n",
              "    padding: 0;\n",
              "    width: 32px;\n",
              "  }\n",
              "\n",
              "  .colab-df-quickchart:hover {\n",
              "    background-color: var(--hover-bg-color);\n",
              "    box-shadow: 0 1px 2px rgba(60, 64, 67, 0.3), 0 1px 3px 1px rgba(60, 64, 67, 0.15);\n",
              "    fill: var(--button-hover-fill-color);\n",
              "  }\n",
              "\n",
              "  .colab-df-quickchart-complete:disabled,\n",
              "  .colab-df-quickchart-complete:disabled:hover {\n",
              "    background-color: var(--disabled-bg-color);\n",
              "    fill: var(--disabled-fill-color);\n",
              "    box-shadow: none;\n",
              "  }\n",
              "\n",
              "  .colab-df-spinner {\n",
              "    border: 2px solid var(--fill-color);\n",
              "    border-color: transparent;\n",
              "    border-bottom-color: var(--fill-color);\n",
              "    animation:\n",
              "      spin 1s steps(1) infinite;\n",
              "  }\n",
              "\n",
              "  @keyframes spin {\n",
              "    0% {\n",
              "      border-color: transparent;\n",
              "      border-bottom-color: var(--fill-color);\n",
              "      border-left-color: var(--fill-color);\n",
              "    }\n",
              "    20% {\n",
              "      border-color: transparent;\n",
              "      border-left-color: var(--fill-color);\n",
              "      border-top-color: var(--fill-color);\n",
              "    }\n",
              "    30% {\n",
              "      border-color: transparent;\n",
              "      border-left-color: var(--fill-color);\n",
              "      border-top-color: var(--fill-color);\n",
              "      border-right-color: var(--fill-color);\n",
              "    }\n",
              "    40% {\n",
              "      border-color: transparent;\n",
              "      border-right-color: var(--fill-color);\n",
              "      border-top-color: var(--fill-color);\n",
              "    }\n",
              "    60% {\n",
              "      border-color: transparent;\n",
              "      border-right-color: var(--fill-color);\n",
              "    }\n",
              "    80% {\n",
              "      border-color: transparent;\n",
              "      border-right-color: var(--fill-color);\n",
              "      border-bottom-color: var(--fill-color);\n",
              "    }\n",
              "    90% {\n",
              "      border-color: transparent;\n",
              "      border-bottom-color: var(--fill-color);\n",
              "    }\n",
              "  }\n",
              "</style>\n",
              "\n",
              "      <script>\n",
              "        async function quickchart(key) {\n",
              "          const quickchartButtonEl =\n",
              "            document.querySelector('#' + key + ' button');\n",
              "          quickchartButtonEl.disabled = true;  // To prevent multiple clicks.\n",
              "          quickchartButtonEl.classList.add('colab-df-spinner');\n",
              "          try {\n",
              "            const charts = await google.colab.kernel.invokeFunction(\n",
              "                'suggestCharts', [key], {});\n",
              "          } catch (error) {\n",
              "            console.error('Error during call to suggestCharts:', error);\n",
              "          }\n",
              "          quickchartButtonEl.classList.remove('colab-df-spinner');\n",
              "          quickchartButtonEl.classList.add('colab-df-quickchart-complete');\n",
              "        }\n",
              "        (() => {\n",
              "          let quickchartButtonEl =\n",
              "            document.querySelector('#df-da3468b7-b438-481f-9a57-4b0992eda07b button');\n",
              "          quickchartButtonEl.style.display =\n",
              "            google.colab.kernel.accessAllowed ? 'block' : 'none';\n",
              "        })();\n",
              "      </script>\n",
              "    </div>\n",
              "    </div>\n",
              "  </div>\n"
            ],
            "application/vnd.google.colaboratory.intrinsic+json": {
              "type": "dataframe",
              "summary": "{\n  \"name\": \"df[['person_gender', 'person_education', 'person_home_ownership', 'loan_intent', 'previous_loan_defaults_on_file']]\",\n  \"rows\": 5,\n  \"fields\": [\n    {\n      \"column\": \"person_gender\",\n      \"properties\": {\n        \"dtype\": \"number\",\n        \"std\": 0,\n        \"min\": 0,\n        \"max\": 1,\n        \"num_unique_values\": 2,\n        \"samples\": [\n          1,\n          0\n        ],\n        \"semantic_type\": \"\",\n        \"description\": \"\"\n      }\n    },\n    {\n      \"column\": \"person_education\",\n      \"properties\": {\n        \"dtype\": \"string\",\n        \"num_unique_values\": 3,\n        \"samples\": [\n          \"Master\",\n          \"High School\"\n        ],\n        \"semantic_type\": \"\",\n        \"description\": \"\"\n      }\n    },\n    {\n      \"column\": \"person_home_ownership\",\n      \"properties\": {\n        \"dtype\": \"string\",\n        \"num_unique_values\": 3,\n        \"samples\": [\n          \"RENT\",\n          \"OWN\"\n        ],\n        \"semantic_type\": \"\",\n        \"description\": \"\"\n      }\n    },\n    {\n      \"column\": \"loan_intent\",\n      \"properties\": {\n        \"dtype\": \"string\",\n        \"num_unique_values\": 3,\n        \"samples\": [\n          \"PERSONAL\",\n          \"EDUCATION\"\n        ],\n        \"semantic_type\": \"\",\n        \"description\": \"\"\n      }\n    },\n    {\n      \"column\": \"previous_loan_defaults_on_file\",\n      \"properties\": {\n        \"dtype\": \"number\",\n        \"std\": 0,\n        \"min\": 0,\n        \"max\": 1,\n        \"num_unique_values\": 2,\n        \"samples\": [\n          1,\n          0\n        ],\n        \"semantic_type\": \"\",\n        \"description\": \"\"\n      }\n    }\n  ]\n}"
            }
          },
          "metadata": {},
          "execution_count": 322
        }
      ]
    },
    {
      "cell_type": "code",
      "source": [
        "map_dict = {'High School' : 0,\n",
        "            'Associate' : 1/4,\n",
        "            'Bachelor': 2/4,\n",
        "            'Master' : 3/4,\n",
        "            'Doctorate' : 1}\n",
        "\n",
        "df['person_education'] = df['person_education'].map(map_dict)"
      ],
      "metadata": {
        "id": "OmrmOgPg3o6T"
      },
      "execution_count": 323,
      "outputs": []
    },
    {
      "cell_type": "code",
      "source": [
        "from sklearn.preprocessing import OneHotEncoder\n",
        "\n",
        "onehot = OneHotEncoder()\n",
        "encode = onehot.fit_transform(df[['person_home_ownership']])\n",
        "df_encoded = pd.DataFrame(encode.toarray(), columns=onehot.categories_[0])\n",
        "df = df.join(df_encoded)\n",
        "df.drop('person_home_ownership', axis = 1, inplace = True)\n",
        "df = df.drop('OTHER', axis = 1)"
      ],
      "metadata": {
        "id": "4KJL-ysq7QiK"
      },
      "execution_count": 324,
      "outputs": []
    },
    {
      "cell_type": "code",
      "source": [
        "onehot = OneHotEncoder()\n",
        "encode = onehot.fit_transform(df[['loan_intent']])\n",
        "\n",
        "df_encoded = pd.DataFrame(encode.toarray(), columns=onehot.categories_[0])\n",
        "df = df.join(df_encoded)\n",
        "df.drop('loan_intent', axis = 1, inplace = True)"
      ],
      "metadata": {
        "id": "xxSn1khWytVu"
      },
      "execution_count": 325,
      "outputs": []
    },
    {
      "cell_type": "code",
      "source": [
        "df.loc[:, 'person_income'] = df['person_income'].apply(np.log1p)\n",
        "df.drop('loan_amnt', axis = 1, inplace = True)"
      ],
      "metadata": {
        "id": "bh1GFdkAy05f"
      },
      "execution_count": 326,
      "outputs": []
    },
    {
      "cell_type": "markdown",
      "metadata": {
        "id": "ecVncVWI9xgx"
      },
      "source": [
        "## Оценка модели"
      ]
    },
    {
      "cell_type": "markdown",
      "metadata": {
        "id": "2DEEoDrr2fjK"
      },
      "source": [
        "Проверим результат. Воспользуемся метрикой Accuracy"
      ]
    },
    {
      "cell_type": "code",
      "execution_count": 327,
      "metadata": {
        "id": "ADGNz2y7jdkp"
      },
      "outputs": [],
      "source": [
        "from sklearn.model_selection import train_test_split\n",
        "from sklearn.linear_model import LogisticRegression\n",
        "\n",
        "X = df.drop('loan_status', axis = 1)\n",
        "y = df['loan_status']\n",
        "\n",
        "X_train, X_test, y_train, y_test = train_test_split(X, y, test_size = 0.2, random_state=42)\n",
        "\n",
        "outliers = X_train[(X_train['person_income']>15) | (X_train['person_age']>100)].index\n",
        "X_train = X_train.drop(outliers, axis=0)\n",
        "y_train = y_train.drop(outliers)"
      ]
    },
    {
      "cell_type": "code",
      "source": [
        "model = LogisticRegression(penalty='l2', C=5.0, max_iter=200, solver='newton-cg', random_state=42)\n",
        "\n",
        "model.fit(X_train, y_train)\n",
        "y_pred = model.predict(X_test)\n",
        "\n",
        "print('Accuracy = ', metrics.accuracy_score(y_test, y_pred))\n",
        "print('F1 = ', metrics.f1_score(y_test, y_pred))"
      ],
      "metadata": {
        "id": "O7Y9nStvED3a",
        "colab": {
          "base_uri": "https://localhost:8080/"
        },
        "outputId": "a6626bec-19f1-4b96-88d0-3a08f69df2f0"
      },
      "execution_count": 328,
      "outputs": [
        {
          "output_type": "stream",
          "name": "stdout",
          "text": [
            "Accuracy =  0.8967777777777778\n",
            "F1 =  0.7654632668518051\n"
          ]
        }
      ]
    },
    {
      "cell_type": "code",
      "source": [
        "cm = metrics.confusion_matrix(y_test, y_pred)\n",
        "plt.figure(figsize=(6, 5))\n",
        "sns.heatmap(cm, annot=True, fmt='d', cmap='Blues')\n",
        "plt.title('Confusion Matrix')\n",
        "plt.xlabel('Predicted')\n",
        "plt.ylabel('Actual')\n",
        "plt.show()"
      ],
      "metadata": {
        "id": "uN5xFp8sRiuB",
        "colab": {
          "base_uri": "https://localhost:8080/",
          "height": 487
        },
        "outputId": "a3565bd2-220a-45b6-e574-9eda5501d238"
      },
      "execution_count": 329,
      "outputs": [
        {
          "output_type": "display_data",
          "data": {
            "text/plain": [
              "<Figure size 600x500 with 2 Axes>"
            ],
            "image/png": "[encoded data removed]"
          },
          "metadata": {}
        }
      ]
    },
    {
      "cell_type": "markdown",
      "source": [
        "## Precision & Recall"
      ],
      "metadata": {
        "id": "bqY31Knf05v-"
      }
    },
    {
      "cell_type": "markdown",
      "source": [
        "Precision = TP/(TP+FP)\n",
        "\n",
        "доля объектов, названных классификатором положительными от всех его положительных ответов"
      ],
      "metadata": {
        "id": "nrVCPEKl1AG_"
      }
    },
    {
      "cell_type": "code",
      "source": [
        "print('precision_score = ', metrics.precision_score(y_test, y_pred))\n",
        "print('precision_score = ', 1516/(1516+435))"
      ],
      "metadata": {
        "id": "lcJ4khuU28Vh",
        "colab": {
          "base_uri": "https://localhost:8080/"
        },
        "outputId": "34e86465-6b69-45ce-bdaa-9467e45089e4"
      },
      "execution_count": 330,
      "outputs": [
        {
          "output_type": "stream",
          "name": "stdout",
          "text": [
            "precision_score =  0.7770374167093798\n",
            "precision_score =  0.7770374167093798\n"
          ]
        }
      ]
    },
    {
      "cell_type": "markdown",
      "source": [
        "Recall = TP/(TP+FN)\n",
        "\n",
        "доля объектов, названных классификатором положительными от всех объектов положительного класса"
      ],
      "metadata": {
        "id": "bSwaciXG2GcU"
      }
    },
    {
      "cell_type": "code",
      "source": [
        "print('recall_score = ', metrics.recall_score(y_test, y_pred))\n",
        "print('recall_score = ', 1516/(1516+494))"
      ],
      "metadata": {
        "id": "InLOhIm22uuC",
        "colab": {
          "base_uri": "https://localhost:8080/"
        },
        "outputId": "7e008d89-4280-4ee4-88d7-f53bcdc468b2"
      },
      "execution_count": 331,
      "outputs": [
        {
          "output_type": "stream",
          "name": "stdout",
          "text": [
            "recall_score =  0.7542288557213931\n",
            "recall_score =  0.7542288557213931\n"
          ]
        }
      ]
    },
    {
      "cell_type": "markdown",
      "source": [
        "Баланс метрик - среднее гармоническое"
      ],
      "metadata": {
        "id": "o982KNOf4ufl"
      }
    },
    {
      "cell_type": "markdown",
      "source": [
        "![image.png](data:image/png;base64,iVBORw0KGgoAAAANSUhEUgAAAgQAAABwCAIAAADuTP8/AAAgAElEQVR4Ae19eVxUR7Z//fM+M9LdzufzPk9oNJ/PG7XRRIHuNpugmUQWTTSAItDdYCaJgjM+M3HBZMy8F3EZNYmR1SUaI+KWZUwQtzF5E+MWjLvIvu80uzS90CzN/TGc35xPvXu7m2YVte4fULdu3VOnvnW7TtU5p04Rjl0MAYYAQ4Ah8MQjQJ54BBgADAGGAEOAIcAxYcA+AoYAQ4AhwBBgwoB9AwwBhgBDgCHAMWHAPgKGAEOAIcAQYMKAfQMMAYYAQ4AhwDFhwD4ChgBDgCHAEGDCgH0DDAGGAEOAIfBPBJg3EfsOGAIMAYYAQ4AJA/YNMAQYAgwBhgBbGbBvgCHAEGAIMASYmoh9AwwBhgBDgCHwTwSYzYB9BwwBhgBDgCHAhAH7BoYOgaampjt37hw8ePCnn36qqakZOsKMEkOAITDsCLCVwbBD/IRUcOPGjRkzZowZM0YkEhFCnnrqqdjY2O7u7iek+ayZDIFHHQEmDB71HhwV/GdmZorF4o8//rihoaG6ujo+Pl4ikRBCVq9ePSr4Y0wwBB53BLq6ugbZRCYMBgkg//XNmzdv2rSpvb2d/+DxvTebzRqNRiaTnTt3Dlv55ptvEkLGjh174cIFzISETqeLjIw8cuQIL3/kb/fu3bt27Vqj0TjyVbMaGQJDiEBeXl5YWFhWVtZgaDJhMBj0+O+uXbt2zJgxo2GY43M2RPdNTU0lvVd9fT2SbGpqev755wkhIpGouroa8u/evUt6r5iYGCyJicjISJFIdOLECcwZ+cT7779PCPnrX/868lWzGhkCfSJgsVjsaFk7OjpoCg8ePPD29p48eXJubi6d3680Ewb9gste4bVr1xJC3nvvPXuF/vXskZuN1tbWrl271tPTUyQSSaVShUIRGxvb2dnJcZxer//d735HCHFzc2tqaoIm1tTUgDCIjIy0WCz/avf//9/c3Ozt7S2RSOjFBK/MsN5u2bKFEBIVFTWstYww8ZaWloaGhkFW2tjYqNPpBkmEvT4ABNra2j7++OONGzcuWbIkPDw8LCwsNTUV6Zw6dSouLu6Pf/xjRESERqN55513eGPIzZs3XV1dZTLZgH03mDBAtAeViI+PJ4R4eXmZTCb7hNra2hISEtRqdWtrq/2So+fp+fPnlUqlk5NTYGDg5s2b33rrLalUSghZsGABDPTV1dVffPFFSUkJ8nz//n0QBmvXrsVMOgHf7pQpU+7du0fnj0D66NGjEolELpc3NjaOQHUjU0VeXp6fn9/s2bO/+uqrAdd44sQJb29vLy+vX375ZcBE2IsDQwB/MvDDIYTExcUBqba2tsWLF2M+IcTT07O5uZlXUXJyMiHE399fr9fzHjlyy4SBIyj1Uaa4uFgqlYrFYqs/oe7u7o6ODp1OV1xcnJyc7O/vTwhRKpVVVVV90B0dj8+fPy8Sifz9/e/evYscXblyBbyGEhISMJNObNy4kRAikUju379P59PppKQkgGLw81marP10TU2NQqEghJw+fdp+yUfoaUNDg7e3NwwWYrF4YLrjgoIC6FNCiLe3t1arfYQQeAxYbW5u3rFjx5tvvikWi6ErURhYLJYTJ058+OGH2MtWhQHHcRqNhhCiVqsHAAgTBgMAjf9KWFgYISQsLIz/oPd+69atERERcrnc1dUVZfuQCwOz2dzW1maVgcFk3r9/XyaT+fn51dXV0XTa2toWLVoErRa6MdTV1cHSYePGjfRbvHRNTY1MJiOE2JIovPJDcgvaPB8fn+GAa0g4HACRqqoqpVKJX9edO3cGQCQzMxMpSKXSsrKyARBhrwweARjQ6ZUB0rxy5Qr0kS1hcPXqVZiEXb9+Hd9yMMGEgYNA2Sx27do1iUQiFotv3LhhtVBQUBAhRCaTeXl5zZs3D/pyaIVBz8pjzZo1ERERfSqprHJoK7Orq0ulUkmlUqEmp62tDZY4QmVLV1eXWq0mhGzYsMEWZcyHoVkulwvXvFhmCBMlJSUgkh+nZQHgs27dOvi0XnzxxYFpINva2nx8fIBIZGSkHevlEPYIIyVEwI4wyM7Oti8MTCaTr68vIUSlUgkp289hwsA+Pn0/hYHP19fX1kDc0NBQUFBQUVHR2tq6d+/e4RAGBoMhPDzc09PzwYMHfXPscIm0tDRCyObNm4VvVFVVwaR+wYIFvKebNm0ihFh1IuKV5DiuuLgYRudvv/1W+HTIc1D2PE7WAkCpu7v79OnTKSkpBoNhwLiZzeaUlJS0tDTham/ANNmL/UUgPDwcRglUEyGF3Nxc+8KA47jvvvuOEDJ+/PjCwkJ80ZEEEwaOoGSzTElJCehDtmzZYrMQ9WD4hIGHh8fQCgOYJ8pkMqu64/T0dPgo//KXv1Dt4w4ePDhmzJj4+HjINBgM9uVTe3t7QEAAWL0GM4rRPNhKa7XayZMnE0Kio6NtlWH5DIGHjsAghQFO1Pr7nTNhMKiuP3jwIIyJV69edYTQMAkDvV4/5MLgl19+EYlE69ats9ou+F6dnJxwYwHHcampqVKp9LvvvsNXft974a3VBMzWXV1dS0tLrRYYqsxTp05BZ9Eee0NFnNFhCAwVAoMUBm1tbYGBgYQQX1/ffk2wmDAYVA+qVCpCyOTJk61On4WkHyFhAO5A6enpHMcZDIbGxsbq6ur6+vru7u5vvvkG3E6Sk5OxjadPn3Z2dv7qq69a/3VVVla+9NJLn376KZaxmgBlFCHk5MmTVgsMVSZIHZFIRLvAInGj0VhSUpKfn5+dnZ2RkXHkyBHY11NRUZGbm3vy5MmsrKyamhqhJr2xsbG4uDgvLy8rK+vixYs//fQTx3E1NTWnT5++e/eurQ8jLy8vMTExOjp6586daWlp9n3Dy8vLr1y5Eh8fv27dutjY2JSUFLq8xWIpLS0tKCjIycnJzMw8ePCg0DZuMBiuXr2amJgYGxu7c+fOU6dOtbS0HDp06OuvvwYE2traSktL8/LyeM1HfDDR0NCQk5PT48W4cePGQ4cO5ebmCk0UXV1dpaWlhYWFOTk59+/fT05OBpZ0Ol1WVtbu3bvPnDkzrC5k2JycnJyMjIxjx451dnYaDIasrKxTp07Z2plVVVXVM5WJiYn55JNPkpKS7KtZDAZDTk7OoUOHNm7cuHPnzqSkpPz8fOHn0d3dnZ+fn5iYuHPnzujo6NjY2MOHD/PcMRBbSAxSGHAct2bNGkJIfydYTBjwOqIft7Drr18SePiEgWfvZV8n43jbzGZzYGCgXC6vq6u7f//+3Llz5XL5jBkzlEplcHCwWCzuCT1EewplZWU99dRTrq6uz1HXs88+SwhJSUmxXy+q2tasWWO/5GCeoj5KLpdbHYbeeecdWDfAXw8Pj/T09FWrVrm5uWG+UqmMiopqaWlBTlpaWl555RUsAO5VX3/99X/+538inaKiIizPcVx9fb1arYbYTZMmTYJiSqXSltUkJSWF5gHKT548Gfdvf/XVV+PGjaN54LmWlpaWgrV/3Lhxnp6ezs7O4NFACFm8eDHwlpSUNGbMGCTi4eFByxvk/+eff37ppZegGDIfHBxMux1zHHf48GEnJyek1gNLTk7O+fPn586dS2eqVKrKykokPoQJXnPc3d1v3rz54osvQu0ikWj79u286uLj42fMmEEIGTduHDAvFouXLl3KKwa3d+7cAW86ujkSiUSj0dBbLC0Wi0qlwr4G5HvmPQqFIjEx0SpljuPADGnVmygnJwdqtOVNBDRTU1OhWL8mWEwY2OqRvvPLysrAYBAaGtp36d4SwyQMWltbh1ZNVFFRIZVKQ0NDa2tr8SdEf/e0r0JTU9OcOXPop3S6T+XPgwcP5HL5YDbLOAJ+XV0dbC8IDAwUTpw5jlu5cqVcLkcX7wkTJkilUhcXl9DQ0NjY2C1btqCnjZeXV0VFBVTa2to6f/584B9a7e7uDoPIwoULIcfPzw9X62VlZTCGurm5nT17tra29urVq35+fhDM4/Dhw3Rburq6wGsZZMypU6eKioouX74MFMRiMSgnv/766+nTp8OnCDXSwqC8vHzixIkSiWTHjh0VFRWNjY1lZWVxcXHQUvx0d+/e7eHhgc1XKBRCYbBt2zZJ77V+/frCwsKqqqpffvkFprFSqRSFEwgDd3d32pc6Pj4eNi0mJiZmZ2dHRkYCq6+88grd5KFK85ozffr0559/fvbs2R988AHUKxaLc3JysLpVq1aBR2ZcXFx5eXlJSQlODl5//XV6fOc47sSJE9C0GTNmHDt2LDc3Nz8/H5wGCSEffvghkv3www+hukWLFpWVlVVWVqampuKH9MEHH2BJOgH6BkII2t7wKe1NZGfmV1hYCPX2y2zAhAHi3O9EVlYWIL5p0yYHX6aFwRDOiYZcGJw+fRonJvn5+YsXLw7vvaKiov77v/8bZjo45TcajevXr19m7XrrrbdsOVkhYgaDYebMmYQQuVxOhzzCAkOSKC4uhpHO1n6ctra2hoaG8+fPQ5/C3Jme8JrNZpR5L7zwAsZsMBgMtbW1GzZswBeDg4Pr6urwJ+3l5QVROhoaGmbNmgXj/s8//4ztgk2LsP+OtsHExMQAzUWLFqF7D+zUg/ydO3dyHGexWJqbm7OyssC/ixBCCwNQjnl5efF2pcbGxhJCUBi0t7c3NTVh84XCoEcfApXu2rULOYcEDHlisfjatWuQ09nZ2dzcnJ2djauHX//61++++y7EL+E4zmQygQgkhFy6dIlHcPC30JyffvoJZaSrq+uPP/6YkpKC3YQO04gzb22Km37pRduNGzeAplQqxc+jrKwMVhWEkFmzZsEw3dLSAt0NkVpwVlRZWQk9heKc197Bq4lKS0v7O09lJ53xeqF/t6jsFnqA2SL0qAgDGEGys7OxIR0dHRiKFT5WNzc3nCBjsQEk2tvbYV2sVCodF5Dt7e1arVaoorXFAEpujUZjqwzHcaWlpThYXLx4kVcSNVooKbHAZ599hi/C2FFUVOTVe506dQqK7dy5E8oEBATwJpvvvfcePDpw4AAUvnHjBghdsVh869YtrKi4uBi0DSKR6Pvvv8f8lpYWXKCgMOjs7ARshYFSYL9xSEgIUuA4rqSkBNjgCQMcv7y8vHCVgy9WV1fD6Obt7U3bD/R6vaenJxD08vKiH+Fe2f46d9XW1vJi8iAbwgQuBwkhy5Yt6+rq6uzsDAwMVCqV0dHR8PHcunULpvnCfXbXr18H5n19fWE1aTKZwDbLc55ua2sDpzhe2HZYcBBCAgICaLa3bt0KlHlqJWiCHWHgoJqoqqoK1sFqtRp/tkJ8eDlsZcADpB+3iYmJ0KOOb6AdjDCwM/A5sjKw8zqvzbBvRbibDIvFxcVBw3GYw0cDS4SGhgLB4uJiRyh0dHS8/vrrPRv3IiMjccps/8Xbt29DFR9//LGdkvQUr6CgQFjy7bffBjq8bYP79u2DfKlUiq1oaGhAU2FjYyPGEhB+MDjvhqm6xWJZtmwZEFSr1TihBn4yMjLWrVtHT1c5jmtpacGRF4UBx3GIbWBgYHp6ularhVGps7Nz1apVaEAGysXFxVApTxigVic8PFyISXt7OypJUJhxHGc0GsFWQQgRhqhasmQJ1GVfPNPVbd68WalU+vj4ODgLoYUBztg6OztpRwCwtRJC/Pz8ePpD9NF0dXWF/dioiyeEYC8Dh2azeVPvRTNssVgOHDiwYsUK3oi8a9cuaHtERASvUo7jIiIi4CnyjDTz8vLgkX2bQX19PcwMPDw8eDIYSQkTTBgIMXE0B8dE4cLZFokBC4OOjo6lS5eqbVyhoaHS3is0NNRGEfXSpUt5YW9tMVleXg4GA1sFcBYcGxtrq0y/8lGjQqtx7VDAgbLnyAQHeThy5Aj8iux7N5WXl+N636owwBlAzyZP2ikFMeENo9gKXJoQQtatW/fJ/71QuQz6nJaWFpQctHkGqQkTtoTBt99+Cw2HvzKZrCeQWXR0tNU4WlaFgV6vR5XOJ598IqyanubT3JpMJhzxhfZS3GdrS3HHqwj2UkErbBl+eK/U19fDBJkQgiosuoxOp0NNzpw5c/5vn3yybds22JjSo0+DVTIqlGz1Mk0c05beq7KyMiMjIzEx8dNPP50/fz40ZMmSJUJhMPiVAX4MttwlkDc6wYQBjUb/0gkJCdCje/bscfDNAQuDCxcu/OpXv4LqBvbXycnJwfkU+OMLZyXYRpSCtEMRPh1AAr9+ekpri05nZyeWtzrltPri0aNHATc77eI4rk9hcOfOHcSftveiMPD396fdjZAZelLp6ekpF1zK3iswMFCn04E8horsSy+kj79/ns2gZ9GwevVq5BkTYrFYOFu3KgxQR2TVpAkMoDinfdtNJhNOcoUTpv4KAwgMDPx7eXnZMZ8iJvTKAC0E+JTjuNraWtStSaVSQZ/IFQqFUql0d3fPz8+nl1menp5oNKIJCtPt7e1paWmBgYHoEubk5ISmlPDwcKFRDZFJSkriEUQDsv0ILqigUygUtpybeZSZzUAISD9ycK0nnPXYojJgYQD63DIbV3Z29vTp093d3e/fv2+jSJlV53qrfILBgJ728opFRUXBbzItLY33aGC36DPj4MoAY6Y6OzvDr7TPevGwHVtzW6DQp5oI4wHwRkYUBuHh4VZXYIcPH8aB+IcffqiwccEQg795QoiDX5cdYcBxXHx8PC41kA2e64stmwHdZFuSCZVR9OhjNBpxZSAc1z755BPghF5M2OnHBw8euLu7E0LEYvH+/fvtlMRHqC0hhFjdNFBdXY0B/kJCQmz0SQWMpwaDAd1JfX19eZofrJROGI1GVKBJpdLly5efPn26pKQE2+7u7k7bEuBdFAbCiQv2hX01UWNjIwg5tjKgu2MY06iGFvaZrVppYeDgPN0WKTrfEZsBXd5OGg0Gthx7WltbYVgRi8U8takdsnYeQTg8GBes/mKtvpuTk7Nr167y8nKrT4WZaHnjeYzwSva5MqDHdNrCjD2rVqutCgP8Gfe4MIIXEK9q+hZNssLxmi5Gp20JA6PRCAKmsbExKysrMTFxwYIFLi4uALirqyvdiVZXBlqtFpUtVtGjezAwMNBsNgNjbW1tdoTBRx99BDw4bjNobm5OSUm5cuUK3XA76draWuTcqtIPw7oRQpYsWdKneh0XQJ6enniOky0GDAYDxIzrUVLNmzePnrXg1+Lh4WFnZSAcWBy0GWCc9n6FqGFqIltd2Xc+aoGF7sC2XsaPQKlUjk5hAAoKDw8P/Enz2oJRiWbNmtXn74H3rtVb9NCQyWSOexNZJWUnE11LIyIi7BTrUxigbpAnCy9evAhDW3h4OM/eC9XRQ+r7779vlQej0Qi+OkajEccRW2Ol2WymxxGrwqC9vX3VqlWBgYH0MNfd3V1TU4NusvSc3aowwPAGPfNrq+i1trZ6eXlB85ctW4ZNow3IdC1QAIWBgysDJOt4gl4Z8Lb+IRG0Py1YsMBW1G7UtKCC1M3NDTORFCQw/i56iLm4uPA+bPQP9vDw0Ol0yb0XfjZ2Vga4ZLQ/ypeXl4NWKiAgwJEVDHDOhAGvK/txW1hYaN91XUhr9AsD2GFgy5Wos7MTJke2TvIRNrnPHBzF7KtB+6Rjv0BlZSVYhlUqFf7qhK/YVxPRptR58+bRautjx47BaLhkyRJb9NEnx8/PTyhHOzs7ly5dGhQUBAM3hqR2c3MTnoPU0dGhVqvDw8Nx9wDCSNsM2trawL4iNBcXFRUBw7Qayqow4DgONiWAyw3WiOjV1dXhFgdac4iaa0KIUBigzXxYhQGuDGwJg7Nnz8KvWCKR4L4BbBrHcceOHZs6dSqsn9LT03Ff3sGDB+likN6/f//TTz9dUlJiMplw1yFu5sDytDDQarXTey80QjgoDFDqIFlM4KYzWzMJLEknmDCg0ehfGp0FHRe/KAwUCoXjKo4+2RpCNREYDMRiMb0rChlAM4nQORLL9DdRW1sLPhthYWE87/v+krJTHhUCfU6p0JtIeH4kWqHFYjFEbcIasWeXLFliVU3EcZxWqwVN7tixY48dO4bvQuLq1asikQi3jMIx0TBef/TRR7zC169fF4lEtAXYqjAwmUwwsqxYsYJHITs7GwJMZWRk4CNbwgA1HmKxWGiJ/fTTT4FP3vlOBoMBtPw9MR52796NtUACNUgOehPxXnfkFgG3ZTMAIrg4WLZsGb2EgvO9/f396W8GdxfOmjWLV9hgMPj7+ysUivr6eovFgpYwnjCgH3l4eFRVVXn0Xihl7YSjwJWB/ZkTLt/7VEjSMDJhQKPR7zR4nds35uj1+oLeKy8vD4ZaQsiECRNOnDiRlZWVk5NjVZvZL1aGShi0tbX5+vo6Ozs7OTnNmzePnnpUVla+//77Y8eOtRPKtF88Y2E8YOu9997DzOFIgEe51Yk2VkeriSQSyffffw96m66urjt37kybNg1GPfqMh8rKSrpnZ86cmZ2dXVRUZFXnkJqaCkPwtGnTkpOTQRfX0dGRnp4+ZcoUmUxGLwJu374NhceOHbt161bcslBYWDh79uzJkydDYYPBkJ+ff+PGDZyeHz9+PD8/X6fT4crgN7/5TVxcHNoqGxsbYWKOe8EaGhry8vIwsKurq+v58+cLCgpQsGVnZ8NmNzc3t0uXLsE0Vq/X//LLL1OnTu0JQjVx4kQ8JcJkMhUUFNy+fXvixImA2IYNG3Jzc0E1WlBQcO/ePYzKsGDBguzs7IKCAse3wmB/2UrodLrCwsL//d//HT9+PDBw/PjxvLy8goICodqkpaUFY65ER0djHI6WlpZly5aJxeIjR45gRXq9HjVsvr6+NTU1uB8NtpjhznzcYyiRSM6fPw8Uurq6du/e/atf/QoiQfUcI3j16lWZTBYUFASgZWZmIjIAGmxd1mq1+fn56CEtk8muX7+en5+PIgQ5pFdyZ86cofPtp5kwsI9PH0+/+OILCGliZ0Dftm0bfI52/jroRWOLm6ESBhiSCNSdCoVCpVJt3rxZo9HA7nYvLy8Hg3XbYlWYj3rYodrCJqwCcnDHuJ0mlJWVYTe99NJLTk5OPbtP//znPwcEBMCw4urqSpv1GhsbUULgi5CYNm0aDis0S+fOnUN3Rn9/f41GExAQIJVKJ06cKPwMbt26hYWhO8LCwtzc3CZNmoTnGqLyncfA5s2bcWUA47i/v/+aNWv+9Kc/LV68WCKRTJw4MS8vD3hDpxceEXpGn5GRAYFDJBKJt7d3RESEv78/bJMODQ1FScBxHK4VeNSmTZuGk1beI0IIvUahERtAGk5YElZhyzurJ3gGOkQplcrw8HCNRqNQKJycnI4ePcpjoCdeKc76XV1dfX19AQpCyJ///Ge6MO5omzBhQlRU1KZNm8AUtG7dOpz+u7i4ODk5Xb169d69e1YZnj59ekFBQXBwsNWn27Zto2uENLRFKpX2yzDJhIEQyX7k5Obmgg7x0KFDtl7rWQGEhISoVKqwf10ajeZfybDQ0NBFixbV1tbaet2R/KESBmfOnMFACwkJCd7e3jKZbOLEib6+viqV6uDBg7x1sSO89VkGflcymYwOy9PnWwMogM77dmJJlZWVoa/hvXv3EhMT/fz8Jk2aJJVKvby8IiMjb9++TVdtMBhWrlypVquhQ7FnVSrVypUrrW444Diurq5uzZo1AQEBCoXCxcWlx2l9zZo1tgo3NjZGR0f7+PjAxF+hUERGRtLa7W+//RY2G4aHh0dERAAnixcv/vLLL9vb21UqlZ+fn06n27hxo7e3t7Ozs1wu9/LyWr16NW3V/Otf/6rpvcJ7r7CwMLVavWjRon/84x90e/V6/c6dO8PCwjw9PSdPnuzt7R0aGnro0CHepP706dPBwcHwzWs0GrVarVKpNBrNypUrS0pKgoODESh4qlarg4ODaX7oSgeQPn78+OLFiwGK8PBw7J3FixfTMTx4lBMSEkJDQz09PUUikVwu9/X1RYnLKwnB+AAHkUg0efJkPz8/2l4C5bu7u1NTU0F3NGbMmIkTJ/r5+cHSoaurKzQ0VKFQLFy48OzZs7DHZdGiRWAKAmmkUqnUavWKFSvq6upgTgZPATTA8JtvvuHxhn6lgYGBuLDjlbF6y4SBVVgczURNdGRkpK13uru77YdMsP/UFlk6f6iEAWixcOdXa2trRUVFZWWlMBwNXftg0s3NzTDztQPgYOjz3oUZU2BgoC0bb3l5OQoDWO3p9fqamprS0lKdTscb8oC4re6zlY8smc1mrVbbEyCTnlPjU16ira1Nq9UWFxcLVxtWP7Du3ovjuKamJlSMPHjwoLy8vKamRijUYZcsr1JbJhyLxdLU1FRWVmZLgHV3dwvfRT6tImOrR3gsOXiLzeeVF3LFK8BxXHNzc3FxcW1tLeImLAM53d3dTU1NJSUl5eXlwo3E+JbJZIK+q6qqop30LBZLXV0d/aIQBATNYrEIPz+rmTdv3oQZKiqskBP7CSYM7OPT91PYWWpfE903lcGVAKWnh4eHI8OKrargnMthDR0qrBpiDAyhb5KwCjrn559/hsMYbKn1aDWR45se6CpYmiHwcBEA00W/tpsBwwMXBhaLJSkp6bN+XomJiVbnBQ8XvsHU3traCtG4hBvuB0O2v+/++OOPFy5c6O9bdHk0GNCZw5rGddXwORfy+MftUbaM1Ri2077/CY8su2UIjBIEUBdKeww7yNvAhQHa/ayaNexkDqFXooONHO5iJ06cgHD8tPvNcFc65PQvXbqEBoMhJ26V4JUrVwghUqn0zp07VgsMRyZWatVEkZ+fj5+unYAcw8EYo8kQGDwCcFotL5a4g2QHLgwuXrwYFhamUqnQEYoQsmDBAjBuREREhIeHv/HGG+Hh4UFBQegRQQgZbqcRB1s+tMVAGT1UgduGljcHqYEDNX2GgYMvDqxYz6m8EAuTdtMcGKn+vgU+HvReWY7jtm/fHh4ejuE5CSGBgYEqlWrr1q1CXW1/a2TlGQIjgB3JMM8AACAASURBVEBGRsaUKVPEYvG5c+cGUN3AhQFWhmHLRCKRVTVrR0dHz3HqWGzEhhvkcAQSMLSNmO57yFtkNBpVKtULL7wwYosbCKXp4+MjNJoNeet4BLu7uxcsWCCRSI4fP46PcL8orgwgsXDhQkesjkiHJRgCDwUB3B5vK9hJn1wNVhjQYUm8vLxwR7Ww4tLSUpFI5OLigse/Ccs80jlarXbixIkymUzo7/FItKu+vt6q5mQ4mD9y5MjYsWP9/Pzo6DrDUZEtmjqdzsfHZ8qUKeijqdVqc3Jy8vLy8vPzi4qKCgoK8vLycnJy6F1gtqixfIbAQ0cAZle4g30A/AxWGBQVFcEmSThYzg4HcNCEXC7HjZR2Cj+ijyoqKmBn0MMa4x4J3MrKyqZNm+bj4/Nw1S+1tbX+/v4+Pj7CMEGPBIyMSYYAInDx4sV/+7d/4215w6cOJgYrDOgDpoVurfSvvaGhQaFQzJw5c/ic1h1s87AWq6mpGTFNy7A2ZFiJa7XaPp24h5UBIN7c3GwrUvcI1M6qYAgMIQKD17gMVhhgjCeRSMQ7PqW0tDQ4OBitCHCOxPAFpRpCWBkphgBDgCHwpCEwKGFg32AA4UEwDkxxcfG4ceMeaX+bJ+3jYO1lCDAEnhwEBiUM8MAQocFAr9f7+/tPnjyZtqbW19c/ZjvOnpwPhbWUIcAQeLwRGJQwoA0GycnJEN6ko6OjubkZnNZff/31fkVK6i/Wer1eN4iLKff7CzgrzxBgCDyuCAxKGKDBgBCyePHiiIiIJUuWLFq0CE8XiomJcQS4jo6OAZgTjUajn5+ffBCXl5eX1SNcHOGZlWEIMAQYAo8TAgMXBhiTh7dJh77t8+jqnoMDY2JigoODX3vttZiYmH6JBIPBEBgY6NnX5WH7evHFF4UR5B+n3mVtYQgwBBgCDiIwcGFQVFSEx4H2RFHPycnJz8/PzMy8evXq8uXLIeaM/QDlcN7sq6+++sUXX6xfv378+PHz58/vlzwwGo2tdi/9/70M1GU0Gu1skXMQPlaMIcAQYAg8HggMXBjQBgPe0S5wHLOPjw8dvJuHV3FxsZub2969ezEaQUJCAiHkxIkTvJKj5zY1NXUWuxgCDAGGwCOLgJ0J+sCFARoMxGIxbiaAgfvq1auEEDshMjo7O8PCwnjnmSQnJxNCHDQzPBQJsWfPHloJxtIMAYYAQ+DRQsDWSR4cxw1QGNA7DLy9vXkHHiUnJ//7v//7/fv3bQ3ZFy5ccHZ25m3+jIyMJIQMMii/rRqHJL+mpuYyuxgCDAGGwCOLAH2wGm9UHKAwoA0GUVFRPKIWi6WoqIiXibcWiyUkJIS3Amhubp4yZcr48eP7dRrw2bNndw3iOnjwIHLFEgwBhgBD4ElGYIDCgDYYCEMS2Qe0rq7OxcXl8uXLtbW1Fy5cOHz4cGZm5urVq8Vi8ZkzZ+y/Sz8tKSkZM2bMINdoTB7QkLI0Q4Ah8MQiMEBhgIcTiMViO4sAq7D++OOPMpksPz9fJpPRQ/nXX39ttbydzPPnz+8dxHXkyBE7xNkjhgBDgCHw5CAwEGHAMxi0trb2C68NGzaEhIR0dXUdPHhw6dKly5Yt27Vr14QJE1555RU73kf9qoIVZggwBBgCDIF+IdAPYWA0GuHEj6+++koikcCkfs6cOZmZmdnZ2YWFhXZME8hTW1vbq6++GhcXhzmQAN+k7777jpfPbhkCDAGGAENgBBBwVBh0dXWpVCpaqyNMR0ZG9nlAIBgM7t27x2vb559/Psr9SnkMs1uGAEOAIfA4IeCoMOjo6Pjwww/VvZdGowkLC4O/kFCpVCEhIX0Gn+A4DgwGwrOlYGXAAlw/Tt8WawtDgCHwCCHgqDCAJnX3XhzHwRFm3d3dlt6rs7PTwTASYDDAXcdA1mQyvfLKK4SQkydPPkLYPURWDx48yNvoNxhmLl26FBsbGxUVdeDAgYsXLw6GFHuXIcAQ4CFw7NixjIwMXuYovO2fMBhkA8xm82uvvcbbeMxxXFZWlkQiGT9+PH34wSDreoxfX7du3ZgxY/bv30+fKtpnew0Gg1Bg9wj3DRs2SKXS2bNnP/fcc4SQsWPHvv32232q+/qsjhVgCDAEOI5rbm5+4YUXZDLZ4I+lHG48R1QY1NbWjh8/PiwsjB5rzGZzWFgYWxY42NPr1q0jhPz1r391sHxXV1dqauqyZcvmzZsXEBAQFRVFG2wOHDggk8muX79uNptbWlr+9re/gWvAqlWrHKTPijEEngQEKisrs7Ky7t27t3fv3j179nz77bfYaqPRmJOTc//+/VOnTn322Wc7duzQ6/X4lOO4e/fuSaVSmUxWXV1N54+29IgKgwsXLowbN87Z2fmrr75qaWlpbW3NyspSq9UikWjLli2jDZpRyM/mzZsJIUFBQQ4eGJeVlQVm/0mTJs2cOXPy5MkQTRaiAba0tCiVSqlUevjwYWzs22+/Da4Bt2/fxkyWoBG4ePFiVFRUfHx8v1ZmNAWO41JSUjQazblz53j57HYUIlBbWztt2jTaZSYkJAR7/6OPPqIfEULy8vJ4rTh8+DAhxN/fv7+O+Dw6w3o7osIADAZbtmwZM2aMUqmUy+XOzs4BAQF2ohgNa+MfLeLXrl2TSCRSqfTOnTuOcF5ZWSnrvVJSUhobG9vb27Va7fr16wkhrq6ud+7cqaqqgo/4ueeea2hoAJrfffcdZB44cMCRWp60Munp6SKRCCDasGHDwJqfmJiIw8fp06cHRoS9NWII6HS6FStWuLu7o0t9WFgYCoMvv/zSx8fHzc0N+1QoDDiO++Mf/9gjJ9RqNa0XGbEmOFLRyAkDs9n86quvxsbGchxXXV2dmpp6584drVZrMpkcYfQJL9PR0REYGEgIWbNmjSNQNDQ0uLu7T5kyhXeUW0tLi1wuJ4SsXbvWaDT+7ne/I4SoVCo8nbS0tBS+aQcrcoSZx6lMbGws/ubnzp3LUwg40lKLxRIeHo5Eli9f7shbo6cMfiqjh6UR4KSzs1On023atAk6jhYGFovFZDLl5+fDytvqyoDjuOLiYqlUSgg5derUCDA8gCpGThjADoO7d+8OgEv2yqlTpwghLi4uVVVVjqAByrebN2/yCjc3N4Mw0Gg0HR0dJpOppKSEdu46dOgQfO6j+WAJXqNG8vbMmTNOTk4A0TvvvDOwqkHdB0QerehYer3+97//fX5+/sAa/qi/tWvXLqEwgEbV19fjcb9WVwYcx4Fx1MfHR+jKMRqQGTlhcPHixcmTJzc2No6GZj9aPBgMBl9fX0LI22+/7Qjn586dE4lE69atExYuLy+H6YlarRY+7ezsXLBgASHkueee6zmRVFiA5XAcd+LECbVaHR0dPZj1flxcnEaj2b1796MFaWZmZo/LGazvHy3Oh4Tb3bt32xIGjY2NMM2ytTLgOO7nn3+G0yEd2ZI1JAz3i8jICYOYmJjFixfTk9B+MfokF7506RJ8gmfPnu0TB7PZ7OfnJ5VKrfrpXrlyBUj9z//8j5BUWloaIUQsFp8/f174lOUgAqgvxpwBJAYjSwZQ3ZC88oQLAzzeilYTAbCNjY19rgxMJpO/vz8hRKPRjMKRcISEgcVi2bt376hVlg3J72T4iKxZswa8gCoqKvqsJTc318nJyeqygOO46OhoGO5pB1OgWVBQ8PTTT0skkr///e991sIKPJkI3L9//0leGdgXBn2uDDiOW7VqFSHEzc3NQX3vSH5mIyQMRrJJj1ldOp3Oy8uLEOLr6+tIKEDYiHD9+nXEAaext2/fBk8Y4YmkRqMxICDg6aefdmTxgZQHlujq6jIYDDqdrrGxsaamBm2wbW1tDQ0NlZWVtprZ0dGh1+sfPHhQV1eHvyW9Xl9eXo7eUEKWqqurMzMzMzIy8vLyeEfyCQu3trZWVFTcv38/MzOzsLCQdxgfx3Emk0mn0zU1NWm1WmFUFY7jurq6ysrKMnuv/Px8cCWkjTcWi8VoNGLzDQaDkA3IMZvNWq02Ozs7NzfXlqsFUGttbW1sbKytrUXlXkdHR1VVVXFxsdFotEV/APlDIgw6OztbW1sfPHhQX19fWVkJ36fJZLLfj7W1tVlZWRkZGbm5uVaRp5uj1+srKyszMzPv379fUFCg1Wrpp5ju6uoqKSnJzc29e/dudnZ2aWmpfW2+HTVRU1OTI8IAT4K5fPkysjFKEkwYjJKOsMlGcXExjODCE+WE7xiNRj8/P7lc3tDQUF9fv2PHDrVardFoli9fHhcXN2XKFEJIcHAw78XOzs758+dPnTo1NzcXHl3pvXjFhuS2qalp8eLF3t7ecrlc0Xup1eqqqqro6OjAwEBPT88ZM2b4+vquXbuW9wP+xz/+ERYW5unpKZfLlUrlf/zHf5SUlCQkJPj4+MyYMWPWrFmpqak8DsvKylavXk0fm+Ht7Z2YmIjSkVf+0KFD/v7+tI+gQqGIj4+HYhaLZevWrcHBwcCAUqmMiIjgLfZv374dHh7u4uICujhCyNy5c994440ely3AtrW1deXKlXPnzoXme3p6bt++nccG3J47dy4oKMjT0xNIyeXyhQsXXrt2jS7c3t7+7rvvIjVgqbu7++9//3tQUJBSqXRxcfHw8HjzzTdtmTRpao6kB68m6tm9FRISgh/Ab3/725ycnH379vn4+CiVypdeemn//v08TmpqatasWUP346xZs2JjY23ttklLS5s7dy7dj0qlMjo6mtfvBQUFISEh6A4Ai++ez8mOAsOOAdkRmwHHcfn5+WA24B31yGvyQ7llwuChwN6PStFgIIz7LaRSWlrq4uKiVqsbGho8PDxwSMLEsmXLhG+tWrVqypQpeEhRW1vbvHnzduzYISw5+JyioiJkBhLPPvusm5ubSCTy9vaOiIiYOXMm5Mtkshs3bmCNcXFxvBdXrVrl5OQUFBQEB96JxeL09HQs/8svv8Dw4eXltXv37j179oBvLrjVYjFImM3m0NBQoB8QEBATE5OYmAiDOCEE9hOYTKbFixfTPKjVatrP8uLFiyKRSCKRrFy58tKlS5cvX96+fTsIYEJIVlYWx3FVVVW87UtCnHtsCTExMRKJRCwWR0VFJSUl7du3T6PRiMViiUSyc+dOZF6n0z3zzDM0SxqNZv369U5OTn5+fn/4wx9WrFgxduxYQoizszNKenx9AInBrwxu3LhBMwzb6UUi0dy5c52dnUGHSe+9KC4uhhm3XC7fvn37Z599FhERARRef/113vje2dm5bNkyaLKvr++GDRsSExNXrFgB5VevXo12mlu3boG0eP755/fs2bN///41a9bAT0Yikaxfv94qOHZWBg4KA1xABAQE2F+FWGVgWDOZMBhWeIeAeHx8PHzKaWlpfZIDD9TExESO49avX+/h4SHtveRy+Zw5c0BZWV5eTtPZsGGDp6fn9evXq6urq6qqqqurMzIypFLpoUOH6GJDmC4oKDh58uTs2bNxUPD29r5z505zczPEcgHDBiFEJBJhhK+2trbc3Nz9+/ePHz8eXpRIJNHR0ffu3UM6OIvHn/qsWbPq6uqQeQiOSwihW9fe3j5//nwggvP01tbWuXPnQqZcLoejuWtqarKysnCXAC0MmpubQZu3detWrI7juAsXLoD7FggD8De/fPkyFO5po1AYgFp5/Pjx33//PU3qiy++gEklHdy3srLyypUryNLUqVN//etfb9u2DVVtuD920aJFNLWBpQcvDDo7O3Nzc7/88supU6diPy5fvjwnJwf7ERuYlZUFEn3GjBl0ZMbIyEgozPNrQmn97rvvwrqhvb0dwZFKpfjxb9y4Eau7dOkSoFFSUoKqHqubw9FmoFareXIIR/ke+7Ad11u9Xg/THVi+D6wXhuktJgyGCdghI7t27Vr4anE0sUN69erVIpEIdAIWi6WhoaG0tLS8vLypqQl3GISGhiKFhIQE/EnwEiUlJVhsOBL4a/T29hY6HGs0GuDH19eX1nqbzeagoCB45ObmVlZWZjKZwO920qRJMF5gDiGEd7LprVu3YDz19vbW6XTQLhS3fn5+GC2gvb1drVZDRTNnzgRhAOXpEQFXBrm5uVBYOIhARBBe9+H0licMTp8+DdtcrYafgo9BIpHw9EW3b9+G2gkhK1asoPsLdxHKZDK6FXQZx9ODFwZQV3d3N8Lr6uqal5eH2yqdnZ2zs7OhGC7Xtm3bRjNZUVEBIlahUGCjIOQDIUQul9PGnqVLlwI4zs7OZWVlQAc3D4pEoszMTCR+5swZKDxv3jw0wODTwauJ8LtSKBRo90L6DzfBhMHDxb/v2vE30+cyX6/X+/n5zZo1C6bYQtLwq5BIJKARKi8vBwULjiOYEIlE+BsT0hHmtLe3R0dHR0VF0dM3YTE6Z+fOnVAdLZywALrAEkLobVlmsxmHUY1GA+X1ev3du3cxCtjp06eBslQq5flfNTc3oxYe8CwtLYVhhRBCayc4jqusrFSr1V5eXrxGoa6AXhlkZWVBpS+//HJ6ejpOzDmOO378+NNPP00vUHo24eMp4rQwqK2tRffEq1evIhqYwKFq7ty5KMw4jrtz5w72HY/bsrKyGTNmwFM7M1aswn5iqIQBx3F4WFZgYCCYXtrb2+/du1dcXAw8ZGdng+QmhPAaRct78Nmvrq5WKpXQTFzeAZ2Ojo6wsDC5XE67yXV1db377ruenp6ffvop3eTCwkIgolQqeR8Px3E4DxC6ltIrA/sWGpBwYrF4uOdbdLscSTNh4AhKD7MMTo54vwchTyUlJS4uLnY2puE6AExk7e3tn3/+ebK168SJE7asc8J629vbYasaIWTSpEk4+RKWpHM+/fRT+NWFhYXR+ZBuaWnBUZsuQK/6P/roI+GLHMeBJy4hZPr06deuXbtHXXfv3g0ODoZ6jx49ynHcxYsX4RbV+jTNHgutULLiiEALg5qaGhzHJRKJv7//8uXLExMT8/PzLRYLPVEF+p988gnUSwuDjIwMyBSLxVYjHufl5UEBlOhA7e7du5CvUCh4hvfy8nIcJe0PUkDKZDLt2bNnr40L9k6/9dZbNp7/MzsnJ4fG0FYahYGtjdwY+8HT0/PSpUtUN/4zif0IStHs7GxAgBAiVKh2dnYK+5HjOPQua25uLikpyc7O/v7777ELUKeETcCuFwoDB20GtBTsc3qH9Y5MggmDkcF5gLXQcWz6HGRTU1N582herRgFISEhgfdoMLf03NPxUOS4MqDHemTDbDbjksjX1xf9L81mM2qQrFrUcRmOQ4OtBICA6gKpVGp1/EWWMGF1ZQCBSHEmi5VKJJLw8HCe0xHHcajKp4UBSmulUokLHawXfFGQMj3k4cqApyHhOK6ioqJfwgB0bljLABIvv/wyvWqh+afTOMv5+OOP6XxMYwH7PHzyySccx2EYFUKIg9KI47jGxsa0tLRly5bNmjXL1dWVV5Hwe8CuV6lUPJtBfX092hvsC90lS5ZARaMtQCcTBvjtjdIExDMRrpSF7IJ3jR1VAA6vQ7sbvq2tDVcGtFpWyCGdY39l0DPw4aBPj4y0kPjuu+9ogpDW6XTe3t7wY5szZ05SUpLVOWxiYiIsfbAWhUJhZ7MCXRGOCPTKAAr87W9/oz0gcXDx8/PjKaCtCgPUHdFNpqsuKChAmrRbEa4M5HI5bwpcWVnZL2FgNBp32b7A0vPmm2/aLrLLwbEYx3o0+9MtbW9vR33gpEmT4uLibPUj7LTfsWMHICMWi4XqHZoyps+cOYOLORcXl4CAgISEhG+++QYRFqpxcGUQGhrKEwYDWBnQtgrk6iEmmDB4iOA7VPXq1avh67S/qASDgVwuFxpjoZqmpiYYJYWadIf4sFuovb19+fLlGo3GPpM0DdSTWF0Z0BN8Ly8vnGnSNoNbt27RBDGNowx6AeEjYSImJgbgdXNzc3AQwRGBJwxAulRVVaWkpCxbtszb25teKPD8XqwKAzSq21IT5efn41CVlJSEzUH9klwu523IqqqqQmFgZ6KApOwnhsNmAHoeYb3oMqRUKvtcFqMXgH1nHqzl5MmTYKgfO3bsBx98UFFRAYN7cXExImxHGPBO6AIvOFwZ2P8V4PdpvxiyOmIJJgxGDOoBVoQzaHSxsEqopKREKpVqNBrehAULp6enw1c+fCds2KoaeaAT9oUBbemlLcz0hNHWuQ6oa37uueds/d7Q3xx0a4CM/dU9Mm91ZdDc3BwcHIxOij2RP/R6fV5e3ptvvgnEZ82ahRpqW2oiiA0F5a2aiFAdRAihvwd6ZcATBv1dGWAzrSaGUBjgOtVWtD489WHChAm2+ho/ORSHhBBhqBVeW4qKinBjIE9lSguD4uLiBw8e0BIUu14oDOiVga2vjuM4nOUwAzKvU9ht3wigHpnWEQtfgx0GAQEBZrNZ+BS1LhKJ5Pjx41YLjHAmruutrgxu3ryJ0+pNmzYhb44Ig7Nnz+K7ViPu6XS6hQsXgrsO7gglhPDGBai0x1UpKCiIVn3giECvDGBrrvB8b47jAgICeqyaSqWSDh1odWVQVFSEmmurcUFwUSKTySorKxGWx1IY5OTkYD+CtR/bCwmDwfDGG2/88MMPHMeVlZWhV5jVwFwmk2nJkiUXLlzgOA4NRTKZjO4UjuPQm4gQUlJSEhISQmto0bVUeEZNXV2dIysDg8GA+wz65bDHa/tw3LKVwXCgOpQ00cnSqr0UawJtkq0g4UeOHIFtmdHR0fjKw02gATkoKEjIye9//3uYIPMsokajEeI+9hz/aedsDHQtX7p0qZD4e++95+TkhMf+oPcRb08DvAiu/bSj52effQa80cIA9r7JZDKeMw/HcbBSoc3gHMehRog2IHMch7AIRzSLxYIGJJ5qBVcMQjURvTKgJ7lCWBzJGaqVgcViQWvNnj17bFX94YcfAtQqlUo4y4GlA06ScIhXKBRC9y3YwQ6FcbUtl8t5thx03iWEFBUVwYY13JyPwkC4MmhoaEALBD114DUNl7xWPzZe4RG+ZcJghAHvd3XV1dVgk7Q66wRyYDCAnw3PydpsNh89evSpp54ihMyZM0fo1tJvhoboBRz1CCGbN2+mqR46dAhEl0gkwgmyxWLR6/VVVVXTp0+Hlu7YsUOn07W2tgobpdVqJ06cSAj5zW9+s2PHDlo/88MPP0yYMIF2DWxubn7hhReA5jvvvENTu3Dhgqura1BQEGSaTKaWlhbkPDQ0tK6uDjydYGVACHn33XfptlRVVcHscu3atZAPMdrQsfIvf/lLS0sLnven1+uff/55QohwDbdv3z6A5dVXX0UmgSXUL3l6epaUlOh0us7OTvCLzczMxCg9N2/ebGlpEY6qNMP204MXBt3d3RBWD2AhhGzfvr21tdVgMAjDMzQ3N2N3b926lZ5K//TTT1OnTn355ZdxS4fJZEJHBh8fH7qZmZmZMpls7ty5sKkQd6JIJBJYK0CrGxsbcWc4eCWpVKoxY8aUlJQYjcYHDx6gbjMkJKSxsbG1tbW7u7uzs1Ov1xcUFODKwA7OBQUFsNyx83O23wXD95QJg+HDdmgod3R0vP766xC1FIcMHmkISRQYGOju7g57UFNTUzMzM3fv3u3r6wsnJ8fFxeF2Wd7rD+UWf1fjxo0Ti8WLFi1KTk6+evXq+++/D0OeVCr9/PPPkbdjx465u7vj7w3Cisnlcg8Pj3379mExTBQWFqJbUXBw8O7du/fv3//++++LxWJ/f3+ey01paSnGRPLz84uJidm/f//WrVuffvrpiRMnFhQU9Gxf0Ol08+fPVygUqMmRSCRyufyZZ56pq6ujo2IEBgYmJSXl5OQcO3YMrIXu7u5QY3V19TPPPOPp6Ymn6U6YMEEul8+fPx8712g0Qo+PHTt20aJFCQkJ8fHxf/jDH+CV0NBQHDSNRiOwhCE6CCEevdfnn3++atUquVxOezfJZLKeKAgrV65EWYJwOZgYvDDIzc2dPn06TqLhRG6FQuHp6blq1SohG+Xl5ejt+tprr+3ateuzzz7bsmXL+PHjZTIZzwG3uroa5YGXl9fatWu//PLLpKSkZ599dtKkSfQm8D/96U8g/p9++umkpKTc3NzDhw/Pnj37t7/9LYaveOWVVyZMmBASEtLU1LRgwQKFQjFhwgR4C7p++vTp33777b59+zw9PfHMS0KIHZwxamlycrKwsQ83hwmDh4u/Q7WDSsHV1dWWu8vJkydB5V1RUYFaFEKIk5OTXC6PjIzECD8O1Tcihej5dWJiIj06SKXShQsX8myGycnJ7u7uCoUC4n3Key8YRKzq+mFLUVRUFE3ZyckpJCTE6n66nkjaMTExvMIqlQpdSpqamubPn69UKhUKBfwFTqZNm1ZZWXnr1i1CSE9UpY0bN6JxEsIrhYWFoS6ipKRk2rRpGPcUW/Haa69hKG+O4zo6OmJjY+VyOSrNnZycZs2adejQITSZchzX2tr62muvKZVKpKPsveRyeVJS0sqVKxEr4BmerlixYsDTgsELg3v37oEwAJ6R8x7dzn/9139Z/fSMRuOGDRvoeYCTk1NoaChtQscXzWZzbGwsrx99fX2F3gGbNm2ii0GI2ezs7La2NgjkJRKJwsPDOzo66uvroeuRZ0Cy55jx48ePJyUleXp64icBj5RKpVWcQZ0rEomsOghgKx5KggmDhwJ7/ypNT0+HQUEY9wYIgdYbfBiMRmNubu6ePXvS0tKKiooaGxvp4aN/FQ9nadTwggG5uro6Kytr165dly5dgohDvMrb29urq6tre6+63gvSVVVVdPAi3lvd3d1arTYnJyclJSUtLa1PpXltbW1OTs6hQ4d27dqVn5/Pg66urq66urq+96qrqwMGwALZ3d2N65iysrLLly/v2bMnIyMDgysgY1VVVbW1tTwiVrc4NDY2FhUVpaWlXbx4sbi42GqZ+vp6rVYLnGC6srLSaDS2trbW1NTgI0hUVlbyVkXImCOJwQuDrq6uqqoqQA/7ppG6vAAAAwFJREFUEQ6owMBQVjmpra3Ny8s7fPjwyZMn7bjrwLtarTYvLy8lJWXXrl25ubm4luJRrq2tzcjI2LVr1969e/Py8nBvY1tbW1ZWVmFhIUrN2tra6urqurq6hoaGuro6be9VWVnZ1dVlNBqrqqpqamrq6+sbGhpqa2u1Wm1VVZUQ57a2Nj8/P0IIT4vF4+ph3TJh8LCQ70e9PYEeQcVs1RwKJyQLLYf9qOBhFEUjHoYYehhcsDr7h8DghUH/6nu8Sqenp4Ouz+p+yYfeViYMHnoXOMTA2bNnIQC10FkFDAZWHTQdIv2QCqEweOQ4f0iAjYpqdTrdokWL+lxgjQpeRx8T4OSGduzRxiATBqOtR6zzYzabfXx8epxM6CAEUBRcI3i+htapjKZcNCCrVKrRxBfjpQ8EbKlc+njtiX8M20IJIWfOnBmdYDBhMDr7xQpX165dE4vFbm5u9G4jCNKJZxhYeW2UZbW3tyclJSUmJqKhe/bs2QkJCUlJSfZVxqOsHYwdhkD/EIAD1zQaDe5+79/7w1+aCYPhx3joajh8+LBEIqGV7CaTycfH54UXXhBaq4au2qGkRO/wBC89/Gsr1tBQVs9oMQQeBgJHjx4dO3ascCb3MHixWScTBjahGZ0P3nvvPTg2FtizWCwHDx7knY84OjkHrvR6/bZt2xISEuLi4uLj4xMTEyG9fft24a7R0dwQxhtDwEEEMjIypvRePG9pB18fsWJMGIwY1ENW0bp168aMGZOcnMxzfByyChghhgBDYIgQePDggY+Pj0wm6zPw6hBVOHAyTBgMHLuH+OaBAweYR8dDxJ9VzRBwEIHu7u4DBw6Mwl2fQv6ZMBBiwnIYAgwBhsAThwATBk9cl7MGMwQYAgwBIQJMGAgxYTkMAYYAQ+CJQ4AJgyeuy1mDGQIMAYaAEAEmDISYsByGAEOAIfDEIcCEwRPX5azBDAGGAENAiAATBkJMWA5DgCHAEHjiEGDC4InrctZghgBDgCEgRIAJAyEmLIchwBBgCDxxCPw/5P+laMBCkKwAAAAASUVORK5CYII=)"
      ],
      "metadata": {
        "id": "37VGHeSf5ZrV"
      }
    },
    {
      "cell_type": "code",
      "source": [
        "print('F1 = ', metrics.f1_score(y_test, y_pred))"
      ],
      "metadata": {
        "id": "h2lu3tjt5dzs",
        "colab": {
          "base_uri": "https://localhost:8080/"
        },
        "outputId": "cb839c9c-d2dc-414d-bf95-428480365acd"
      },
      "execution_count": 332,
      "outputs": [
        {
          "output_type": "stream",
          "name": "stdout",
          "text": [
            "F1 =  0.7654632668518051\n"
          ]
        }
      ]
    },
    {
      "cell_type": "markdown",
      "source": [
        "## Кривая ROC и оценка AUC"
      ],
      "metadata": {
        "id": "3L8uC2t_3EUI"
      }
    },
    {
      "cell_type": "markdown",
      "source": [
        "Полнота и точность описывают производительность\n",
        "классификатора только при определенном пороге. Часто бывает полезно иметь\n",
        "метрику, которая оценивает производительность классификатора для всех возможных пороговых значений. Основана на двух величинах:"
      ],
      "metadata": {
        "id": "YmnXB6PE2BuG"
      }
    },
    {
      "cell_type": "markdown",
      "source": [
        "доля ложноположительных результатов\n",
        "\n",
        "FPR = FP / (FP + TN)\n",
        "\n",
        "доля истинно положительных результатов\n",
        "\n",
        "TPR = TP / (TP + FN)"
      ],
      "metadata": {
        "id": "3KztL_aY3tng"
      }
    },
    {
      "cell_type": "code",
      "source": [
        "from sklearn.metrics import roc_auc_score, roc_curve\n",
        "import matplotlib.pyplot as plt\n",
        "\n",
        "#вычисление ROC-AUC\n",
        "auc_score = roc_auc_score(y_test, y_pred)\n",
        "print('ROC-AUC = ', auc_score)\n",
        "\n",
        "# Построение ROC-кривой\n",
        "fpr, tpr, thresholds = roc_curve(y_test, y_pred)\n",
        "plt.plot(fpr, tpr)\n",
        "plt.plot([0, 1], [0, 1], 'k--')\n",
        "plt.xlabel('False Positive Rate')\n",
        "plt.ylabel('True Positive Rate')\n",
        "plt.title('ROC Curve')\n",
        "plt.show()"
      ],
      "metadata": {
        "id": "xaJ8r7Jx0VzO",
        "colab": {
          "base_uri": "https://localhost:8080/",
          "height": 490
        },
        "outputId": "4e734dc1-9fba-418b-f722-b51a2d1107b5"
      },
      "execution_count": 333,
      "outputs": [
        {
          "output_type": "stream",
          "name": "stdout",
          "text": [
            "ROC-AUC =  0.8459985480323704\n"
          ]
        },
        {
          "output_type": "display_data",
          "data": {
            "text/plain": [
              "<Figure size 640x480 with 1 Axes>"
            ],
            "image/png": "[encoded data removed]"
          },
          "metadata": {}
        }
      ]
    },
    {
      "cell_type": "code",
      "source": [],
      "metadata": {
        "id": "N809uF7PcL1S"
      },
      "execution_count": 336,
      "outputs": []
    }
  ],
  "metadata": {
    "colab": {
      "provenance": []
    },
    "kernelspec": {
      "display_name": "Python 3 (ipykernel)",
      "language": "python",
      "name": "python3"
    },
    "language_info": {
      "codemirror_mode": {
        "name": "ipython",
        "version": 3
      },
      "file_extension": ".py",
      "mimetype": "text/x-python",
      "name": "python",
      "nbconvert_exporter": "python",
      "pygments_lexer": "ipython3",
      "version": "3.8.2"
    }
  },
  "nbformat": 4,
  "nbformat_minor": 0
}