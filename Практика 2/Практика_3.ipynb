{
  "cells": [
    {
      "cell_type": "markdown",
      "metadata": {
        "id": "icLMww9IFm1j"
      },
      "source": [
        "# Линейная регрессия\n"
      ]
    },
    {
      "cell_type": "code",
      "source": [
        "import pandas as pd\n",
        "import numpy as np\n",
        "import matplotlib.pyplot as plt\n",
        "import seaborn as sns"
      ],
      "metadata": {
        "id": "1i3T35pV1yqk"
      },
      "execution_count": 218,
      "outputs": []
    },
    {
      "cell_type": "markdown",
      "source": [
        "Задача та же:\n",
        "\n",
        "https://www.kaggle.com/competitions/home-data-for-ml-course/overview"
      ],
      "metadata": {
        "id": "ax8ZIs7AgZv_"
      }
    },
    {
      "cell_type": "code",
      "source": [
        "df = pd.read_csv('train.csv', sep=',')\n",
        "df.head(3)"
      ],
      "metadata": {
        "colab": {
          "base_uri": "https://localhost:8080/",
          "height": 173
        },
        "id": "2jd8W0L8y4wE",
        "outputId": "4bd446d6-decf-4d2c-e78a-3fdd9142f747"
      },
      "execution_count": 219,
      "outputs": [
        {
          "output_type": "execute_result",
          "data": {
            "text/plain": [
              "   Id  MSSubClass MSZoning  LotFrontage  LotArea Street Alley LotShape  \\\n",
              "0   1          60       RL         65.0     8450   Pave   NaN      Reg   \n",
              "1   2          20       RL         80.0     9600   Pave   NaN      Reg   \n",
              "2   3          60       RL         68.0    11250   Pave   NaN      IR1   \n",
              "\n",
              "  LandContour Utilities  ... PoolArea PoolQC Fence MiscFeature MiscVal MoSold  \\\n",
              "0         Lvl    AllPub  ...        0    NaN   NaN         NaN       0      2   \n",
              "1         Lvl    AllPub  ...        0    NaN   NaN         NaN       0      5   \n",
              "2         Lvl    AllPub  ...        0    NaN   NaN         NaN       0      9   \n",
              "\n",
              "  YrSold  SaleType  SaleCondition  SalePrice  \n",
              "0   2008        WD         Normal     208500  \n",
              "1   2007        WD         Normal     181500  \n",
              "2   2008        WD         Normal     223500  \n",
              "\n",
              "[3 rows x 81 columns]"
            ],
            "text/html": [
              "\n",
              "  <div id=\"df-346d4a92-4be9-4057-8672-afe28ca0bf1c\" class=\"colab-df-container\">\n",
              "    <div>\n",
              "<style scoped>\n",
              "    .dataframe tbody tr th:only-of-type {\n",
              "        vertical-align: middle;\n",
              "    }\n",
              "\n",
              "    .dataframe tbody tr th {\n",
              "        vertical-align: top;\n",
              "    }\n",
              "\n",
              "    .dataframe thead th {\n",
              "        text-align: right;\n",
              "    }\n",
              "</style>\n",
              "<table border=\"1\" class=\"dataframe\">\n",
              "  <thead>\n",
              "    <tr style=\"text-align: right;\">\n",
              "      <th></th>\n",
              "      <th>Id</th>\n",
              "      <th>MSSubClass</th>\n",
              "      <th>MSZoning</th>\n",
              "      <th>LotFrontage</th>\n",
              "      <th>LotArea</th>\n",
              "      <th>Street</th>\n",
              "      <th>Alley</th>\n",
              "      <th>LotShape</th>\n",
              "      <th>LandContour</th>\n",
              "      <th>Utilities</th>\n",
              "      <th>...</th>\n",
              "      <th>PoolArea</th>\n",
              "      <th>PoolQC</th>\n",
              "      <th>Fence</th>\n",
              "      <th>MiscFeature</th>\n",
              "      <th>MiscVal</th>\n",
              "      <th>MoSold</th>\n",
              "      <th>YrSold</th>\n",
              "      <th>SaleType</th>\n",
              "      <th>SaleCondition</th>\n",
              "      <th>SalePrice</th>\n",
              "    </tr>\n",
              "  </thead>\n",
              "  <tbody>\n",
              "    <tr>\n",
              "      <th>0</th>\n",
              "      <td>1</td>\n",
              "      <td>60</td>\n",
              "      <td>RL</td>\n",
              "      <td>65.0</td>\n",
              "      <td>8450</td>\n",
              "      <td>Pave</td>\n",
              "      <td>NaN</td>\n",
              "      <td>Reg</td>\n",
              "      <td>Lvl</td>\n",
              "      <td>AllPub</td>\n",
              "      <td>...</td>\n",
              "      <td>0</td>\n",
              "      <td>NaN</td>\n",
              "      <td>NaN</td>\n",
              "      <td>NaN</td>\n",
              "      <td>0</td>\n",
              "      <td>2</td>\n",
              "      <td>2008</td>\n",
              "      <td>WD</td>\n",
              "      <td>Normal</td>\n",
              "      <td>208500</td>\n",
              "    </tr>\n",
              "    <tr>\n",
              "      <th>1</th>\n",
              "      <td>2</td>\n",
              "      <td>20</td>\n",
              "      <td>RL</td>\n",
              "      <td>80.0</td>\n",
              "      <td>9600</td>\n",
              "      <td>Pave</td>\n",
              "      <td>NaN</td>\n",
              "      <td>Reg</td>\n",
              "      <td>Lvl</td>\n",
              "      <td>AllPub</td>\n",
              "      <td>...</td>\n",
              "      <td>0</td>\n",
              "      <td>NaN</td>\n",
              "      <td>NaN</td>\n",
              "      <td>NaN</td>\n",
              "      <td>0</td>\n",
              "      <td>5</td>\n",
              "      <td>2007</td>\n",
              "      <td>WD</td>\n",
              "      <td>Normal</td>\n",
              "      <td>181500</td>\n",
              "    </tr>\n",
              "    <tr>\n",
              "      <th>2</th>\n",
              "      <td>3</td>\n",
              "      <td>60</td>\n",
              "      <td>RL</td>\n",
              "      <td>68.0</td>\n",
              "      <td>11250</td>\n",
              "      <td>Pave</td>\n",
              "      <td>NaN</td>\n",
              "      <td>IR1</td>\n",
              "      <td>Lvl</td>\n",
              "      <td>AllPub</td>\n",
              "      <td>...</td>\n",
              "      <td>0</td>\n",
              "      <td>NaN</td>\n",
              "      <td>NaN</td>\n",
              "      <td>NaN</td>\n",
              "      <td>0</td>\n",
              "      <td>9</td>\n",
              "      <td>2008</td>\n",
              "      <td>WD</td>\n",
              "      <td>Normal</td>\n",
              "      <td>223500</td>\n",
              "    </tr>\n",
              "  </tbody>\n",
              "</table>\n",
              "<p>3 rows × 81 columns</p>\n",
              "</div>\n",
              "    <div class=\"colab-df-buttons\">\n",
              "\n",
              "  <div class=\"colab-df-container\">\n",
              "    <button class=\"colab-df-convert\" onclick=\"convertToInteractive('df-346d4a92-4be9-4057-8672-afe28ca0bf1c')\"\n",
              "            title=\"Convert this dataframe to an interactive table.\"\n",
              "            style=\"display:none;\">\n",
              "\n",
              "  <svg xmlns=\"http://www.w3.org/2000/svg\" height=\"24px\" viewBox=\"0 -960 960 960\">\n",
              "    <path d=\"M120-120v-720h720v720H120Zm60-500h600v-160H180v160Zm220 220h160v-160H400v160Zm0 220h160v-160H400v160ZM180-400h160v-160H180v160Zm440 0h160v-160H620v160ZM180-180h160v-160H180v160Zm440 0h160v-160H620v160Z\"/>\n",
              "  </svg>\n",
              "    </button>\n",
              "\n",
              "  <style>\n",
              "    .colab-df-container {\n",
              "      display:flex;\n",
              "      gap: 12px;\n",
              "    }\n",
              "\n",
              "    .colab-df-convert {\n",
              "      background-color: #E8F0FE;\n",
              "      border: none;\n",
              "      border-radius: 50%;\n",
              "      cursor: pointer;\n",
              "      display: none;\n",
              "      fill: #1967D2;\n",
              "      height: 32px;\n",
              "      padding: 0 0 0 0;\n",
              "      width: 32px;\n",
              "    }\n",
              "\n",
              "    .colab-df-convert:hover {\n",
              "      background-color: #E2EBFA;\n",
              "      box-shadow: 0px 1px 2px rgba(60, 64, 67, 0.3), 0px 1px 3px 1px rgba(60, 64, 67, 0.15);\n",
              "      fill: #174EA6;\n",
              "    }\n",
              "\n",
              "    .colab-df-buttons div {\n",
              "      margin-bottom: 4px;\n",
              "    }\n",
              "\n",
              "    [theme=dark] .colab-df-convert {\n",
              "      background-color: #3B4455;\n",
              "      fill: #D2E3FC;\n",
              "    }\n",
              "\n",
              "    [theme=dark] .colab-df-convert:hover {\n",
              "      background-color: #434B5C;\n",
              "      box-shadow: 0px 1px 3px 1px rgba(0, 0, 0, 0.15);\n",
              "      filter: drop-shadow(0px 1px 2px rgba(0, 0, 0, 0.3));\n",
              "      fill: #FFFFFF;\n",
              "    }\n",
              "  </style>\n",
              "\n",
              "    <script>\n",
              "      const buttonEl =\n",
              "        document.querySelector('#df-346d4a92-4be9-4057-8672-afe28ca0bf1c button.colab-df-convert');\n",
              "      buttonEl.style.display =\n",
              "        google.colab.kernel.accessAllowed ? 'block' : 'none';\n",
              "\n",
              "      async function convertToInteractive(key) {\n",
              "        const element = document.querySelector('#df-346d4a92-4be9-4057-8672-afe28ca0bf1c');\n",
              "        const dataTable =\n",
              "          await google.colab.kernel.invokeFunction('convertToInteractive',\n",
              "                                                    [key], {});\n",
              "        if (!dataTable) return;\n",
              "\n",
              "        const docLinkHtml = 'Like what you see? Visit the ' +\n",
              "          '<a target=\"_blank\" href=https://colab.research.google.com/notebooks/data_table.ipynb>data table notebook</a>'\n",
              "          + ' to learn more about interactive tables.';\n",
              "        element.innerHTML = '';\n",
              "        dataTable['output_type'] = 'display_data';\n",
              "        await google.colab.output.renderOutput(dataTable, element);\n",
              "        const docLink = document.createElement('div');\n",
              "        docLink.innerHTML = docLinkHtml;\n",
              "        element.appendChild(docLink);\n",
              "      }\n",
              "    </script>\n",
              "  </div>\n",
              "\n",
              "\n",
              "    <div id=\"df-a94eaadc-2792-41f9-9ffd-09bd235330fa\">\n",
              "      <button class=\"colab-df-quickchart\" onclick=\"quickchart('df-a94eaadc-2792-41f9-9ffd-09bd235330fa')\"\n",
              "                title=\"Suggest charts\"\n",
              "                style=\"display:none;\">\n",
              "\n",
              "<svg xmlns=\"http://www.w3.org/2000/svg\" height=\"24px\"viewBox=\"0 0 24 24\"\n",
              "     width=\"24px\">\n",
              "    <g>\n",
              "        <path d=\"M19 3H5c-1.1 0-2 .9-2 2v14c0 1.1.9 2 2 2h14c1.1 0 2-.9 2-2V5c0-1.1-.9-2-2-2zM9 17H7v-7h2v7zm4 0h-2V7h2v10zm4 0h-2v-4h2v4z\"/>\n",
              "    </g>\n",
              "</svg>\n",
              "      </button>\n",
              "\n",
              "<style>\n",
              "  .colab-df-quickchart {\n",
              "      --bg-color: #E8F0FE;\n",
              "      --fill-color: #1967D2;\n",
              "      --hover-bg-color: #E2EBFA;\n",
              "      --hover-fill-color: #174EA6;\n",
              "      --disabled-fill-color: #AAA;\n",
              "      --disabled-bg-color: #DDD;\n",
              "  }\n",
              "\n",
              "  [theme=dark] .colab-df-quickchart {\n",
              "      --bg-color: #3B4455;\n",
              "      --fill-color: #D2E3FC;\n",
              "      --hover-bg-color: #434B5C;\n",
              "      --hover-fill-color: #FFFFFF;\n",
              "      --disabled-bg-color: #3B4455;\n",
              "      --disabled-fill-color: #666;\n",
              "  }\n",
              "\n",
              "  .colab-df-quickchart {\n",
              "    background-color: var(--bg-color);\n",
              "    border: none;\n",
              "    border-radius: 50%;\n",
              "    cursor: pointer;\n",
              "    display: none;\n",
              "    fill: var(--fill-color);\n",
              "    height: 32px;\n",
              "    padding: 0;\n",
              "    width: 32px;\n",
              "  }\n",
              "\n",
              "  .colab-df-quickchart:hover {\n",
              "    background-color: var(--hover-bg-color);\n",
              "    box-shadow: 0 1px 2px rgba(60, 64, 67, 0.3), 0 1px 3px 1px rgba(60, 64, 67, 0.15);\n",
              "    fill: var(--button-hover-fill-color);\n",
              "  }\n",
              "\n",
              "  .colab-df-quickchart-complete:disabled,\n",
              "  .colab-df-quickchart-complete:disabled:hover {\n",
              "    background-color: var(--disabled-bg-color);\n",
              "    fill: var(--disabled-fill-color);\n",
              "    box-shadow: none;\n",
              "  }\n",
              "\n",
              "  .colab-df-spinner {\n",
              "    border: 2px solid var(--fill-color);\n",
              "    border-color: transparent;\n",
              "    border-bottom-color: var(--fill-color);\n",
              "    animation:\n",
              "      spin 1s steps(1) infinite;\n",
              "  }\n",
              "\n",
              "  @keyframes spin {\n",
              "    0% {\n",
              "      border-color: transparent;\n",
              "      border-bottom-color: var(--fill-color);\n",
              "      border-left-color: var(--fill-color);\n",
              "    }\n",
              "    20% {\n",
              "      border-color: transparent;\n",
              "      border-left-color: var(--fill-color);\n",
              "      border-top-color: var(--fill-color);\n",
              "    }\n",
              "    30% {\n",
              "      border-color: transparent;\n",
              "      border-left-color: var(--fill-color);\n",
              "      border-top-color: var(--fill-color);\n",
              "      border-right-color: var(--fill-color);\n",
              "    }\n",
              "    40% {\n",
              "      border-color: transparent;\n",
              "      border-right-color: var(--fill-color);\n",
              "      border-top-color: var(--fill-color);\n",
              "    }\n",
              "    60% {\n",
              "      border-color: transparent;\n",
              "      border-right-color: var(--fill-color);\n",
              "    }\n",
              "    80% {\n",
              "      border-color: transparent;\n",
              "      border-right-color: var(--fill-color);\n",
              "      border-bottom-color: var(--fill-color);\n",
              "    }\n",
              "    90% {\n",
              "      border-color: transparent;\n",
              "      border-bottom-color: var(--fill-color);\n",
              "    }\n",
              "  }\n",
              "</style>\n",
              "\n",
              "      <script>\n",
              "        async function quickchart(key) {\n",
              "          const quickchartButtonEl =\n",
              "            document.querySelector('#' + key + ' button');\n",
              "          quickchartButtonEl.disabled = true;  // To prevent multiple clicks.\n",
              "          quickchartButtonEl.classList.add('colab-df-spinner');\n",
              "          try {\n",
              "            const charts = await google.colab.kernel.invokeFunction(\n",
              "                'suggestCharts', [key], {});\n",
              "          } catch (error) {\n",
              "            console.error('Error during call to suggestCharts:', error);\n",
              "          }\n",
              "          quickchartButtonEl.classList.remove('colab-df-spinner');\n",
              "          quickchartButtonEl.classList.add('colab-df-quickchart-complete');\n",
              "        }\n",
              "        (() => {\n",
              "          let quickchartButtonEl =\n",
              "            document.querySelector('#df-a94eaadc-2792-41f9-9ffd-09bd235330fa button');\n",
              "          quickchartButtonEl.style.display =\n",
              "            google.colab.kernel.accessAllowed ? 'block' : 'none';\n",
              "        })();\n",
              "      </script>\n",
              "    </div>\n",
              "    </div>\n",
              "  </div>\n"
            ],
            "application/vnd.google.colaboratory.intrinsic+json": {
              "type": "dataframe",
              "variable_name": "df"
            }
          },
          "metadata": {},
          "execution_count": 219
        }
      ]
    },
    {
      "cell_type": "code",
      "source": [
        "# ищем признаки с наиболее высокой корреляцией с целевой переменной\n",
        "\n",
        "numerical_cols = df.select_dtypes(include=['int64', 'float64']).columns\n",
        "corr_matrix = df[numerical_cols.tolist()].corr()\n",
        "corr_matrix[\"SalePrice\"].sort_values(ascending=False)[:10]"
      ],
      "metadata": {
        "colab": {
          "base_uri": "https://localhost:8080/",
          "height": 397
        },
        "id": "xxKV_qvb9nZI",
        "outputId": "f4b51b7b-2e0a-4011-f120-2eeb735cc8d5"
      },
      "execution_count": 220,
      "outputs": [
        {
          "output_type": "execute_result",
          "data": {
            "text/plain": [
              "SalePrice       1.000000\n",
              "OverallQual     0.790982\n",
              "GrLivArea       0.708624\n",
              "GarageCars      0.640409\n",
              "GarageArea      0.623431\n",
              "TotalBsmtSF     0.613581\n",
              "1stFlrSF        0.605852\n",
              "FullBath        0.560664\n",
              "TotRmsAbvGrd    0.533723\n",
              "YearBuilt       0.522897\n",
              "Name: SalePrice, dtype: float64"
            ],
            "text/html": [
              "<div>\n",
              "<style scoped>\n",
              "    .dataframe tbody tr th:only-of-type {\n",
              "        vertical-align: middle;\n",
              "    }\n",
              "\n",
              "    .dataframe tbody tr th {\n",
              "        vertical-align: top;\n",
              "    }\n",
              "\n",
              "    .dataframe thead th {\n",
              "        text-align: right;\n",
              "    }\n",
              "</style>\n",
              "<table border=\"1\" class=\"dataframe\">\n",
              "  <thead>\n",
              "    <tr style=\"text-align: right;\">\n",
              "      <th></th>\n",
              "      <th>SalePrice</th>\n",
              "    </tr>\n",
              "  </thead>\n",
              "  <tbody>\n",
              "    <tr>\n",
              "      <th>SalePrice</th>\n",
              "      <td>1.000000</td>\n",
              "    </tr>\n",
              "    <tr>\n",
              "      <th>OverallQual</th>\n",
              "      <td>0.790982</td>\n",
              "    </tr>\n",
              "    <tr>\n",
              "      <th>GrLivArea</th>\n",
              "      <td>0.708624</td>\n",
              "    </tr>\n",
              "    <tr>\n",
              "      <th>GarageCars</th>\n",
              "      <td>0.640409</td>\n",
              "    </tr>\n",
              "    <tr>\n",
              "      <th>GarageArea</th>\n",
              "      <td>0.623431</td>\n",
              "    </tr>\n",
              "    <tr>\n",
              "      <th>TotalBsmtSF</th>\n",
              "      <td>0.613581</td>\n",
              "    </tr>\n",
              "    <tr>\n",
              "      <th>1stFlrSF</th>\n",
              "      <td>0.605852</td>\n",
              "    </tr>\n",
              "    <tr>\n",
              "      <th>FullBath</th>\n",
              "      <td>0.560664</td>\n",
              "    </tr>\n",
              "    <tr>\n",
              "      <th>TotRmsAbvGrd</th>\n",
              "      <td>0.533723</td>\n",
              "    </tr>\n",
              "    <tr>\n",
              "      <th>YearBuilt</th>\n",
              "      <td>0.522897</td>\n",
              "    </tr>\n",
              "  </tbody>\n",
              "</table>\n",
              "</div><br><label><b>dtype:</b> float64</label>"
            ]
          },
          "metadata": {},
          "execution_count": 220
        }
      ]
    },
    {
      "cell_type": "code",
      "source": [
        "# взаимная корреляция признаков\n",
        "df['GarageCars'].corr(df['GarageArea'])"
      ],
      "metadata": {
        "colab": {
          "base_uri": "https://localhost:8080/"
        },
        "id": "Ddp5w8tF-u-I",
        "outputId": "6b1cf1a1-6853-4a11-efa4-117dbdd8fbae"
      },
      "execution_count": 221,
      "outputs": [
        {
          "output_type": "execute_result",
          "data": {
            "text/plain": [
              "np.float64(0.8824754142814625)"
            ]
          },
          "metadata": {},
          "execution_count": 221
        }
      ]
    },
    {
      "cell_type": "code",
      "source": [
        "df['OverallQual'].corr(df['GrLivArea'])"
      ],
      "metadata": {
        "colab": {
          "base_uri": "https://localhost:8080/"
        },
        "id": "XJeYxZQR-kgA",
        "outputId": "607d6eb5-994b-48c5-e37c-dfa2e88b13dc"
      },
      "execution_count": 222,
      "outputs": [
        {
          "output_type": "execute_result",
          "data": {
            "text/plain": [
              "np.float64(0.59300743002865)"
            ]
          },
          "metadata": {},
          "execution_count": 222
        }
      ]
    },
    {
      "cell_type": "code",
      "source": [
        "# берем признаки с наиболее высокой корреляцией с целевой переменной\n",
        "\n",
        "X = df[['GrLivArea', 'OverallQual','GarageCars']]\n",
        "y = df['SalePrice']"
      ],
      "metadata": {
        "id": "o3ICD9Xp8b92"
      },
      "execution_count": 223,
      "outputs": []
    },
    {
      "cell_type": "code",
      "source": [
        "X.isnull().sum()"
      ],
      "metadata": {
        "colab": {
          "base_uri": "https://localhost:8080/",
          "height": 178
        },
        "id": "07NstaOO-asP",
        "outputId": "650436e4-fe1f-4ebd-9fa7-7c181d108b4d"
      },
      "execution_count": 224,
      "outputs": [
        {
          "output_type": "execute_result",
          "data": {
            "text/plain": [
              "GrLivArea      0\n",
              "OverallQual    0\n",
              "GarageCars     0\n",
              "dtype: int64"
            ],
            "text/html": [
              "<div>\n",
              "<style scoped>\n",
              "    .dataframe tbody tr th:only-of-type {\n",
              "        vertical-align: middle;\n",
              "    }\n",
              "\n",
              "    .dataframe tbody tr th {\n",
              "        vertical-align: top;\n",
              "    }\n",
              "\n",
              "    .dataframe thead th {\n",
              "        text-align: right;\n",
              "    }\n",
              "</style>\n",
              "<table border=\"1\" class=\"dataframe\">\n",
              "  <thead>\n",
              "    <tr style=\"text-align: right;\">\n",
              "      <th></th>\n",
              "      <th>0</th>\n",
              "    </tr>\n",
              "  </thead>\n",
              "  <tbody>\n",
              "    <tr>\n",
              "      <th>GrLivArea</th>\n",
              "      <td>0</td>\n",
              "    </tr>\n",
              "    <tr>\n",
              "      <th>OverallQual</th>\n",
              "      <td>0</td>\n",
              "    </tr>\n",
              "    <tr>\n",
              "      <th>GarageCars</th>\n",
              "      <td>0</td>\n",
              "    </tr>\n",
              "  </tbody>\n",
              "</table>\n",
              "</div><br><label><b>dtype:</b> int64</label>"
            ]
          },
          "metadata": {},
          "execution_count": 224
        }
      ]
    },
    {
      "cell_type": "code",
      "source": [
        "# разобьем данные на обучающую и тестовую выборку\n",
        "from sklearn.model_selection import train_test_split\n",
        "\n",
        "X_train, X_test, y_train, y_test = train_test_split(X, y, test_size = 0.2, random_state=42) # размер тестовой выборки составит 20%"
      ],
      "metadata": {
        "id": "FUFXc4Bo8m1P"
      },
      "execution_count": 225,
      "outputs": []
    },
    {
      "cell_type": "markdown",
      "source": [
        "## Обучение базовой модели"
      ],
      "metadata": {
        "id": "24wNVy4Z5vuY"
      }
    },
    {
      "cell_type": "markdown",
      "source": [
        "Линейная регрессия:\n",
        "* Хорошо работает, если зависимость между целевой переменной и признаками имеет линейный характер\n",
        "* Хорошо интерпретируется\n",
        "* Перед использованием лучше провести нормализацию данных, т.к масштаб влияет на веса\n"
      ],
      "metadata": {
        "id": "kvKUk4SI5eCQ"
      }
    },
    {
      "cell_type": "code",
      "source": [
        "# импортируем линейную регрессию\n",
        "from sklearn.linear_model import LinearRegression\n",
        "\n",
        "# создадим модель класса LinearRegression\n",
        "model = LinearRegression()\n",
        "\n",
        "# обучим нашу модель\n",
        "model.fit(X_train, y_train)"
      ],
      "metadata": {
        "colab": {
          "base_uri": "https://localhost:8080/",
          "height": 80
        },
        "id": "sOvo67RP9R7Y",
        "outputId": "ac79135d-489d-4ad9-b96e-e38b0ddf75cf"
      },
      "execution_count": 226,
      "outputs": [
        {
          "output_type": "execute_result",
          "data": {
            "text/plain": [
              "LinearRegression()"
            ],
            "text/html": [
              "<style>#sk-container-id-4 {\n",
              "  /* Definition of color scheme common for light and dark mode */\n",
              "  --sklearn-color-text: #000;\n",
              "  --sklearn-color-text-muted: #666;\n",
              "  --sklearn-color-line: gray;\n",
              "  /* Definition of color scheme for unfitted estimators */\n",
              "  --sklearn-color-unfitted-level-0: #fff5e6;\n",
              "  --sklearn-color-unfitted-level-1: #f6e4d2;\n",
              "  --sklearn-color-unfitted-level-2: #ffe0b3;\n",
              "  --sklearn-color-unfitted-level-3: chocolate;\n",
              "  /* Definition of color scheme for fitted estimators */\n",
              "  --sklearn-color-fitted-level-0: #f0f8ff;\n",
              "  --sklearn-color-fitted-level-1: #d4ebff;\n",
              "  --sklearn-color-fitted-level-2: #b3dbfd;\n",
              "  --sklearn-color-fitted-level-3: cornflowerblue;\n",
              "\n",
              "  /* Specific color for light theme */\n",
              "  --sklearn-color-text-on-default-background: var(--sg-text-color, var(--theme-code-foreground, var(--jp-content-font-color1, black)));\n",
              "  --sklearn-color-background: var(--sg-background-color, var(--theme-background, var(--jp-layout-color0, white)));\n",
              "  --sklearn-color-border-box: var(--sg-text-color, var(--theme-code-foreground, var(--jp-content-font-color1, black)));\n",
              "  --sklearn-color-icon: #696969;\n",
              "\n",
              "  @media (prefers-color-scheme: dark) {\n",
              "    /* Redefinition of color scheme for dark theme */\n",
              "    --sklearn-color-text-on-default-background: var(--sg-text-color, var(--theme-code-foreground, var(--jp-content-font-color1, white)));\n",
              "    --sklearn-color-background: var(--sg-background-color, var(--theme-background, var(--jp-layout-color0, #111)));\n",
              "    --sklearn-color-border-box: var(--sg-text-color, var(--theme-code-foreground, var(--jp-content-font-color1, white)));\n",
              "    --sklearn-color-icon: #878787;\n",
              "  }\n",
              "}\n",
              "\n",
              "#sk-container-id-4 {\n",
              "  color: var(--sklearn-color-text);\n",
              "}\n",
              "\n",
              "#sk-container-id-4 pre {\n",
              "  padding: 0;\n",
              "}\n",
              "\n",
              "#sk-container-id-4 input.sk-hidden--visually {\n",
              "  border: 0;\n",
              "  clip: rect(1px 1px 1px 1px);\n",
              "  clip: rect(1px, 1px, 1px, 1px);\n",
              "  height: 1px;\n",
              "  margin: -1px;\n",
              "  overflow: hidden;\n",
              "  padding: 0;\n",
              "  position: absolute;\n",
              "  width: 1px;\n",
              "}\n",
              "\n",
              "#sk-container-id-4 div.sk-dashed-wrapped {\n",
              "  border: 1px dashed var(--sklearn-color-line);\n",
              "  margin: 0 0.4em 0.5em 0.4em;\n",
              "  box-sizing: border-box;\n",
              "  padding-bottom: 0.4em;\n",
              "  background-color: var(--sklearn-color-background);\n",
              "}\n",
              "\n",
              "#sk-container-id-4 div.sk-container {\n",
              "  /* jupyter's `normalize.less` sets `[hidden] { display: none; }`\n",
              "     but bootstrap.min.css set `[hidden] { display: none !important; }`\n",
              "     so we also need the `!important` here to be able to override the\n",
              "     default hidden behavior on the sphinx rendered scikit-learn.org.\n",
              "     See: https://github.com/scikit-learn/scikit-learn/issues/21755 */\n",
              "  display: inline-block !important;\n",
              "  position: relative;\n",
              "}\n",
              "\n",
              "#sk-container-id-4 div.sk-text-repr-fallback {\n",
              "  display: none;\n",
              "}\n",
              "\n",
              "div.sk-parallel-item,\n",
              "div.sk-serial,\n",
              "div.sk-item {\n",
              "  /* draw centered vertical line to link estimators */\n",
              "  background-image: linear-gradient(var(--sklearn-color-text-on-default-background), var(--sklearn-color-text-on-default-background));\n",
              "  background-size: 2px 100%;\n",
              "  background-repeat: no-repeat;\n",
              "  background-position: center center;\n",
              "}\n",
              "\n",
              "/* Parallel-specific style estimator block */\n",
              "\n",
              "#sk-container-id-4 div.sk-parallel-item::after {\n",
              "  content: \"\";\n",
              "  width: 100%;\n",
              "  border-bottom: 2px solid var(--sklearn-color-text-on-default-background);\n",
              "  flex-grow: 1;\n",
              "}\n",
              "\n",
              "#sk-container-id-4 div.sk-parallel {\n",
              "  display: flex;\n",
              "  align-items: stretch;\n",
              "  justify-content: center;\n",
              "  background-color: var(--sklearn-color-background);\n",
              "  position: relative;\n",
              "}\n",
              "\n",
              "#sk-container-id-4 div.sk-parallel-item {\n",
              "  display: flex;\n",
              "  flex-direction: column;\n",
              "}\n",
              "\n",
              "#sk-container-id-4 div.sk-parallel-item:first-child::after {\n",
              "  align-self: flex-end;\n",
              "  width: 50%;\n",
              "}\n",
              "\n",
              "#sk-container-id-4 div.sk-parallel-item:last-child::after {\n",
              "  align-self: flex-start;\n",
              "  width: 50%;\n",
              "}\n",
              "\n",
              "#sk-container-id-4 div.sk-parallel-item:only-child::after {\n",
              "  width: 0;\n",
              "}\n",
              "\n",
              "/* Serial-specific style estimator block */\n",
              "\n",
              "#sk-container-id-4 div.sk-serial {\n",
              "  display: flex;\n",
              "  flex-direction: column;\n",
              "  align-items: center;\n",
              "  background-color: var(--sklearn-color-background);\n",
              "  padding-right: 1em;\n",
              "  padding-left: 1em;\n",
              "}\n",
              "\n",
              "\n",
              "/* Toggleable style: style used for estimator/Pipeline/ColumnTransformer box that is\n",
              "clickable and can be expanded/collapsed.\n",
              "- Pipeline and ColumnTransformer use this feature and define the default style\n",
              "- Estimators will overwrite some part of the style using the `sk-estimator` class\n",
              "*/\n",
              "\n",
              "/* Pipeline and ColumnTransformer style (default) */\n",
              "\n",
              "#sk-container-id-4 div.sk-toggleable {\n",
              "  /* Default theme specific background. It is overwritten whether we have a\n",
              "  specific estimator or a Pipeline/ColumnTransformer */\n",
              "  background-color: var(--sklearn-color-background);\n",
              "}\n",
              "\n",
              "/* Toggleable label */\n",
              "#sk-container-id-4 label.sk-toggleable__label {\n",
              "  cursor: pointer;\n",
              "  display: flex;\n",
              "  width: 100%;\n",
              "  margin-bottom: 0;\n",
              "  padding: 0.5em;\n",
              "  box-sizing: border-box;\n",
              "  text-align: center;\n",
              "  align-items: start;\n",
              "  justify-content: space-between;\n",
              "  gap: 0.5em;\n",
              "}\n",
              "\n",
              "#sk-container-id-4 label.sk-toggleable__label .caption {\n",
              "  font-size: 0.6rem;\n",
              "  font-weight: lighter;\n",
              "  color: var(--sklearn-color-text-muted);\n",
              "}\n",
              "\n",
              "#sk-container-id-4 label.sk-toggleable__label-arrow:before {\n",
              "  /* Arrow on the left of the label */\n",
              "  content: \"▸\";\n",
              "  float: left;\n",
              "  margin-right: 0.25em;\n",
              "  color: var(--sklearn-color-icon);\n",
              "}\n",
              "\n",
              "#sk-container-id-4 label.sk-toggleable__label-arrow:hover:before {\n",
              "  color: var(--sklearn-color-text);\n",
              "}\n",
              "\n",
              "/* Toggleable content - dropdown */\n",
              "\n",
              "#sk-container-id-4 div.sk-toggleable__content {\n",
              "  max-height: 0;\n",
              "  max-width: 0;\n",
              "  overflow: hidden;\n",
              "  text-align: left;\n",
              "  /* unfitted */\n",
              "  background-color: var(--sklearn-color-unfitted-level-0);\n",
              "}\n",
              "\n",
              "#sk-container-id-4 div.sk-toggleable__content.fitted {\n",
              "  /* fitted */\n",
              "  background-color: var(--sklearn-color-fitted-level-0);\n",
              "}\n",
              "\n",
              "#sk-container-id-4 div.sk-toggleable__content pre {\n",
              "  margin: 0.2em;\n",
              "  border-radius: 0.25em;\n",
              "  color: var(--sklearn-color-text);\n",
              "  /* unfitted */\n",
              "  background-color: var(--sklearn-color-unfitted-level-0);\n",
              "}\n",
              "\n",
              "#sk-container-id-4 div.sk-toggleable__content.fitted pre {\n",
              "  /* unfitted */\n",
              "  background-color: var(--sklearn-color-fitted-level-0);\n",
              "}\n",
              "\n",
              "#sk-container-id-4 input.sk-toggleable__control:checked~div.sk-toggleable__content {\n",
              "  /* Expand drop-down */\n",
              "  max-height: 200px;\n",
              "  max-width: 100%;\n",
              "  overflow: auto;\n",
              "}\n",
              "\n",
              "#sk-container-id-4 input.sk-toggleable__control:checked~label.sk-toggleable__label-arrow:before {\n",
              "  content: \"▾\";\n",
              "}\n",
              "\n",
              "/* Pipeline/ColumnTransformer-specific style */\n",
              "\n",
              "#sk-container-id-4 div.sk-label input.sk-toggleable__control:checked~label.sk-toggleable__label {\n",
              "  color: var(--sklearn-color-text);\n",
              "  background-color: var(--sklearn-color-unfitted-level-2);\n",
              "}\n",
              "\n",
              "#sk-container-id-4 div.sk-label.fitted input.sk-toggleable__control:checked~label.sk-toggleable__label {\n",
              "  background-color: var(--sklearn-color-fitted-level-2);\n",
              "}\n",
              "\n",
              "/* Estimator-specific style */\n",
              "\n",
              "/* Colorize estimator box */\n",
              "#sk-container-id-4 div.sk-estimator input.sk-toggleable__control:checked~label.sk-toggleable__label {\n",
              "  /* unfitted */\n",
              "  background-color: var(--sklearn-color-unfitted-level-2);\n",
              "}\n",
              "\n",
              "#sk-container-id-4 div.sk-estimator.fitted input.sk-toggleable__control:checked~label.sk-toggleable__label {\n",
              "  /* fitted */\n",
              "  background-color: var(--sklearn-color-fitted-level-2);\n",
              "}\n",
              "\n",
              "#sk-container-id-4 div.sk-label label.sk-toggleable__label,\n",
              "#sk-container-id-4 div.sk-label label {\n",
              "  /* The background is the default theme color */\n",
              "  color: var(--sklearn-color-text-on-default-background);\n",
              "}\n",
              "\n",
              "/* On hover, darken the color of the background */\n",
              "#sk-container-id-4 div.sk-label:hover label.sk-toggleable__label {\n",
              "  color: var(--sklearn-color-text);\n",
              "  background-color: var(--sklearn-color-unfitted-level-2);\n",
              "}\n",
              "\n",
              "/* Label box, darken color on hover, fitted */\n",
              "#sk-container-id-4 div.sk-label.fitted:hover label.sk-toggleable__label.fitted {\n",
              "  color: var(--sklearn-color-text);\n",
              "  background-color: var(--sklearn-color-fitted-level-2);\n",
              "}\n",
              "\n",
              "/* Estimator label */\n",
              "\n",
              "#sk-container-id-4 div.sk-label label {\n",
              "  font-family: monospace;\n",
              "  font-weight: bold;\n",
              "  display: inline-block;\n",
              "  line-height: 1.2em;\n",
              "}\n",
              "\n",
              "#sk-container-id-4 div.sk-label-container {\n",
              "  text-align: center;\n",
              "}\n",
              "\n",
              "/* Estimator-specific */\n",
              "#sk-container-id-4 div.sk-estimator {\n",
              "  font-family: monospace;\n",
              "  border: 1px dotted var(--sklearn-color-border-box);\n",
              "  border-radius: 0.25em;\n",
              "  box-sizing: border-box;\n",
              "  margin-bottom: 0.5em;\n",
              "  /* unfitted */\n",
              "  background-color: var(--sklearn-color-unfitted-level-0);\n",
              "}\n",
              "\n",
              "#sk-container-id-4 div.sk-estimator.fitted {\n",
              "  /* fitted */\n",
              "  background-color: var(--sklearn-color-fitted-level-0);\n",
              "}\n",
              "\n",
              "/* on hover */\n",
              "#sk-container-id-4 div.sk-estimator:hover {\n",
              "  /* unfitted */\n",
              "  background-color: var(--sklearn-color-unfitted-level-2);\n",
              "}\n",
              "\n",
              "#sk-container-id-4 div.sk-estimator.fitted:hover {\n",
              "  /* fitted */\n",
              "  background-color: var(--sklearn-color-fitted-level-2);\n",
              "}\n",
              "\n",
              "/* Specification for estimator info (e.g. \"i\" and \"?\") */\n",
              "\n",
              "/* Common style for \"i\" and \"?\" */\n",
              "\n",
              ".sk-estimator-doc-link,\n",
              "a:link.sk-estimator-doc-link,\n",
              "a:visited.sk-estimator-doc-link {\n",
              "  float: right;\n",
              "  font-size: smaller;\n",
              "  line-height: 1em;\n",
              "  font-family: monospace;\n",
              "  background-color: var(--sklearn-color-background);\n",
              "  border-radius: 1em;\n",
              "  height: 1em;\n",
              "  width: 1em;\n",
              "  text-decoration: none !important;\n",
              "  margin-left: 0.5em;\n",
              "  text-align: center;\n",
              "  /* unfitted */\n",
              "  border: var(--sklearn-color-unfitted-level-1) 1pt solid;\n",
              "  color: var(--sklearn-color-unfitted-level-1);\n",
              "}\n",
              "\n",
              ".sk-estimator-doc-link.fitted,\n",
              "a:link.sk-estimator-doc-link.fitted,\n",
              "a:visited.sk-estimator-doc-link.fitted {\n",
              "  /* fitted */\n",
              "  border: var(--sklearn-color-fitted-level-1) 1pt solid;\n",
              "  color: var(--sklearn-color-fitted-level-1);\n",
              "}\n",
              "\n",
              "/* On hover */\n",
              "div.sk-estimator:hover .sk-estimator-doc-link:hover,\n",
              ".sk-estimator-doc-link:hover,\n",
              "div.sk-label-container:hover .sk-estimator-doc-link:hover,\n",
              ".sk-estimator-doc-link:hover {\n",
              "  /* unfitted */\n",
              "  background-color: var(--sklearn-color-unfitted-level-3);\n",
              "  color: var(--sklearn-color-background);\n",
              "  text-decoration: none;\n",
              "}\n",
              "\n",
              "div.sk-estimator.fitted:hover .sk-estimator-doc-link.fitted:hover,\n",
              ".sk-estimator-doc-link.fitted:hover,\n",
              "div.sk-label-container:hover .sk-estimator-doc-link.fitted:hover,\n",
              ".sk-estimator-doc-link.fitted:hover {\n",
              "  /* fitted */\n",
              "  background-color: var(--sklearn-color-fitted-level-3);\n",
              "  color: var(--sklearn-color-background);\n",
              "  text-decoration: none;\n",
              "}\n",
              "\n",
              "/* Span, style for the box shown on hovering the info icon */\n",
              ".sk-estimator-doc-link span {\n",
              "  display: none;\n",
              "  z-index: 9999;\n",
              "  position: relative;\n",
              "  font-weight: normal;\n",
              "  right: .2ex;\n",
              "  padding: .5ex;\n",
              "  margin: .5ex;\n",
              "  width: min-content;\n",
              "  min-width: 20ex;\n",
              "  max-width: 50ex;\n",
              "  color: var(--sklearn-color-text);\n",
              "  box-shadow: 2pt 2pt 4pt #999;\n",
              "  /* unfitted */\n",
              "  background: var(--sklearn-color-unfitted-level-0);\n",
              "  border: .5pt solid var(--sklearn-color-unfitted-level-3);\n",
              "}\n",
              "\n",
              ".sk-estimator-doc-link.fitted span {\n",
              "  /* fitted */\n",
              "  background: var(--sklearn-color-fitted-level-0);\n",
              "  border: var(--sklearn-color-fitted-level-3);\n",
              "}\n",
              "\n",
              ".sk-estimator-doc-link:hover span {\n",
              "  display: block;\n",
              "}\n",
              "\n",
              "/* \"?\"-specific style due to the `<a>` HTML tag */\n",
              "\n",
              "#sk-container-id-4 a.estimator_doc_link {\n",
              "  float: right;\n",
              "  font-size: 1rem;\n",
              "  line-height: 1em;\n",
              "  font-family: monospace;\n",
              "  background-color: var(--sklearn-color-background);\n",
              "  border-radius: 1rem;\n",
              "  height: 1rem;\n",
              "  width: 1rem;\n",
              "  text-decoration: none;\n",
              "  /* unfitted */\n",
              "  color: var(--sklearn-color-unfitted-level-1);\n",
              "  border: var(--sklearn-color-unfitted-level-1) 1pt solid;\n",
              "}\n",
              "\n",
              "#sk-container-id-4 a.estimator_doc_link.fitted {\n",
              "  /* fitted */\n",
              "  border: var(--sklearn-color-fitted-level-1) 1pt solid;\n",
              "  color: var(--sklearn-color-fitted-level-1);\n",
              "}\n",
              "\n",
              "/* On hover */\n",
              "#sk-container-id-4 a.estimator_doc_link:hover {\n",
              "  /* unfitted */\n",
              "  background-color: var(--sklearn-color-unfitted-level-3);\n",
              "  color: var(--sklearn-color-background);\n",
              "  text-decoration: none;\n",
              "}\n",
              "\n",
              "#sk-container-id-4 a.estimator_doc_link.fitted:hover {\n",
              "  /* fitted */\n",
              "  background-color: var(--sklearn-color-fitted-level-3);\n",
              "}\n",
              "</style><div id=\"sk-container-id-4\" class=\"sk-top-container\"><div class=\"sk-text-repr-fallback\"><pre>LinearRegression()</pre><b>In a Jupyter environment, please rerun this cell to show the HTML representation or trust the notebook. <br />On GitHub, the HTML representation is unable to render, please try loading this page with nbviewer.org.</b></div><div class=\"sk-container\" hidden><div class=\"sk-item\"><div class=\"sk-estimator fitted sk-toggleable\"><input class=\"sk-toggleable__control sk-hidden--visually\" id=\"sk-estimator-id-4\" type=\"checkbox\" checked><label for=\"sk-estimator-id-4\" class=\"sk-toggleable__label fitted sk-toggleable__label-arrow\"><div><div>LinearRegression</div></div><div><a class=\"sk-estimator-doc-link fitted\" rel=\"noreferrer\" target=\"_blank\" href=\"https://scikit-learn.org/1.6/modules/generated/sklearn.linear_model.LinearRegression.html\">?<span>Documentation for LinearRegression</span></a><span class=\"sk-estimator-doc-link fitted\">i<span>Fitted</span></span></div></label><div class=\"sk-toggleable__content fitted\"><pre>LinearRegression()</pre></div> </div></div></div></div>"
            ]
          },
          "metadata": {},
          "execution_count": 226
        }
      ]
    },
    {
      "cell_type": "markdown",
      "metadata": {
        "id": "reZXbRCm1xOS"
      },
      "source": [
        "Теперь сделаем предсказания с помощью метода **.predict(X)**. Заметьте, что в метод **.fit(X, y)** мы подавали матрицу с признаками и вектор с правильными ответами. В метод **.predict(X)** мы подаем только матрицу с признаками, потому что мы хотим сделать предсказание."
      ]
    },
    {
      "cell_type": "code",
      "execution_count": 227,
      "metadata": {
        "id": "sQYpX4w3xm2s"
      },
      "outputs": [],
      "source": [
        "y_pred = model.predict(X_test)\n",
        "\n",
        "#print(y_pred)"
      ]
    },
    {
      "cell_type": "markdown",
      "source": [
        "### Интерпретирумость"
      ],
      "metadata": {
        "id": "Hvrg_j5kBmAN"
      }
    },
    {
      "cell_type": "code",
      "source": [
        "model.coef_"
      ],
      "metadata": {
        "colab": {
          "base_uri": "https://localhost:8080/"
        },
        "id": "E1-NseBUBq8O",
        "outputId": "84546468-a808-4b21-ecfc-295baafb5323"
      },
      "execution_count": 228,
      "outputs": [
        {
          "output_type": "execute_result",
          "data": {
            "text/plain": [
              "array([   47.2285051 , 26772.48983385, 22239.45989805])"
            ]
          },
          "metadata": {},
          "execution_count": 228
        }
      ]
    },
    {
      "cell_type": "code",
      "source": [
        "model.intercept_"
      ],
      "metadata": {
        "colab": {
          "base_uri": "https://localhost:8080/"
        },
        "id": "F4abX0dMCjG7",
        "outputId": "0ef4058d-acc1-4193-a9db-268703f4ce0b"
      },
      "execution_count": 229,
      "outputs": [
        {
          "output_type": "execute_result",
          "data": {
            "text/plain": [
              "np.float64(-94208.72140326074)"
            ]
          },
          "metadata": {},
          "execution_count": 229
        }
      ]
    },
    {
      "cell_type": "code",
      "source": [
        "X_test[:1]"
      ],
      "metadata": {
        "colab": {
          "base_uri": "https://localhost:8080/",
          "height": 81
        },
        "id": "WM1WvBhqBOPz",
        "outputId": "f45c3fa4-4351-41a1-e0ed-37fe8733a9ab"
      },
      "execution_count": 230,
      "outputs": [
        {
          "output_type": "execute_result",
          "data": {
            "text/plain": [
              "     GrLivArea  OverallQual  GarageCars\n",
              "892       1068            6           1"
            ],
            "text/html": [
              "\n",
              "  <div id=\"df-33565e48-d11c-423c-a715-1c42eb2e1f45\" class=\"colab-df-container\">\n",
              "    <div>\n",
              "<style scoped>\n",
              "    .dataframe tbody tr th:only-of-type {\n",
              "        vertical-align: middle;\n",
              "    }\n",
              "\n",
              "    .dataframe tbody tr th {\n",
              "        vertical-align: top;\n",
              "    }\n",
              "\n",
              "    .dataframe thead th {\n",
              "        text-align: right;\n",
              "    }\n",
              "</style>\n",
              "<table border=\"1\" class=\"dataframe\">\n",
              "  <thead>\n",
              "    <tr style=\"text-align: right;\">\n",
              "      <th></th>\n",
              "      <th>GrLivArea</th>\n",
              "      <th>OverallQual</th>\n",
              "      <th>GarageCars</th>\n",
              "    </tr>\n",
              "  </thead>\n",
              "  <tbody>\n",
              "    <tr>\n",
              "      <th>892</th>\n",
              "      <td>1068</td>\n",
              "      <td>6</td>\n",
              "      <td>1</td>\n",
              "    </tr>\n",
              "  </tbody>\n",
              "</table>\n",
              "</div>\n",
              "    <div class=\"colab-df-buttons\">\n",
              "\n",
              "  <div class=\"colab-df-container\">\n",
              "    <button class=\"colab-df-convert\" onclick=\"convertToInteractive('df-33565e48-d11c-423c-a715-1c42eb2e1f45')\"\n",
              "            title=\"Convert this dataframe to an interactive table.\"\n",
              "            style=\"display:none;\">\n",
              "\n",
              "  <svg xmlns=\"http://www.w3.org/2000/svg\" height=\"24px\" viewBox=\"0 -960 960 960\">\n",
              "    <path d=\"M120-120v-720h720v720H120Zm60-500h600v-160H180v160Zm220 220h160v-160H400v160Zm0 220h160v-160H400v160ZM180-400h160v-160H180v160Zm440 0h160v-160H620v160ZM180-180h160v-160H180v160Zm440 0h160v-160H620v160Z\"/>\n",
              "  </svg>\n",
              "    </button>\n",
              "\n",
              "  <style>\n",
              "    .colab-df-container {\n",
              "      display:flex;\n",
              "      gap: 12px;\n",
              "    }\n",
              "\n",
              "    .colab-df-convert {\n",
              "      background-color: #E8F0FE;\n",
              "      border: none;\n",
              "      border-radius: 50%;\n",
              "      cursor: pointer;\n",
              "      display: none;\n",
              "      fill: #1967D2;\n",
              "      height: 32px;\n",
              "      padding: 0 0 0 0;\n",
              "      width: 32px;\n",
              "    }\n",
              "\n",
              "    .colab-df-convert:hover {\n",
              "      background-color: #E2EBFA;\n",
              "      box-shadow: 0px 1px 2px rgba(60, 64, 67, 0.3), 0px 1px 3px 1px rgba(60, 64, 67, 0.15);\n",
              "      fill: #174EA6;\n",
              "    }\n",
              "\n",
              "    .colab-df-buttons div {\n",
              "      margin-bottom: 4px;\n",
              "    }\n",
              "\n",
              "    [theme=dark] .colab-df-convert {\n",
              "      background-color: #3B4455;\n",
              "      fill: #D2E3FC;\n",
              "    }\n",
              "\n",
              "    [theme=dark] .colab-df-convert:hover {\n",
              "      background-color: #434B5C;\n",
              "      box-shadow: 0px 1px 3px 1px rgba(0, 0, 0, 0.15);\n",
              "      filter: drop-shadow(0px 1px 2px rgba(0, 0, 0, 0.3));\n",
              "      fill: #FFFFFF;\n",
              "    }\n",
              "  </style>\n",
              "\n",
              "    <script>\n",
              "      const buttonEl =\n",
              "        document.querySelector('#df-33565e48-d11c-423c-a715-1c42eb2e1f45 button.colab-df-convert');\n",
              "      buttonEl.style.display =\n",
              "        google.colab.kernel.accessAllowed ? 'block' : 'none';\n",
              "\n",
              "      async function convertToInteractive(key) {\n",
              "        const element = document.querySelector('#df-33565e48-d11c-423c-a715-1c42eb2e1f45');\n",
              "        const dataTable =\n",
              "          await google.colab.kernel.invokeFunction('convertToInteractive',\n",
              "                                                    [key], {});\n",
              "        if (!dataTable) return;\n",
              "\n",
              "        const docLinkHtml = 'Like what you see? Visit the ' +\n",
              "          '<a target=\"_blank\" href=https://colab.research.google.com/notebooks/data_table.ipynb>data table notebook</a>'\n",
              "          + ' to learn more about interactive tables.';\n",
              "        element.innerHTML = '';\n",
              "        dataTable['output_type'] = 'display_data';\n",
              "        await google.colab.output.renderOutput(dataTable, element);\n",
              "        const docLink = document.createElement('div');\n",
              "        docLink.innerHTML = docLinkHtml;\n",
              "        element.appendChild(docLink);\n",
              "      }\n",
              "    </script>\n",
              "  </div>\n",
              "\n",
              "    </div>\n",
              "  </div>\n"
            ],
            "application/vnd.google.colaboratory.intrinsic+json": {
              "type": "dataframe",
              "summary": "{\n  \"name\": \"X_test[:1]\",\n  \"rows\": 1,\n  \"fields\": [\n    {\n      \"column\": \"GrLivArea\",\n      \"properties\": {\n        \"dtype\": \"number\",\n        \"std\": null,\n        \"min\": 1068,\n        \"max\": 1068,\n        \"num_unique_values\": 1,\n        \"samples\": [\n          1068\n        ],\n        \"semantic_type\": \"\",\n        \"description\": \"\"\n      }\n    },\n    {\n      \"column\": \"OverallQual\",\n      \"properties\": {\n        \"dtype\": \"number\",\n        \"std\": null,\n        \"min\": 6,\n        \"max\": 6,\n        \"num_unique_values\": 1,\n        \"samples\": [\n          6\n        ],\n        \"semantic_type\": \"\",\n        \"description\": \"\"\n      }\n    },\n    {\n      \"column\": \"GarageCars\",\n      \"properties\": {\n        \"dtype\": \"number\",\n        \"std\": null,\n        \"min\": 1,\n        \"max\": 1,\n        \"num_unique_values\": 1,\n        \"samples\": [\n          1\n        ],\n        \"semantic_type\": \"\",\n        \"description\": \"\"\n      }\n    }\n  ]\n}"
            }
          },
          "metadata": {},
          "execution_count": 230
        }
      ]
    },
    {
      "cell_type": "code",
      "source": [
        "-94208.72140326074 + 1068*47.2285051 + 6*26772.48983385 + 1*22239.45989805"
      ],
      "metadata": {
        "colab": {
          "base_uri": "https://localhost:8080/"
        },
        "id": "NSCxz00zMmCk",
        "outputId": "9824dc8c-3d63-4ee7-a190-8070816c0b7d"
      },
      "execution_count": 231,
      "outputs": [
        {
          "output_type": "execute_result",
          "data": {
            "text/plain": [
              "139105.72094468924"
            ]
          },
          "metadata": {},
          "execution_count": 231
        }
      ]
    },
    {
      "cell_type": "code",
      "source": [
        "y_pred[0]"
      ],
      "metadata": {
        "colab": {
          "base_uri": "https://localhost:8080/"
        },
        "id": "IPUBtuw-Bdbx",
        "outputId": "b3dd5284-764f-4deb-c059-0e4381a1092a"
      },
      "execution_count": 232,
      "outputs": [
        {
          "output_type": "execute_result",
          "data": {
            "text/plain": [
              "np.float64(139105.72094361507)"
            ]
          },
          "metadata": {},
          "execution_count": 232
        }
      ]
    },
    {
      "cell_type": "markdown",
      "source": [
        "## Оценка модели"
      ],
      "metadata": {
        "id": "ecVncVWI9xgx"
      }
    },
    {
      "cell_type": "markdown",
      "metadata": {
        "id": "2DEEoDrr2fjK"
      },
      "source": [
        "Проверим результат. Воспользуемся метрикой RMSE"
      ]
    },
    {
      "cell_type": "code",
      "execution_count": 233,
      "metadata": {
        "colab": {
          "base_uri": "https://localhost:8080/"
        },
        "id": "DISiVcT4xr1f",
        "outputId": "51c7fe12-0ce2-4494-a3db-8c80972ae5ea"
      },
      "outputs": [
        {
          "output_type": "stream",
          "name": "stdout",
          "text": [
            "MAE =  28121.524151747963\n",
            "RMSE =  43032.15048041463\n",
            "R2 =  0.7585805446926186\n",
            "MAPE =  0.17547438845000224\n"
          ]
        }
      ],
      "source": [
        "from sklearn import metrics\n",
        "\n",
        "# средняя абсолютная ошибка\n",
        "print('MAE = ', metrics.mean_absolute_error(y_test, y_pred))\n",
        "\n",
        "# корень среднеквадратической ошибки\n",
        "print('RMSE = ', np.sqrt(metrics.mean_squared_error(y_test, y_pred)))\n",
        "\n",
        "# коэффициент детерминации r-квадрат\n",
        "# ~ доля дисперсии зависимой переменной, объясняемая рассматриваемой моделью\n",
        "# 1-(D[ошибки модели]/D[целевой переменной])\n",
        "print('R2 = ', metrics.r2_score(y_test, y_pred))\n",
        "\n",
        "# средняя абсолютная процентная ошибка\n",
        "print('MAPE = ', metrics.mean_absolute_percentage_error(y_test, y_pred))"
      ]
    },
    {
      "cell_type": "code",
      "source": [
        "df.SalePrice.mean()"
      ],
      "metadata": {
        "colab": {
          "base_uri": "https://localhost:8080/"
        },
        "id": "YYSimbLqHts2",
        "outputId": "1eaf6d83-471c-45ff-ddb6-512851265d5a"
      },
      "execution_count": 234,
      "outputs": [
        {
          "output_type": "execute_result",
          "data": {
            "text/plain": [
              "np.float64(180921.19589041095)"
            ]
          },
          "metadata": {},
          "execution_count": 234
        }
      ]
    },
    {
      "cell_type": "markdown",
      "source": [
        "### Геометрический смысл"
      ],
      "metadata": {
        "id": "b5HUXPzEHbNb"
      }
    },
    {
      "cell_type": "code",
      "source": [
        "X = df[['GrLivArea']]\n",
        "y = df['SalePrice']\n",
        "\n",
        "X_train, X_test, y_train, y_test = train_test_split(X, y, test_size = 0.2, random_state=42)\n",
        "\n",
        "model = LinearRegression()\n",
        "\n",
        "model.fit(X_train, y_train)\n",
        "y_pred = model.predict(X_test)\n",
        "\n",
        "print('RMSE = ', np.sqrt(metrics.mean_squared_error(y_test, y_pred)))"
      ],
      "metadata": {
        "colab": {
          "base_uri": "https://localhost:8080/"
        },
        "id": "IsJZrAp7Hawb",
        "outputId": "2e691db9-4019-411a-ab3f-a35576ce8e6e"
      },
      "execution_count": 235,
      "outputs": [
        {
          "output_type": "stream",
          "name": "stdout",
          "text": [
            "RMSE =  58471.75652552955\n"
          ]
        }
      ]
    },
    {
      "cell_type": "code",
      "source": [
        "# построим график\n",
        "plt.scatter(X_test, y_test)\n",
        "plt.scatter(X_test, y_test, color = 'green')\n",
        "plt.plot(X_test, y_pred, color = 'red')\n",
        "\n",
        "plt.xlabel('Above grade (ground) living area square feet')\n",
        "plt.ylabel('The property\\'s sale price in dollars')"
      ],
      "metadata": {
        "colab": {
          "base_uri": "https://localhost:8080/",
          "height": 0
        },
        "id": "Z3_bt9dlHgDa",
        "outputId": "ff0a8b6d-65c0-444d-97ab-a2368763e7d0"
      },
      "execution_count": 236,
      "outputs": [
        {
          "output_type": "execute_result",
          "data": {
            "text/plain": [
              "Text(0, 0.5, \"The property's sale price in dollars\")"
            ]
          },
          "metadata": {},
          "execution_count": 236
        },
        {
          "output_type": "display_data",
          "data": {
            "text/plain": [
              "<Figure size 640x480 with 1 Axes>"
            ],
            "image/png": "[encoded data removed]"
          },
          "metadata": {}
        }
      ]
    },
    {
      "cell_type": "markdown",
      "source": [
        "## Улучшения"
      ],
      "metadata": {
        "id": "tfRCEZP0K884"
      }
    },
    {
      "cell_type": "code",
      "source": [
        "#добавим логарифм цены\n",
        "df['logSalePrice'] = np.log1p(df['SalePrice'])\n",
        "\n",
        "#обратная - np.expm1\n",
        "df.head(2)"
      ],
      "metadata": {
        "colab": {
          "base_uri": "https://localhost:8080/",
          "height": 141
        },
        "id": "bOVs1NLhLYn7",
        "outputId": "75c6bae3-b189-4bcb-869d-2b2b50b1b0ac"
      },
      "execution_count": 237,
      "outputs": [
        {
          "output_type": "execute_result",
          "data": {
            "text/plain": [
              "   Id  MSSubClass MSZoning  LotFrontage  LotArea Street Alley LotShape  \\\n",
              "0   1          60       RL         65.0     8450   Pave   NaN      Reg   \n",
              "1   2          20       RL         80.0     9600   Pave   NaN      Reg   \n",
              "\n",
              "  LandContour Utilities  ... PoolQC Fence MiscFeature MiscVal MoSold YrSold  \\\n",
              "0         Lvl    AllPub  ...    NaN   NaN         NaN       0      2   2008   \n",
              "1         Lvl    AllPub  ...    NaN   NaN         NaN       0      5   2007   \n",
              "\n",
              "  SaleType  SaleCondition  SalePrice  logSalePrice  \n",
              "0       WD         Normal     208500     12.247699  \n",
              "1       WD         Normal     181500     12.109016  \n",
              "\n",
              "[2 rows x 82 columns]"
            ],
            "text/html": [
              "\n",
              "  <div id=\"df-7e849efb-403c-4918-b1b1-ccf6d01f2f9d\" class=\"colab-df-container\">\n",
              "    <div>\n",
              "<style scoped>\n",
              "    .dataframe tbody tr th:only-of-type {\n",
              "        vertical-align: middle;\n",
              "    }\n",
              "\n",
              "    .dataframe tbody tr th {\n",
              "        vertical-align: top;\n",
              "    }\n",
              "\n",
              "    .dataframe thead th {\n",
              "        text-align: right;\n",
              "    }\n",
              "</style>\n",
              "<table border=\"1\" class=\"dataframe\">\n",
              "  <thead>\n",
              "    <tr style=\"text-align: right;\">\n",
              "      <th></th>\n",
              "      <th>Id</th>\n",
              "      <th>MSSubClass</th>\n",
              "      <th>MSZoning</th>\n",
              "      <th>LotFrontage</th>\n",
              "      <th>LotArea</th>\n",
              "      <th>Street</th>\n",
              "      <th>Alley</th>\n",
              "      <th>LotShape</th>\n",
              "      <th>LandContour</th>\n",
              "      <th>Utilities</th>\n",
              "      <th>...</th>\n",
              "      <th>PoolQC</th>\n",
              "      <th>Fence</th>\n",
              "      <th>MiscFeature</th>\n",
              "      <th>MiscVal</th>\n",
              "      <th>MoSold</th>\n",
              "      <th>YrSold</th>\n",
              "      <th>SaleType</th>\n",
              "      <th>SaleCondition</th>\n",
              "      <th>SalePrice</th>\n",
              "      <th>logSalePrice</th>\n",
              "    </tr>\n",
              "  </thead>\n",
              "  <tbody>\n",
              "    <tr>\n",
              "      <th>0</th>\n",
              "      <td>1</td>\n",
              "      <td>60</td>\n",
              "      <td>RL</td>\n",
              "      <td>65.0</td>\n",
              "      <td>8450</td>\n",
              "      <td>Pave</td>\n",
              "      <td>NaN</td>\n",
              "      <td>Reg</td>\n",
              "      <td>Lvl</td>\n",
              "      <td>AllPub</td>\n",
              "      <td>...</td>\n",
              "      <td>NaN</td>\n",
              "      <td>NaN</td>\n",
              "      <td>NaN</td>\n",
              "      <td>0</td>\n",
              "      <td>2</td>\n",
              "      <td>2008</td>\n",
              "      <td>WD</td>\n",
              "      <td>Normal</td>\n",
              "      <td>208500</td>\n",
              "      <td>12.247699</td>\n",
              "    </tr>\n",
              "    <tr>\n",
              "      <th>1</th>\n",
              "      <td>2</td>\n",
              "      <td>20</td>\n",
              "      <td>RL</td>\n",
              "      <td>80.0</td>\n",
              "      <td>9600</td>\n",
              "      <td>Pave</td>\n",
              "      <td>NaN</td>\n",
              "      <td>Reg</td>\n",
              "      <td>Lvl</td>\n",
              "      <td>AllPub</td>\n",
              "      <td>...</td>\n",
              "      <td>NaN</td>\n",
              "      <td>NaN</td>\n",
              "      <td>NaN</td>\n",
              "      <td>0</td>\n",
              "      <td>5</td>\n",
              "      <td>2007</td>\n",
              "      <td>WD</td>\n",
              "      <td>Normal</td>\n",
              "      <td>181500</td>\n",
              "      <td>12.109016</td>\n",
              "    </tr>\n",
              "  </tbody>\n",
              "</table>\n",
              "<p>2 rows × 82 columns</p>\n",
              "</div>\n",
              "    <div class=\"colab-df-buttons\">\n",
              "\n",
              "  <div class=\"colab-df-container\">\n",
              "    <button class=\"colab-df-convert\" onclick=\"convertToInteractive('df-7e849efb-403c-4918-b1b1-ccf6d01f2f9d')\"\n",
              "            title=\"Convert this dataframe to an interactive table.\"\n",
              "            style=\"display:none;\">\n",
              "\n",
              "  <svg xmlns=\"http://www.w3.org/2000/svg\" height=\"24px\" viewBox=\"0 -960 960 960\">\n",
              "    <path d=\"M120-120v-720h720v720H120Zm60-500h600v-160H180v160Zm220 220h160v-160H400v160Zm0 220h160v-160H400v160ZM180-400h160v-160H180v160Zm440 0h160v-160H620v160ZM180-180h160v-160H180v160Zm440 0h160v-160H620v160Z\"/>\n",
              "  </svg>\n",
              "    </button>\n",
              "\n",
              "  <style>\n",
              "    .colab-df-container {\n",
              "      display:flex;\n",
              "      gap: 12px;\n",
              "    }\n",
              "\n",
              "    .colab-df-convert {\n",
              "      background-color: #E8F0FE;\n",
              "      border: none;\n",
              "      border-radius: 50%;\n",
              "      cursor: pointer;\n",
              "      display: none;\n",
              "      fill: #1967D2;\n",
              "      height: 32px;\n",
              "      padding: 0 0 0 0;\n",
              "      width: 32px;\n",
              "    }\n",
              "\n",
              "    .colab-df-convert:hover {\n",
              "      background-color: #E2EBFA;\n",
              "      box-shadow: 0px 1px 2px rgba(60, 64, 67, 0.3), 0px 1px 3px 1px rgba(60, 64, 67, 0.15);\n",
              "      fill: #174EA6;\n",
              "    }\n",
              "\n",
              "    .colab-df-buttons div {\n",
              "      margin-bottom: 4px;\n",
              "    }\n",
              "\n",
              "    [theme=dark] .colab-df-convert {\n",
              "      background-color: #3B4455;\n",
              "      fill: #D2E3FC;\n",
              "    }\n",
              "\n",
              "    [theme=dark] .colab-df-convert:hover {\n",
              "      background-color: #434B5C;\n",
              "      box-shadow: 0px 1px 3px 1px rgba(0, 0, 0, 0.15);\n",
              "      filter: drop-shadow(0px 1px 2px rgba(0, 0, 0, 0.3));\n",
              "      fill: #FFFFFF;\n",
              "    }\n",
              "  </style>\n",
              "\n",
              "    <script>\n",
              "      const buttonEl =\n",
              "        document.querySelector('#df-7e849efb-403c-4918-b1b1-ccf6d01f2f9d button.colab-df-convert');\n",
              "      buttonEl.style.display =\n",
              "        google.colab.kernel.accessAllowed ? 'block' : 'none';\n",
              "\n",
              "      async function convertToInteractive(key) {\n",
              "        const element = document.querySelector('#df-7e849efb-403c-4918-b1b1-ccf6d01f2f9d');\n",
              "        const dataTable =\n",
              "          await google.colab.kernel.invokeFunction('convertToInteractive',\n",
              "                                                    [key], {});\n",
              "        if (!dataTable) return;\n",
              "\n",
              "        const docLinkHtml = 'Like what you see? Visit the ' +\n",
              "          '<a target=\"_blank\" href=https://colab.research.google.com/notebooks/data_table.ipynb>data table notebook</a>'\n",
              "          + ' to learn more about interactive tables.';\n",
              "        element.innerHTML = '';\n",
              "        dataTable['output_type'] = 'display_data';\n",
              "        await google.colab.output.renderOutput(dataTable, element);\n",
              "        const docLink = document.createElement('div');\n",
              "        docLink.innerHTML = docLinkHtml;\n",
              "        element.appendChild(docLink);\n",
              "      }\n",
              "    </script>\n",
              "  </div>\n",
              "\n",
              "\n",
              "    <div id=\"df-83307f4c-7621-40f7-bf15-7130800f78bb\">\n",
              "      <button class=\"colab-df-quickchart\" onclick=\"quickchart('df-83307f4c-7621-40f7-bf15-7130800f78bb')\"\n",
              "                title=\"Suggest charts\"\n",
              "                style=\"display:none;\">\n",
              "\n",
              "<svg xmlns=\"http://www.w3.org/2000/svg\" height=\"24px\"viewBox=\"0 0 24 24\"\n",
              "     width=\"24px\">\n",
              "    <g>\n",
              "        <path d=\"M19 3H5c-1.1 0-2 .9-2 2v14c0 1.1.9 2 2 2h14c1.1 0 2-.9 2-2V5c0-1.1-.9-2-2-2zM9 17H7v-7h2v7zm4 0h-2V7h2v10zm4 0h-2v-4h2v4z\"/>\n",
              "    </g>\n",
              "</svg>\n",
              "      </button>\n",
              "\n",
              "<style>\n",
              "  .colab-df-quickchart {\n",
              "      --bg-color: #E8F0FE;\n",
              "      --fill-color: #1967D2;\n",
              "      --hover-bg-color: #E2EBFA;\n",
              "      --hover-fill-color: #174EA6;\n",
              "      --disabled-fill-color: #AAA;\n",
              "      --disabled-bg-color: #DDD;\n",
              "  }\n",
              "\n",
              "  [theme=dark] .colab-df-quickchart {\n",
              "      --bg-color: #3B4455;\n",
              "      --fill-color: #D2E3FC;\n",
              "      --hover-bg-color: #434B5C;\n",
              "      --hover-fill-color: #FFFFFF;\n",
              "      --disabled-bg-color: #3B4455;\n",
              "      --disabled-fill-color: #666;\n",
              "  }\n",
              "\n",
              "  .colab-df-quickchart {\n",
              "    background-color: var(--bg-color);\n",
              "    border: none;\n",
              "    border-radius: 50%;\n",
              "    cursor: pointer;\n",
              "    display: none;\n",
              "    fill: var(--fill-color);\n",
              "    height: 32px;\n",
              "    padding: 0;\n",
              "    width: 32px;\n",
              "  }\n",
              "\n",
              "  .colab-df-quickchart:hover {\n",
              "    background-color: var(--hover-bg-color);\n",
              "    box-shadow: 0 1px 2px rgba(60, 64, 67, 0.3), 0 1px 3px 1px rgba(60, 64, 67, 0.15);\n",
              "    fill: var(--button-hover-fill-color);\n",
              "  }\n",
              "\n",
              "  .colab-df-quickchart-complete:disabled,\n",
              "  .colab-df-quickchart-complete:disabled:hover {\n",
              "    background-color: var(--disabled-bg-color);\n",
              "    fill: var(--disabled-fill-color);\n",
              "    box-shadow: none;\n",
              "  }\n",
              "\n",
              "  .colab-df-spinner {\n",
              "    border: 2px solid var(--fill-color);\n",
              "    border-color: transparent;\n",
              "    border-bottom-color: var(--fill-color);\n",
              "    animation:\n",
              "      spin 1s steps(1) infinite;\n",
              "  }\n",
              "\n",
              "  @keyframes spin {\n",
              "    0% {\n",
              "      border-color: transparent;\n",
              "      border-bottom-color: var(--fill-color);\n",
              "      border-left-color: var(--fill-color);\n",
              "    }\n",
              "    20% {\n",
              "      border-color: transparent;\n",
              "      border-left-color: var(--fill-color);\n",
              "      border-top-color: var(--fill-color);\n",
              "    }\n",
              "    30% {\n",
              "      border-color: transparent;\n",
              "      border-left-color: var(--fill-color);\n",
              "      border-top-color: var(--fill-color);\n",
              "      border-right-color: var(--fill-color);\n",
              "    }\n",
              "    40% {\n",
              "      border-color: transparent;\n",
              "      border-right-color: var(--fill-color);\n",
              "      border-top-color: var(--fill-color);\n",
              "    }\n",
              "    60% {\n",
              "      border-color: transparent;\n",
              "      border-right-color: var(--fill-color);\n",
              "    }\n",
              "    80% {\n",
              "      border-color: transparent;\n",
              "      border-right-color: var(--fill-color);\n",
              "      border-bottom-color: var(--fill-color);\n",
              "    }\n",
              "    90% {\n",
              "      border-color: transparent;\n",
              "      border-bottom-color: var(--fill-color);\n",
              "    }\n",
              "  }\n",
              "</style>\n",
              "\n",
              "      <script>\n",
              "        async function quickchart(key) {\n",
              "          const quickchartButtonEl =\n",
              "            document.querySelector('#' + key + ' button');\n",
              "          quickchartButtonEl.disabled = true;  // To prevent multiple clicks.\n",
              "          quickchartButtonEl.classList.add('colab-df-spinner');\n",
              "          try {\n",
              "            const charts = await google.colab.kernel.invokeFunction(\n",
              "                'suggestCharts', [key], {});\n",
              "          } catch (error) {\n",
              "            console.error('Error during call to suggestCharts:', error);\n",
              "          }\n",
              "          quickchartButtonEl.classList.remove('colab-df-spinner');\n",
              "          quickchartButtonEl.classList.add('colab-df-quickchart-complete');\n",
              "        }\n",
              "        (() => {\n",
              "          let quickchartButtonEl =\n",
              "            document.querySelector('#df-83307f4c-7621-40f7-bf15-7130800f78bb button');\n",
              "          quickchartButtonEl.style.display =\n",
              "            google.colab.kernel.accessAllowed ? 'block' : 'none';\n",
              "        })();\n",
              "      </script>\n",
              "    </div>\n",
              "    </div>\n",
              "  </div>\n"
            ],
            "application/vnd.google.colaboratory.intrinsic+json": {
              "type": "dataframe",
              "variable_name": "df"
            }
          },
          "metadata": {},
          "execution_count": 237
        }
      ]
    },
    {
      "cell_type": "code",
      "source": [
        "X = df[['OverallQual', 'GrLivArea', 'GarageCars']]\n",
        "y = df['logSalePrice']\n",
        "\n",
        "X_train, X_test, y_train, y_test = train_test_split(X, y, test_size = 0.2, random_state=42)\n",
        "\n",
        "model = LinearRegression()\n",
        "\n",
        "model.fit(X_train, y_train)\n",
        "y_pred = model.predict(X_test)\n",
        "\n",
        "print('RMSE = ', np.sqrt(metrics.mean_squared_error(y_test, y_pred)))"
      ],
      "metadata": {
        "colab": {
          "base_uri": "https://localhost:8080/"
        },
        "id": "5LAePcWaLjej",
        "outputId": "40d9e4ec-de19-4bde-fcbf-2227f0d34e9d"
      },
      "execution_count": 238,
      "outputs": [
        {
          "output_type": "stream",
          "name": "stdout",
          "text": [
            "RMSE =  0.1939398967886489\n"
          ]
        }
      ]
    },
    {
      "cell_type": "code",
      "source": [
        "print('RMSE = ', np.sqrt(metrics.mean_squared_error(np.expm1(y_test), np.expm1(y_pred))))\n",
        "print('R2 = ', metrics.r2_score(np.expm1(y_test), np.expm1(y_pred)))"
      ],
      "metadata": {
        "colab": {
          "base_uri": "https://localhost:8080/"
        },
        "id": "iK4igCxzMXeR",
        "outputId": "3ab3b0cd-7ecf-48cf-9f9f-664a8e6f3f55"
      },
      "execution_count": 239,
      "outputs": [
        {
          "output_type": "stream",
          "name": "stdout",
          "text": [
            "RMSE =  35505.80572467265\n",
            "R2 =  0.835644246919127\n"
          ]
        }
      ]
    },
    {
      "cell_type": "markdown",
      "source": [
        "### Нормализация"
      ],
      "metadata": {
        "id": "J8YjHamPLEmU"
      }
    },
    {
      "cell_type": "code",
      "source": [
        "fig, axes = plt.subplots(1, 2, figsize=(8, 3))\n",
        "\n",
        "sns.histplot(df['GrLivArea'], ax=axes[0])\n",
        "axes[0].set_title('Distribution of GrLivArea')\n",
        "\n",
        "sns.histplot(df['OverallQual'], ax=axes[1])\n",
        "axes[1].set_title('Distribution of OverallQual')\n",
        "\n",
        "plt.tight_layout()\n",
        "plt.show()"
      ],
      "metadata": {
        "colab": {
          "base_uri": "https://localhost:8080/",
          "height": 307
        },
        "id": "9er2wDdPX2wX",
        "outputId": "4d5833b3-04a5-4fed-e269-de3809716c01"
      },
      "execution_count": 240,
      "outputs": [
        {
          "output_type": "display_data",
          "data": {
            "text/plain": [
              "<Figure size 800x300 with 2 Axes>"
            ],
            "image/png": "[encoded data removed]"
          },
          "metadata": {}
        }
      ]
    },
    {
      "cell_type": "code",
      "source": [
        "sns.boxplot(x=df['GrLivArea'])"
      ],
      "metadata": {
        "colab": {
          "base_uri": "https://localhost:8080/",
          "height": 466
        },
        "id": "CmogxmXBYYCy",
        "outputId": "4eb91984-b21e-4ec4-d759-c18440ef3c4f"
      },
      "execution_count": 241,
      "outputs": [
        {
          "output_type": "execute_result",
          "data": {
            "text/plain": [
              "<Axes: xlabel='GrLivArea'>"
            ]
          },
          "metadata": {},
          "execution_count": 241
        },
        {
          "output_type": "display_data",
          "data": {
            "text/plain": [
              "<Figure size 640x480 with 1 Axes>"
            ],
            "image/png": "[encoded data removed]"
          },
          "metadata": {}
        }
      ]
    },
    {
      "cell_type": "markdown",
      "source": [
        "![image.png](data:image/png;base64,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)"
      ],
      "metadata": {
        "id": "vAtFCdUUNdYM"
      }
    },
    {
      "cell_type": "code",
      "source": [
        "from sklearn.preprocessing import RobustScaler, StandardScaler, MinMaxScaler\n",
        "\n",
        "X = df[['OverallQual', 'GrLivArea', 'GarageCars']]\n",
        "y = df['logSalePrice']"
      ],
      "metadata": {
        "id": "5R7hW8HRefIa"
      },
      "execution_count": 242,
      "outputs": []
    },
    {
      "cell_type": "code",
      "source": [
        "scaler = MinMaxScaler()\n",
        "minmax_df = scaler.fit_transform(X)\n",
        "minmax_df = pd.DataFrame(minmax_df, columns = ['OverallQual', 'GrLivArea', 'GarageCars'])\n",
        "\n",
        "scaler = StandardScaler() #приводит к нулевому среднему и единичному стандартному отклонению\n",
        "standard_df = scaler.fit_transform(X)\n",
        "standard_df = pd.DataFrame(standard_df, columns = ['OverallQual', 'GrLivArea', 'GarageCars'])\n",
        "\n",
        "scaler = RobustScaler() # использует медиану и межквартильный размах\n",
        "robust_df = scaler.fit_transform(X)\n",
        "robust_df = pd.DataFrame(robust_df, columns = ['OverallQual', 'GrLivArea', 'GarageCars'])"
      ],
      "metadata": {
        "id": "cobY6m85fboV"
      },
      "execution_count": 243,
      "outputs": []
    },
    {
      "cell_type": "code",
      "source": [
        "fig, axes = plt.subplots(3, 2, figsize=(8, 10))\n",
        "\n",
        "sns.histplot(minmax_df['GrLivArea'], ax=axes[0, 0])\n",
        "axes[0, 0].set_title('MinMaxScaler on GrLivArea')\n",
        "\n",
        "sns.histplot(minmax_df['OverallQual'], ax=axes[0, 1])\n",
        "axes[0, 1].set_title('MinMaxScaler on OverallQual')\n",
        "\n",
        "sns.histplot(standard_df['GrLivArea'], ax=axes[1, 0])\n",
        "axes[1, 0].set_title('StandardScaler on GrLivArea')\n",
        "\n",
        "sns.histplot(standard_df['OverallQual'], ax=axes[1, 1])\n",
        "axes[1, 1].set_title('StandardScaler on OverallQual')\n",
        "\n",
        "sns.histplot(robust_df['GrLivArea'], ax=axes[2, 0])\n",
        "axes[2, 0].set_title('RobustScaler on GrLivArea')\n",
        "\n",
        "sns.histplot(robust_df['OverallQual'], ax=axes[2, 1])\n",
        "axes[2, 1].set_title('RobustScaler on OverallQual')\n",
        "\n",
        "plt.tight_layout()\n",
        "plt.show()"
      ],
      "metadata": {
        "colab": {
          "base_uri": "https://localhost:8080/",
          "height": 1000
        },
        "id": "PHgTEdZNgRFM",
        "outputId": "1f4647d8-b0b6-47e7-a336-fa545f7b6277"
      },
      "execution_count": 244,
      "outputs": [
        {
          "output_type": "display_data",
          "data": {
            "text/plain": [
              "<Figure size 800x1000 with 6 Axes>"
            ],
            "image/png": "[encoded data removed]"
          },
          "metadata": {}
        }
      ]
    },
    {
      "cell_type": "code",
      "source": [
        "X = robust_df[['OverallQual', 'GarageCars', 'GrLivArea']]\n",
        "\n",
        "y = df['SalePrice']\n",
        "\n",
        "X_train, X_test, y_train, y_test = train_test_split(X, y, test_size = 0.2, random_state=42)\n",
        "\n",
        "model = LinearRegression()\n",
        "\n",
        "model.fit(X_train, y_train)\n",
        "y_pred = model.predict(X_test)\n",
        "\n",
        "print('RMSE = ', np.sqrt(metrics.mean_squared_error(y_test, y_pred)))"
      ],
      "metadata": {
        "colab": {
          "base_uri": "https://localhost:8080/"
        },
        "id": "ADGNz2y7jdkp",
        "outputId": "afd19c99-6106-4f31-82c4-4a6996f0dec6"
      },
      "execution_count": 245,
      "outputs": [
        {
          "output_type": "stream",
          "name": "stdout",
          "text": [
            "RMSE =  43032.15048041463\n"
          ]
        }
      ]
    },
    {
      "cell_type": "markdown",
      "source": [
        "### Выбросы"
      ],
      "metadata": {
        "id": "w87I-u1LkMom"
      }
    },
    {
      "cell_type": "code",
      "source": [
        "#Неправильно (хоть результат и кажется приятным)\n",
        "\n",
        "df_filtered = df[df[\"GrLivArea\"]<4000]\n",
        "\n",
        "X = df_filtered[['OverallQual', 'GrLivArea', 'GarageCars']]\n",
        "y = df_filtered['SalePrice']\n",
        "\n",
        "X_train, X_test, y_train, y_test = train_test_split(X, y, test_size = 0.2, random_state=42)\n",
        "\n",
        "model = LinearRegression()\n",
        "\n",
        "model.fit(X_train, y_train)\n",
        "y_pred = model.predict(X_test)\n",
        "\n",
        "print('RMSE = ', np.sqrt(metrics.mean_squared_error(y_test, y_pred)))"
      ],
      "metadata": {
        "colab": {
          "base_uri": "https://localhost:8080/"
        },
        "id": "zt5uMkqPkQHc",
        "outputId": "3295a620-de71-4a74-9b7e-c5e00cb79238"
      },
      "execution_count": 246,
      "outputs": [
        {
          "output_type": "stream",
          "name": "stdout",
          "text": [
            "RMSE =  35702.09888359374\n"
          ]
        }
      ]
    },
    {
      "cell_type": "code",
      "source": [
        "X = df[['OverallQual', 'GrLivArea', 'GarageCars']]\n",
        "y = df['SalePrice']\n",
        "\n",
        "X_train, X_test, y_train, y_test = train_test_split(X, y, test_size = 0.2, random_state=42)\n",
        "\n",
        "outliers = X_train[X_train[\"GrLivArea\"]>4000].index\n",
        "outliers"
      ],
      "metadata": {
        "colab": {
          "base_uri": "https://localhost:8080/"
        },
        "id": "rz8sCoS7lDwk",
        "outputId": "5baa8ad6-df8b-479f-a6b0-df8f83b27e50"
      },
      "execution_count": 247,
      "outputs": [
        {
          "output_type": "execute_result",
          "data": {
            "text/plain": [
              "Index([1182, 523, 1298], dtype='int64')"
            ]
          },
          "metadata": {},
          "execution_count": 247
        }
      ]
    },
    {
      "cell_type": "code",
      "source": [
        "X_train = X_train.drop(outliers)\n",
        "y_train = y_train.drop(outliers)\n",
        "\n",
        "model = LinearRegression()\n",
        "\n",
        "model.fit(X_train, y_train)\n",
        "y_pred = model.predict(X_test)\n",
        "\n",
        "print('RMSE = ', np.sqrt(metrics.mean_squared_error(y_test, y_pred)))"
      ],
      "metadata": {
        "colab": {
          "base_uri": "https://localhost:8080/"
        },
        "id": "RCivU_M5mifj",
        "outputId": "cfe1308e-be68-42e8-b4e2-29ae614358bc"
      },
      "execution_count": 248,
      "outputs": [
        {
          "output_type": "stream",
          "name": "stdout",
          "text": [
            "RMSE =  42521.557863140835\n"
          ]
        }
      ]
    },
    {
      "cell_type": "code",
      "source": [
        "corr_matrix[\"SalePrice\"].sort_values(ascending=False).index"
      ],
      "metadata": {
        "colab": {
          "base_uri": "https://localhost:8080/"
        },
        "id": "nZPO46YZJN6l",
        "outputId": "2e9ec716-565a-4524-e729-d47b2426aae0"
      },
      "execution_count": 250,
      "outputs": [
        {
          "output_type": "execute_result",
          "data": {
            "text/plain": [
              "Index(['SalePrice', 'OverallQual', 'GrLivArea', 'GarageCars', 'GarageArea',\n",
              "       'TotalBsmtSF', '1stFlrSF', 'FullBath', 'TotRmsAbvGrd', 'YearBuilt',\n",
              "       'YearRemodAdd', 'GarageYrBlt', 'MasVnrArea', 'Fireplaces', 'BsmtFinSF1',\n",
              "       'LotFrontage', 'WoodDeckSF', '2ndFlrSF', 'OpenPorchSF', 'HalfBath',\n",
              "       'LotArea', 'BsmtFullBath', 'BsmtUnfSF', 'BedroomAbvGr', 'ScreenPorch',\n",
              "       'PoolArea', 'MoSold', '3SsnPorch', 'BsmtFinSF2', 'BsmtHalfBath',\n",
              "       'MiscVal', 'Id', 'LowQualFinSF', 'YrSold', 'OverallCond', 'MSSubClass',\n",
              "       'EnclosedPorch', 'KitchenAbvGr'],\n",
              "      dtype='object')"
            ]
          },
          "metadata": {},
          "execution_count": 250
        }
      ]
    },
    {
      "cell_type": "code",
      "source": [
        "X = df[['Id', 'OverallQual', 'GrLivArea', 'GarageCars',\n",
        "       'GarageArea', 'TotalBsmtSF', '1stFlrSF', 'FullBath', 'TotRmsAbvGrd',\n",
        "       'YearBuilt', 'YearRemodAdd', 'GarageYrBlt', 'MasVnrArea', 'Fireplaces',\n",
        "       'BsmtFinSF1', 'LotFrontage', 'WoodDeckSF', '2ndFlrSF', 'OpenPorchSF',\n",
        "       'HalfBath', 'LotArea', 'BsmtFullBath', 'BsmtUnfSF', 'BedroomAbvGr',\n",
        "       'ScreenPorch', 'PoolArea', 'MoSold', '3SsnPorch', 'BsmtFinSF2',\n",
        "       'BsmtHalfBath', 'MiscVal',  'LowQualFinSF', 'YrSold',\n",
        "       'OverallCond', 'MSSubClass', 'EnclosedPorch', 'KitchenAbvGr']]"
      ],
      "metadata": {
        "id": "vcbGZQNknogc"
      },
      "execution_count": 329,
      "outputs": []
    },
    {
      "cell_type": "markdown",
      "source": [
        "### Заполнение пропусков"
      ],
      "metadata": {
        "id": "ay9PQmQ8tsyz"
      }
    },
    {
      "cell_type": "code",
      "source": [
        "X.isnull().sum().sort_values(ascending=False)[:4]"
      ],
      "metadata": {
        "colab": {
          "base_uri": "https://localhost:8080/",
          "height": 209
        },
        "id": "kUqehqDRnq_a",
        "outputId": "592e0a3d-bae5-457a-9988-f03b52388427"
      },
      "execution_count": 253,
      "outputs": [
        {
          "output_type": "execute_result",
          "data": {
            "text/plain": [
              "LotFrontage    259\n",
              "GarageYrBlt     81\n",
              "MasVnrArea       8\n",
              "OverallQual      0\n",
              "dtype: int64"
            ],
            "text/html": [
              "<div>\n",
              "<style scoped>\n",
              "    .dataframe tbody tr th:only-of-type {\n",
              "        vertical-align: middle;\n",
              "    }\n",
              "\n",
              "    .dataframe tbody tr th {\n",
              "        vertical-align: top;\n",
              "    }\n",
              "\n",
              "    .dataframe thead th {\n",
              "        text-align: right;\n",
              "    }\n",
              "</style>\n",
              "<table border=\"1\" class=\"dataframe\">\n",
              "  <thead>\n",
              "    <tr style=\"text-align: right;\">\n",
              "      <th></th>\n",
              "      <th>0</th>\n",
              "    </tr>\n",
              "  </thead>\n",
              "  <tbody>\n",
              "    <tr>\n",
              "      <th>LotFrontage</th>\n",
              "      <td>259</td>\n",
              "    </tr>\n",
              "    <tr>\n",
              "      <th>GarageYrBlt</th>\n",
              "      <td>81</td>\n",
              "    </tr>\n",
              "    <tr>\n",
              "      <th>MasVnrArea</th>\n",
              "      <td>8</td>\n",
              "    </tr>\n",
              "    <tr>\n",
              "      <th>OverallQual</th>\n",
              "      <td>0</td>\n",
              "    </tr>\n",
              "  </tbody>\n",
              "</table>\n",
              "</div><br><label><b>dtype:</b> int64</label>"
            ]
          },
          "metadata": {},
          "execution_count": 253
        }
      ]
    },
    {
      "cell_type": "code",
      "source": [
        "df['MasVnrArea'] = df['MasVnrArea'].fillna(0)"
      ],
      "metadata": {
        "id": "GafkQng6n8cA"
      },
      "execution_count": 316,
      "outputs": []
    },
    {
      "cell_type": "code",
      "source": [
        "sns.histplot(x=df['LotFrontage'])"
      ],
      "metadata": {
        "colab": {
          "base_uri": "https://localhost:8080/",
          "height": 466
        },
        "id": "ZGTNCMmZnvjr",
        "outputId": "c4b7ced6-8ca1-4aa7-d44a-f8f5b65f7361"
      },
      "execution_count": 255,
      "outputs": [
        {
          "output_type": "execute_result",
          "data": {
            "text/plain": [
              "<Axes: xlabel='LotFrontage', ylabel='Count'>"
            ]
          },
          "metadata": {},
          "execution_count": 255
        },
        {
          "output_type": "display_data",
          "data": {
            "text/plain": [
              "<Figure size 640x480 with 1 Axes>"
            ],
            "image/png": "[encoded data removed]"
          },
          "metadata": {}
        }
      ]
    },
    {
      "cell_type": "code",
      "source": [
        "df['LotFrontage'].mean()"
      ],
      "metadata": {
        "colab": {
          "base_uri": "https://localhost:8080/"
        },
        "id": "clMhQl3QwmFI",
        "outputId": "754c23a1-ee84-4209-993b-0089bac09eec"
      },
      "execution_count": 256,
      "outputs": [
        {
          "output_type": "execute_result",
          "data": {
            "text/plain": [
              "np.float64(70.04995836802665)"
            ]
          },
          "metadata": {},
          "execution_count": 256
        }
      ]
    },
    {
      "cell_type": "code",
      "source": [
        "df['LotFrontage'] = df['LotFrontage'].fillna(df['LotFrontage'].mean())"
      ],
      "metadata": {
        "id": "2_ujJ6zLwDA8"
      },
      "execution_count": 310,
      "outputs": []
    },
    {
      "cell_type": "code",
      "source": [
        "df['GarageYrBlt'].mode()"
      ],
      "metadata": {
        "colab": {
          "base_uri": "https://localhost:8080/",
          "height": 115
        },
        "id": "3sKZRHi7woZe",
        "outputId": "c45b494e-4856-44ce-e471-6c5e21606737"
      },
      "execution_count": 258,
      "outputs": [
        {
          "output_type": "execute_result",
          "data": {
            "text/plain": [
              "0    2005.0\n",
              "Name: GarageYrBlt, dtype: float64"
            ],
            "text/html": [
              "<div>\n",
              "<style scoped>\n",
              "    .dataframe tbody tr th:only-of-type {\n",
              "        vertical-align: middle;\n",
              "    }\n",
              "\n",
              "    .dataframe tbody tr th {\n",
              "        vertical-align: top;\n",
              "    }\n",
              "\n",
              "    .dataframe thead th {\n",
              "        text-align: right;\n",
              "    }\n",
              "</style>\n",
              "<table border=\"1\" class=\"dataframe\">\n",
              "  <thead>\n",
              "    <tr style=\"text-align: right;\">\n",
              "      <th></th>\n",
              "      <th>GarageYrBlt</th>\n",
              "    </tr>\n",
              "  </thead>\n",
              "  <tbody>\n",
              "    <tr>\n",
              "      <th>0</th>\n",
              "      <td>2005.0</td>\n",
              "    </tr>\n",
              "  </tbody>\n",
              "</table>\n",
              "</div><br><label><b>dtype:</b> float64</label>"
            ]
          },
          "metadata": {},
          "execution_count": 258
        }
      ]
    },
    {
      "cell_type": "markdown",
      "source": [
        "Также есть библиотека SimpleImputer"
      ],
      "metadata": {
        "id": "LlernF-dx4aF"
      }
    },
    {
      "cell_type": "code",
      "source": [
        "sns.histplot(x=X['GarageYrBlt'])"
      ],
      "metadata": {
        "colab": {
          "base_uri": "https://localhost:8080/",
          "height": 466
        },
        "id": "C2VZPVUsym1E",
        "outputId": "4f8d8eb9-bee9-43ae-fd7d-283b8f82ce59"
      },
      "execution_count": 259,
      "outputs": [
        {
          "output_type": "execute_result",
          "data": {
            "text/plain": [
              "<Axes: xlabel='GarageYrBlt', ylabel='Count'>"
            ]
          },
          "metadata": {},
          "execution_count": 259
        },
        {
          "output_type": "display_data",
          "data": {
            "text/plain": [
              "<Figure size 640x480 with 1 Axes>"
            ],
            "image/png": "[encoded data removed]"
          },
          "metadata": {}
        }
      ]
    },
    {
      "cell_type": "code",
      "source": [
        "from sklearn.impute import SimpleImputer\n",
        "\n",
        "imputer = SimpleImputer(strategy='mean') # 'median' 'most_frequent'\n",
        "\n",
        "df['GarageYrBlt'] = imputer.fit_transform(df['GarageYrBlt'].values.reshape(-1,1))"
      ],
      "metadata": {
        "id": "4t1FTR1Rx1qT"
      },
      "execution_count": 314,
      "outputs": []
    },
    {
      "cell_type": "code",
      "source": [
        "from sklearn.impute import KNNImputer\n",
        "\n",
        "imputer=KNNImputer(n_neighbors=1)\n",
        "\n",
        "X = pd.DataFrame(imputer.fit_transform(X), columns = X.columns)"
      ],
      "metadata": {
        "id": "wlE6z365w04Z"
      },
      "execution_count": 315,
      "outputs": []
    },
    {
      "cell_type": "markdown",
      "source": [
        "## Сравнение"
      ],
      "metadata": {
        "id": "2oUwEjfcWV8u"
      }
    },
    {
      "cell_type": "code",
      "source": [
        "X = df[['Id', 'OverallQual', 'GrLivArea', 'GarageCars',\n",
        "       'GarageArea', 'TotalBsmtSF', '1stFlrSF', 'FullBath', 'TotRmsAbvGrd',\n",
        "       'YearBuilt', 'YearRemodAdd', 'GarageYrBlt', 'MasVnrArea', 'Fireplaces',\n",
        "       'BsmtFinSF1', 'LotFrontage', 'WoodDeckSF', '2ndFlrSF', 'OpenPorchSF',\n",
        "       'HalfBath', 'LotArea', 'BsmtFullBath', 'BsmtUnfSF', 'BedroomAbvGr',\n",
        "       'ScreenPorch', 'PoolArea', 'MoSold', '3SsnPorch', 'BsmtFinSF2',\n",
        "       'BsmtHalfBath', 'MiscVal',  'LowQualFinSF', 'YrSold',\n",
        "       'OverallCond', 'MSSubClass', 'EnclosedPorch', 'KitchenAbvGr']]"
      ],
      "metadata": {
        "id": "t3ogXB9EWY6a"
      },
      "execution_count": 339,
      "outputs": []
    },
    {
      "cell_type": "code",
      "source": [
        "y = df['logSalePrice']\n",
        "\n",
        "X_train, X_test, y_train, y_test = train_test_split(X, y, test_size = 0.2, random_state=42)\n",
        "\n",
        "model = LinearRegression()\n",
        "\n",
        "model.fit(X_train, y_train)\n",
        "y_pred = model.predict(X_test)\n",
        "\n",
        "print('RMSE = ', np.sqrt(metrics.mean_squared_error(np.expm1(y_test), np.expm1(y_pred))))"
      ],
      "metadata": {
        "colab": {
          "base_uri": "https://localhost:8080/"
        },
        "id": "LoLQgO4pWZx8",
        "outputId": "353b593e-4d6b-4c23-bf2c-2e55175734fc"
      },
      "execution_count": 340,
      "outputs": [
        {
          "output_type": "stream",
          "name": "stdout",
          "text": [
            "RMSE =  29837.545686487585\n"
          ]
        }
      ]
    },
    {
      "cell_type": "code",
      "source": [
        "y = df['logSalePrice']\n",
        "\n",
        "robust_df = RobustScaler().fit_transform(X)\n",
        "X = pd.DataFrame(robust_df, columns = X.columns)\n",
        "\n",
        "X_train, X_test, y_train, y_test = train_test_split(X, y, test_size = 0.2, random_state=42)\n",
        "\n",
        "model = LinearRegression()\n",
        "\n",
        "model.fit(X_train, y_train)\n",
        "y_pred = model.predict(X_test)\n",
        "\n",
        "print('RMSE = ', np.sqrt(metrics.mean_squared_error(np.expm1(y_test), np.expm1(y_pred))))"
      ],
      "metadata": {
        "colab": {
          "base_uri": "https://localhost:8080/"
        },
        "id": "ASzQQQdiWkzB",
        "outputId": "56e4c313-40a5-4fe9-e36e-a3ef9a42c057"
      },
      "execution_count": 368,
      "outputs": [
        {
          "output_type": "stream",
          "name": "stdout",
          "text": [
            "RMSE =  29827.516330403763\n"
          ]
        }
      ]
    },
    {
      "cell_type": "markdown",
      "source": [
        "## Регуляризация"
      ],
      "metadata": {
        "id": "zz6jspz4B58p"
      }
    },
    {
      "cell_type": "code",
      "source": [
        "X.columns"
      ],
      "metadata": {
        "colab": {
          "base_uri": "https://localhost:8080/"
        },
        "id": "_fVVTidQUj64",
        "outputId": "62755018-e34b-418a-bb89-2faf7df4a97f"
      },
      "execution_count": 369,
      "outputs": [
        {
          "output_type": "execute_result",
          "data": {
            "text/plain": [
              "Index(['Id', 'OverallQual', 'GrLivArea', 'GarageCars', 'GarageArea',\n",
              "       'TotalBsmtSF', '1stFlrSF', 'FullBath', 'TotRmsAbvGrd', 'YearBuilt',\n",
              "       'YearRemodAdd', 'GarageYrBlt', 'MasVnrArea', 'Fireplaces', 'BsmtFinSF1',\n",
              "       'LotFrontage', 'WoodDeckSF', '2ndFlrSF', 'OpenPorchSF', 'HalfBath',\n",
              "       'LotArea', 'BsmtFullBath', 'BsmtUnfSF', 'BedroomAbvGr', 'ScreenPorch',\n",
              "       'PoolArea', 'MoSold', '3SsnPorch', 'BsmtFinSF2', 'BsmtHalfBath',\n",
              "       'MiscVal', 'LowQualFinSF', 'YrSold', 'OverallCond', 'MSSubClass',\n",
              "       'EnclosedPorch', 'KitchenAbvGr'],\n",
              "      dtype='object')"
            ]
          },
          "metadata": {},
          "execution_count": 369
        }
      ]
    },
    {
      "cell_type": "code",
      "source": [
        "model = LinearRegression()\n",
        "\n",
        "model.fit(X_train, y_train)\n",
        "y_pred = model.predict(X_test)\n",
        "\n",
        "print('RMSE = ', np.sqrt(metrics.mean_squared_error(np.expm1(y_test), np.expm1(y_pred))))"
      ],
      "metadata": {
        "colab": {
          "base_uri": "https://localhost:8080/"
        },
        "id": "7qkBM22Y2GRv",
        "outputId": "f4d4969f-87cd-47c5-d8d3-671009b3c4e1"
      },
      "execution_count": 413,
      "outputs": [
        {
          "output_type": "stream",
          "name": "stdout",
          "text": [
            "RMSE =  29827.516330403763\n"
          ]
        }
      ]
    },
    {
      "cell_type": "code",
      "source": [
        "model.coef_"
      ],
      "metadata": {
        "colab": {
          "base_uri": "https://localhost:8080/"
        },
        "id": "H7-CBjTNUW-d",
        "outputId": "27847b0b-03ac-4bfe-e024-3cf33e835a76"
      },
      "execution_count": 355,
      "outputs": [
        {
          "output_type": "execute_result",
          "data": {
            "text/plain": [
              "array([-1.56414688e+03,  3.60117603e+04,  1.92538908e+04,  1.18327635e+04,\n",
              "       -6.99668432e+02,  4.18779708e+03,  7.72359224e+03,  3.19507379e+03,\n",
              "        1.02998159e+04,  1.31112601e+04,  6.80492490e+03,  3.53848730e+03,\n",
              "        4.08598474e+03,  4.56497903e+03,  4.50325433e+03, -2.55357485e+03,\n",
              "        3.69694150e+03,  1.17154321e+04, -3.02760716e+02, -2.24240093e+03,\n",
              "        1.83095642e+03,  1.13651795e+04, -1.88558807e+03, -8.67687926e+03,\n",
              "        6.31156458e+01, -1.89715557e+01, -4.47767928e+02,  3.92259366e+01,\n",
              "       -5.84165218e+00, -1.26484089e+03, -6.93099236e-01,  6.88009150e+00,\n",
              "       -1.03873534e+03,  4.03091271e+03, -1.00999942e+04,  9.07747261e+00,\n",
              "       -9.78426792e+03])"
            ]
          },
          "metadata": {},
          "execution_count": 355
        }
      ]
    },
    {
      "cell_type": "code",
      "source": [
        "from sklearn.linear_model import Ridge\n",
        "\n",
        "model = Ridge(alpha=1, random_state=42)\n",
        "\n",
        "model.fit(X_train, y_train)\n",
        "y_pred = model.predict(X_test)\n",
        "\n",
        "print('RMSE = ', np.sqrt(metrics.mean_squared_error(np.expm1(y_test), np.expm1(y_pred))))"
      ],
      "metadata": {
        "colab": {
          "base_uri": "https://localhost:8080/"
        },
        "id": "sagnI38pMCtM",
        "outputId": "df5ac64b-f8d1-4980-9313-d0493a8b19ae"
      },
      "execution_count": 419,
      "outputs": [
        {
          "output_type": "stream",
          "name": "stdout",
          "text": [
            "RMSE =  29829.929291446853\n"
          ]
        }
      ]
    },
    {
      "cell_type": "code",
      "source": [
        "model.coef_"
      ],
      "metadata": {
        "colab": {
          "base_uri": "https://localhost:8080/"
        },
        "id": "8VsEpVjyEfU5",
        "outputId": "b934d6d4-fb5b-42e5-de02-85126c330bd8"
      },
      "execution_count": 373,
      "outputs": [
        {
          "output_type": "execute_result",
          "data": {
            "text/plain": [
              "array([-4.16436854e-03,  1.70161903e-01,  7.50292572e-02,  7.49991224e-02,\n",
              "        9.77629678e-03,  1.84546008e-02,  4.00180562e-02,  3.26370947e-02,\n",
              "        2.88507537e-02,  1.34521163e-01,  4.82088427e-02, -1.24555266e-02,\n",
              "       -3.26262925e-03,  4.96215600e-02,  1.27221706e-02, -9.82055798e-03,\n",
              "        2.05971110e-02,  3.87134324e-02, -2.44696292e-03,  2.19028315e-02,\n",
              "        7.54061254e-03,  7.17525418e-02,  3.62510279e-04,  2.07419913e-03,\n",
              "        3.28852091e-04, -3.98322617e-04,  1.07843157e-03,  2.93632432e-04,\n",
              "        2.40956088e-06,  1.56721751e-02, -2.11073710e-06,  1.12869625e-04,\n",
              "       -1.09934761e-02,  4.46263580e-02, -3.70609331e-02,  1.55422529e-04,\n",
              "       -4.43145670e-02])"
            ]
          },
          "metadata": {},
          "execution_count": 373
        }
      ]
    },
    {
      "cell_type": "code",
      "source": [
        "from sklearn.linear_model import Lasso\n",
        "\n",
        "model = Lasso(alpha=1, random_state=42)\n",
        "\n",
        "model.fit(X_train, y_train)\n",
        "y_pred = model.predict(X_test)\n",
        "\n",
        "print('RMSE = ', np.sqrt(metrics.mean_squared_error(np.expm1(y_test), np.expm1(y_pred))))"
      ],
      "metadata": {
        "colab": {
          "base_uri": "https://localhost:8080/"
        },
        "id": "hG7OP-j43Aw5",
        "outputId": "ccbf43fe-ab06-427e-93e0-8b3613ceea58"
      },
      "execution_count": 415,
      "outputs": [
        {
          "output_type": "stream",
          "name": "stdout",
          "text": [
            "RMSE =  87927.05711747566\n"
          ]
        }
      ]
    },
    {
      "cell_type": "code",
      "source": [
        "model.coef_"
      ],
      "metadata": {
        "colab": {
          "base_uri": "https://localhost:8080/"
        },
        "id": "ltOEP5ZsEa--",
        "outputId": "cd0a246f-078b-4f87-b435-5f246424c3ee"
      },
      "execution_count": 384,
      "outputs": [
        {
          "output_type": "execute_result",
          "data": {
            "text/plain": [
              "array([-0.00000000e+00,  0.00000000e+00,  0.00000000e+00,  0.00000000e+00,\n",
              "        0.00000000e+00,  0.00000000e+00,  0.00000000e+00,  0.00000000e+00,\n",
              "        0.00000000e+00,  0.00000000e+00,  0.00000000e+00,  0.00000000e+00,\n",
              "        0.00000000e+00,  0.00000000e+00,  0.00000000e+00,  0.00000000e+00,\n",
              "        0.00000000e+00,  0.00000000e+00,  0.00000000e+00,  0.00000000e+00,\n",
              "        0.00000000e+00,  0.00000000e+00,  0.00000000e+00,  0.00000000e+00,\n",
              "        4.58890680e-04,  2.55288984e-04,  0.00000000e+00,  0.00000000e+00,\n",
              "        0.00000000e+00, -0.00000000e+00, -1.02512804e-05, -0.00000000e+00,\n",
              "       -0.00000000e+00, -0.00000000e+00, -0.00000000e+00, -7.69176311e-04,\n",
              "       -0.00000000e+00])"
            ]
          },
          "metadata": {},
          "execution_count": 384
        }
      ]
    },
    {
      "cell_type": "code",
      "source": [
        "from sklearn.linear_model import ElasticNet\n",
        "\n",
        "model = ElasticNet(alpha=0.05, l1_ratio=0.05, random_state=42)\n",
        "\n",
        "model.fit(X_train, y_train)\n",
        "y_pred = model.predict(X_test)\n",
        "\n",
        "print('RMSE = ', np.sqrt(metrics.mean_squared_error(np.expm1(y_test), np.expm1(y_pred))))"
      ],
      "metadata": {
        "colab": {
          "base_uri": "https://localhost:8080/"
        },
        "id": "UG7cULID18es",
        "outputId": "1dc5e484-f053-4fa0-ac1f-3eb6b427da18"
      },
      "execution_count": 414,
      "outputs": [
        {
          "output_type": "stream",
          "name": "stdout",
          "text": [
            "RMSE =  30790.39924396879\n"
          ]
        }
      ]
    },
    {
      "cell_type": "code",
      "source": [
        "model.coef_"
      ],
      "metadata": {
        "colab": {
          "base_uri": "https://localhost:8080/"
        },
        "id": "I0DDWS8-GCsG",
        "outputId": "26adaf23-d3da-4140-87fe-2524871f4000"
      },
      "execution_count": 411,
      "outputs": [
        {
          "output_type": "execute_result",
          "data": {
            "text/plain": [
              "array([-0.00000000e+00,  1.54828631e-01,  8.20842791e-02,  6.38294066e-02,\n",
              "        2.25962292e-02,  2.83116779e-02,  1.87495736e-02,  2.82111430e-02,\n",
              "        2.93284670e-02,  1.04903341e-01,  5.42636202e-02,  3.72801112e-03,\n",
              "        1.71664627e-04,  4.96473262e-02,  1.78826816e-02, -2.48909153e-03,\n",
              "        2.21402985e-02,  1.72581903e-02,  0.00000000e+00,  1.89992042e-02,\n",
              "        7.87897061e-03,  4.52894523e-02, -0.00000000e+00,  0.00000000e+00,\n",
              "        3.53238971e-04, -3.72882006e-04,  0.00000000e+00,  3.12911773e-04,\n",
              "        1.29786495e-05,  0.00000000e+00, -3.70622300e-06,  3.75807019e-05,\n",
              "       -4.76641201e-03,  3.76093166e-02, -2.77889891e-02,  8.16468360e-05,\n",
              "       -8.33689987e-03])"
            ]
          },
          "metadata": {},
          "execution_count": 411
        }
      ]
    },
    {
      "cell_type": "code",
      "source": [],
      "metadata": {
        "id": "k_xIO8ieGLjL"
      },
      "execution_count": 269,
      "outputs": []
    }
  ],
  "metadata": {
    "colab": {
      "provenance": [],
      "collapsed_sections": [
        "b5HUXPzEHbNb"
      ]
    },
    "kernelspec": {
      "display_name": "Python 3 (ipykernel)",
      "language": "python",
      "name": "python3"
    },
    "language_info": {
      "codemirror_mode": {
        "name": "ipython",
        "version": 3
      },
      "file_extension": ".py",
      "mimetype": "text/x-python",
      "name": "python",
      "nbconvert_exporter": "python",
      "pygments_lexer": "ipython3",
      "version": "3.8.2"
    }
  },
  "nbformat": 4,
  "nbformat_minor": 0
}