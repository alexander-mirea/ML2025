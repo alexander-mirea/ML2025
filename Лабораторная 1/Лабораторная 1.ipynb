{
  "cells": [
    {
      "cell_type": "markdown",
      "metadata": {
        "id": "icLMww9IFm1j"
      },
      "source": [
        "# Лабораторная №1. Обработка данных.\n"
      ]
    },
    {
      "cell_type": "code",
      "execution_count": 2,
      "metadata": {
        "id": "1i3T35pV1yqk"
      },
      "outputs": [],
      "source": [
        "import pandas as pd\n",
        "import numpy as np\n",
        "import matplotlib.pyplot as plt\n",
        "import seaborn as sns"
      ]
    },
    {
      "cell_type": "markdown",
      "source": [
        "Номер варианта = номер в группе mod 10"
      ],
      "metadata": {
        "id": "NqCfayZ7W9Nn"
      }
    },
    {
      "cell_type": "code",
      "execution_count": null,
      "metadata": {
        "id": "2jd8W0L8y4wE"
      },
      "outputs": [],
      "source": [
        "df = pd.read_csv('data.csv')#, index_col=0)\n",
        "df.tail(3)"
      ]
    },
    {
      "cell_type": "markdown",
      "source": [
        "Задача:\n",
        "\n",
        "1. Обработайте набор данных, подготовив его к решению задачи регрессии/классификации. Целевой признак указан в последнем столбце таблицы.\n",
        "\n",
        "2. Разделите набор данных на обучающую и тестовую выборку (80/20).\n",
        "\n",
        "3. Примените модель линейной/логистической регрессии. Оцените точность построенной модели.\n",
        "\n",
        "4. Постарайтесь улучшить результат. Модель настраивать можно (в т.ч. регуляризация), менять нельзя.\n"
      ],
      "metadata": {
        "id": "8Ij9u9QUU8jj"
      }
    },
    {
      "cell_type": "code",
      "source": [],
      "metadata": {
        "id": "lS_1AeN7wyWQ"
      },
      "execution_count": null,
      "outputs": []
    }
  ],
  "metadata": {
    "colab": {
      "provenance": []
    },
    "kernelspec": {
      "display_name": "Python 3 (ipykernel)",
      "language": "python",
      "name": "python3"
    },
    "language_info": {
      "codemirror_mode": {
        "name": "ipython",
        "version": 3
      },
      "file_extension": ".py",
      "mimetype": "text/x-python",
      "name": "python",
      "nbconvert_exporter": "python",
      "pygments_lexer": "ipython3",
      "version": "3.8.2"
    }
  },
  "nbformat": 4,
  "nbformat_minor": 0
}